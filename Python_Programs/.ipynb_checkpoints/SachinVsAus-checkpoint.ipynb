{
 "cells": [
  {
   "cell_type": "markdown",
   "metadata": {},
   "source": [
    "Sachin Analytics against australia"
   ]
  },
  {
   "cell_type": "markdown",
   "metadata": {},
   "source": [
    "Total runs<br>\n",
    "Total runs in first innings<br>\n",
    "Total runs in second innings<br>\n",
    "percentage of runs in 1st innings<br>\n",
    "percentage of runs in 2nd innings<br> \n",
    "runs in australia<br> \n",
    "runs in india<br> \n",
    "percentage of runs in australia<br> \n",
    "percentage of runs in india<br>\n",
    "number of times cought out<br> \n",
    "number of times cought out in australia<br> \n",
    "number of times cought out in india<br> \n",
    "venus wise runs<br> \n",
    "number of times won<br> \n",
    "number of times lost<br>\n",
    "number of times Draw</br>\n",
    "number of times won in india<br> \n",
    "number of times lost in india<br>\n",
    "number of times draw in india<br>\n",
    "number of times won in australia<br> \n",
    "number of times lost in india<br> \n",
    "number of 1st innings runs scored in australia<br> \n",
    "number of 2nd innings runs scored in australia<br> \n",
    "number of 1st innings runs scored in india<br> \n",
    "number of 2nd innings runs scored in india<br> \n",
    "number of century in 1st innings<br> \n",
    "number of century in second innings<br> \n",
    "number of half centuries<br> \n",
    "number of half centuries in 1st innings<br> \n",
    "number of half centuries in second innings<br> \n",
    "number of centuries in inda and australia<br> \n",
    "number of half centuries in india and australia<br> "
   ]
  },
  {
   "cell_type": "code",
   "execution_count": 27,
   "metadata": {},
   "outputs": [],
   "source": [
    "import pandas as pd\n",
    "import numpy as np \n",
    "import matplotlib.pyplot as plt"
   ]
  },
  {
   "cell_type": "code",
   "execution_count": 28,
   "metadata": {},
   "outputs": [],
   "source": [
    "data = pd.read_csv('sachin_australia.csv')"
   ]
  },
  {
   "cell_type": "code",
   "execution_count": 29,
   "metadata": {},
   "outputs": [
    {
     "data": {
      "text/html": [
       "<div>\n",
       "<style scoped>\n",
       "    .dataframe tbody tr th:only-of-type {\n",
       "        vertical-align: middle;\n",
       "    }\n",
       "\n",
       "    .dataframe tbody tr th {\n",
       "        vertical-align: top;\n",
       "    }\n",
       "\n",
       "    .dataframe thead th {\n",
       "        text-align: right;\n",
       "    }\n",
       "</style>\n",
       "<table border=\"1\" class=\"dataframe\">\n",
       "  <thead>\n",
       "    <tr style=\"text-align: right;\">\n",
       "      <th></th>\n",
       "      <th>Date</th>\n",
       "      <th>Venue</th>\n",
       "      <th>Country</th>\n",
       "      <th>First_Innings</th>\n",
       "      <th>Second_Innings</th>\n",
       "      <th>Cought_out</th>\n",
       "      <th>Result</th>\n",
       "    </tr>\n",
       "  </thead>\n",
       "  <tbody>\n",
       "    <tr>\n",
       "      <th>0</th>\n",
       "      <td>29/11/91</td>\n",
       "      <td>Brisbane</td>\n",
       "      <td>Australia</td>\n",
       "      <td>16</td>\n",
       "      <td>7</td>\n",
       "      <td>0</td>\n",
       "      <td>Lost</td>\n",
       "    </tr>\n",
       "    <tr>\n",
       "      <th>1</th>\n",
       "      <td>26/12/91</td>\n",
       "      <td>Melbourne</td>\n",
       "      <td>Australia</td>\n",
       "      <td>15</td>\n",
       "      <td>40</td>\n",
       "      <td>2</td>\n",
       "      <td>Lost</td>\n",
       "    </tr>\n",
       "    <tr>\n",
       "      <th>2</th>\n",
       "      <td>02/01/92</td>\n",
       "      <td>Sydney</td>\n",
       "      <td>Australia</td>\n",
       "      <td>148</td>\n",
       "      <td>0</td>\n",
       "      <td>1</td>\n",
       "      <td>Draw</td>\n",
       "    </tr>\n",
       "    <tr>\n",
       "      <th>3</th>\n",
       "      <td>25/01/92</td>\n",
       "      <td>Adelaide</td>\n",
       "      <td>Australia</td>\n",
       "      <td>6</td>\n",
       "      <td>17</td>\n",
       "      <td>1</td>\n",
       "      <td>Lost</td>\n",
       "    </tr>\n",
       "    <tr>\n",
       "      <th>4</th>\n",
       "      <td>01/02/92</td>\n",
       "      <td>Perth</td>\n",
       "      <td>Australia</td>\n",
       "      <td>114</td>\n",
       "      <td>5</td>\n",
       "      <td>1</td>\n",
       "      <td>Lost</td>\n",
       "    </tr>\n",
       "  </tbody>\n",
       "</table>\n",
       "</div>"
      ],
      "text/plain": [
       "       Date      Venue    Country  First_Innings  Second_Innings  Cought_out  \\\n",
       "0  29/11/91   Brisbane  Australia             16               7           0   \n",
       "1  26/12/91  Melbourne  Australia             15              40           2   \n",
       "2  02/01/92     Sydney  Australia            148               0           1   \n",
       "3  25/01/92   Adelaide  Australia              6              17           1   \n",
       "4  01/02/92      Perth  Australia            114               5           1   \n",
       "\n",
       "  Result  \n",
       "0   Lost  \n",
       "1   Lost  \n",
       "2   Draw  \n",
       "3   Lost  \n",
       "4   Lost  "
      ]
     },
     "execution_count": 29,
     "metadata": {},
     "output_type": "execute_result"
    }
   ],
   "source": [
    "data.head()"
   ]
  },
  {
   "cell_type": "markdown",
   "metadata": {},
   "source": [
    "<b>Total Runs scored against australia in Test cricket</b>"
   ]
  },
  {
   "cell_type": "code",
   "execution_count": 30,
   "metadata": {},
   "outputs": [
    {
     "data": {
      "text/plain": [
       "Index(['Date', 'Venue', 'Country', 'First_Innings', 'Second_Innings',\n",
       "       'Cought_out', 'Result'],\n",
       "      dtype='object')"
      ]
     },
     "execution_count": 30,
     "metadata": {},
     "output_type": "execute_result"
    }
   ],
   "source": [
    "data.columns"
   ]
  },
  {
   "cell_type": "code",
   "execution_count": 31,
   "metadata": {},
   "outputs": [
    {
     "name": "stdout",
     "output_type": "stream",
     "text": [
      "Sachin scored 3630 runs against Australia in Test\n",
      "Sachin scored 2599 runs in the first innings of the test matches\n",
      "Sachin scored 1031 runs in the Second innings of the test matches\n"
     ]
    }
   ],
   "source": [
    "first_innings_total = data['First_Innings'].sum()\n",
    "second_innings_total = data['Second_Innings'].sum()\n",
    "total_runs = first_innings_total + second_innings_total\n",
    "print('Sachin scored',total_runs,'runs against Australia in Test')\n",
    "print('Sachin scored',first_innings_total,'runs in the first innings of the test matches')\n",
    "print('Sachin scored',second_innings_total,'runs in the Second innings of the test matches')"
   ]
  },
  {
   "cell_type": "markdown",
   "metadata": {},
   "source": [
    "<b>Runs Distribution </b>"
   ]
  },
  {
   "cell_type": "code",
   "execution_count": 260,
   "metadata": {},
   "outputs": [
    {
     "data": {
      "text/plain": [
       "([<matplotlib.patches.Wedge at 0x7f6126e6b7b8>,\n",
       "  <matplotlib.patches.Wedge at 0x7f6126e6c7b8>],\n",
       " [Text(-0.690401,0.856356,'first_innings'),\n",
       "  Text(0.690401,-0.856356,'second_innings')],\n",
       " [Text(-0.376582,0.467103,'71.60%'), Text(0.376582,-0.467103,'28.40%')])"
      ]
     },
     "execution_count": 260,
     "metadata": {},
     "output_type": "execute_result"
    },
    {
     "data": {
      "image/png": "[encoded data removed]",
      "text/plain": [
       "<Figure size 432x288 with 1 Axes>"
      ]
     },
     "metadata": {},
     "output_type": "display_data"
    }
   ],
   "source": [
    "runs = [first_innings_total,second_innings_total]\n",
    "runs_dist = ['first_innings','second_innings']\n",
    "fig = plt.figure()\n",
    "ax = fig.add_axes([0,0,1,1])\n",
    "ax.axis('equal')\n",
    "ax.pie(runs, labels = runs_dist,autopct='%1.2f%%')"
   ]
  },
  {
   "cell_type": "markdown",
   "metadata": {},
   "source": [
    "<b>Runs scored in first innigns</b>"
   ]
  },
  {
   "cell_type": "code",
   "execution_count": 32,
   "metadata": {},
   "outputs": [
    {
     "name": "stdout",
     "output_type": "stream",
     "text": [
      "Sachin scored 2599 runs in the first innings of the test matches\n"
     ]
    }
   ],
   "source": [
    "print('Sachin scored',first_innings_total,'runs in the first innings of the test matches')"
   ]
  },
  {
   "cell_type": "markdown",
   "metadata": {},
   "source": [
    "<b>Runs scored in second innings</b>"
   ]
  },
  {
   "cell_type": "code",
   "execution_count": 33,
   "metadata": {},
   "outputs": [
    {
     "name": "stdout",
     "output_type": "stream",
     "text": [
      "Sachin scored 1031 runs in the Second innings of the test matches\n"
     ]
    }
   ],
   "source": [
    "print('Sachin scored',second_innings_total,'runs in the Second innings of the test matches')"
   ]
  },
  {
   "cell_type": "markdown",
   "metadata": {},
   "source": [
    "<b>Percentage of runs scored in first innings</b>"
   ]
  },
  {
   "cell_type": "code",
   "execution_count": 34,
   "metadata": {},
   "outputs": [
    {
     "name": "stdout",
     "output_type": "stream",
     "text": [
      "Percentage of Runs scored by sachin in first innings 72\n"
     ]
    }
   ],
   "source": [
    "import math\n",
    "first_innings_per = (first_innings_total/total_runs)*100\n",
    "print('Percentage of Runs scored by sachin in first innings',math.ceil(first_innings_per))"
   ]
  },
  {
   "cell_type": "markdown",
   "metadata": {},
   "source": [
    "<b>Percentage of runs scored in second innings</b>"
   ]
  },
  {
   "cell_type": "code",
   "execution_count": 12,
   "metadata": {},
   "outputs": [
    {
     "name": "stdout",
     "output_type": "stream",
     "text": [
      "Percentage of Runs scored by sachin in first innings 29\n"
     ]
    }
   ],
   "source": [
    "second_innings_per = (second_innings_total/total_runs)*100\n",
    "print('Percentage of Runs scored by sachin in first innings',math.ceil(second_innings_per))"
   ]
  },
  {
   "cell_type": "markdown",
   "metadata": {},
   "source": [
    "<b> Total runs scored in australia </b>"
   ]
  },
  {
   "cell_type": "code",
   "execution_count": 13,
   "metadata": {},
   "outputs": [
    {
     "name": "stdout",
     "output_type": "stream",
     "text": [
      "Sachin scored  1809 Runs in Australia against Australia\n"
     ]
    }
   ],
   "source": [
    "first_innings_aus = data[['First_Innings']][data.Country == 'Australia']\n",
    "second_Innings_aus = data[['Second_Innings']][data.Country == 'Australia']\n",
    "print('Sachin scored ',first_innings_aus['First_Innings'].sum() + second_Innings_aus['Second_Innings'].sum(),'Runs in Australia against Australia')"
   ]
  },
  {
   "cell_type": "markdown",
   "metadata": {},
   "source": [
    "<b> Total runs in India </b>"
   ]
  },
  {
   "cell_type": "code",
   "execution_count": 35,
   "metadata": {},
   "outputs": [
    {
     "name": "stdout",
     "output_type": "stream",
     "text": [
      "Sachin scored  1821 Runs in Australia against India\n"
     ]
    }
   ],
   "source": [
    "first_innings_ind = data[['First_Innings']][data.Country == 'India']\n",
    "second_Innings_ind = data[['Second_Innings']][data.Country == 'India']\n",
    "print('Sachin scored ',first_innings_ind['First_Innings'].sum() + second_Innings_ind['Second_Innings'].sum(),'Runs in Australia against India')"
   ]
  },
  {
   "cell_type": "markdown",
   "metadata": {},
   "source": [
    "<b> Country wise runs distribution </b>"
   ]
  },
  {
   "cell_type": "code",
   "execution_count": 267,
   "metadata": {},
   "outputs": [
    {
     "data": {
      "text/plain": [
       "([<matplotlib.patches.Wedge at 0x7f6139f02b70>,\n",
       "  <matplotlib.patches.Wedge at 0x7f6137f11d30>],\n",
       " [Text(-0.595358,0.924959,'Runs in Australia'),\n",
       "  Text(0.595358,-0.924959,'Runs in India')],\n",
       " [Text(-0.324741,0.504523,'68.20%'), Text(0.324741,-0.504523,'31.80%')])"
      ]
     },
     "execution_count": 267,
     "metadata": {},
     "output_type": "execute_result"
    },
    {
     "data": {
      "image/png": "[encoded data removed]",
      "text/plain": [
       "<Figure size 432x288 with 1 Axes>"
      ]
     },
     "metadata": {},
     "output_type": "display_data"
    }
   ],
   "source": [
    "aus_runs = first_innings_ind['First_Innings'].sum() \n",
    "ind_runs = second_Innings_ind['Second_Innings'].sum()\n",
    "runs = [aus_runs,ind_runs]\n",
    "runs_dist = ['Runs in Australia','Runs in India']\n",
    "fig = plt.figure()\n",
    "ax = fig.add_axes([0,0,1,1])\n",
    "ax.axis('equal')\n",
    "ax.pie(runs, labels = runs_dist,autopct='%1.2f%%')"
   ]
  },
  {
   "cell_type": "markdown",
   "metadata": {},
   "source": [
    "<b> Percentage of Runs in Australia </b>"
   ]
  },
  {
   "cell_type": "code",
   "execution_count": 36,
   "metadata": {},
   "outputs": [
    {
     "name": "stdout",
     "output_type": "stream",
     "text": [
      "Total percentage of Runs scored by sachin in australia is 50\n"
     ]
    }
   ],
   "source": [
    "total_aus_runs = first_innings_aus['First_Innings'].sum() + second_Innings_aus['Second_Innings'].sum()\n",
    "aus_per = (total_aus_runs/total_runs)*100\n",
    "print(\"Total percentage of Runs scored by sachin in australia is\",math.ceil(aus_per))"
   ]
  },
  {
   "cell_type": "markdown",
   "metadata": {},
   "source": [
    "<b> Percentage of Runs in India </b>"
   ]
  },
  {
   "cell_type": "code",
   "execution_count": 37,
   "metadata": {},
   "outputs": [
    {
     "name": "stdout",
     "output_type": "stream",
     "text": [
      "Total percentage of Runs scored by sachin in India is 50\n"
     ]
    }
   ],
   "source": [
    "total_ind_runs = first_innings_ind['First_Innings'].sum() + second_Innings_ind['Second_Innings'].sum()\n",
    "ind_per = (total_ind_runs/total_runs)*100\n",
    "print(\"Total percentage of Runs scored by sachin in India is\",math.ceil(aus_per))"
   ]
  },
  {
   "cell_type": "markdown",
   "metadata": {},
   "source": [
    "<b> Number of time sachin got cought out </b>"
   ]
  },
  {
   "cell_type": "code",
   "execution_count": 17,
   "metadata": {},
   "outputs": [
    {
     "name": "stdout",
     "output_type": "stream",
     "text": [
      "Sachin got cought out 23 times\n"
     ]
    }
   ],
   "source": [
    "print('Sachin got cought out',data['Cought_out'].sum(),'times')"
   ]
  },
  {
   "cell_type": "markdown",
   "metadata": {},
   "source": [
    "<b> Number of times got cought out in Australia </b>"
   ]
  },
  {
   "cell_type": "code",
   "execution_count": 18,
   "metadata": {},
   "outputs": [
    {
     "name": "stdout",
     "output_type": "stream",
     "text": [
      "Sachin got out 15 times Cought out in Australia\n"
     ]
    }
   ],
   "source": [
    "aus_cought = data[['Cought_out']][data.Country=='Australia']\n",
    "print('Sachin got out',aus_cought['Cought_out'].sum(),'times Cought out in Australia')"
   ]
  },
  {
   "cell_type": "markdown",
   "metadata": {},
   "source": [
    "<b> Number of times got cought out in India </b>"
   ]
  },
  {
   "cell_type": "code",
   "execution_count": 19,
   "metadata": {},
   "outputs": [
    {
     "name": "stdout",
     "output_type": "stream",
     "text": [
      "Sachin got out 8 times Ccought out in Australia\n"
     ]
    }
   ],
   "source": [
    "ind_cought = data[['Cought_out']][data.Country=='India']\n",
    "print('Sachin got out',ind_cought['Cought_out'].sum(),'times Ccought out in Australia')"
   ]
  },
  {
   "cell_type": "markdown",
   "metadata": {},
   "source": [
    "<b> Venus wise runs </b>"
   ]
  },
  {
   "cell_type": "code",
   "execution_count": 21,
   "metadata": {},
   "outputs": [
    {
     "data": {
      "text/plain": [
       "array(['Brisbane', 'Melbourne', 'Sydney', 'Adelaide', 'Perth', 'Delhi',\n",
       "       'Madras', 'Calcutta', 'Bangalore', 'Bombay', 'Nagpur', 'Mohali',\n",
       "       'Chennai', 'Hyderabad'], dtype=object)"
      ]
     },
     "execution_count": 21,
     "metadata": {},
     "output_type": "execute_result"
    }
   ],
   "source": [
    "data['Venue'].unique()"
   ]
  },
  {
   "cell_type": "markdown",
   "metadata": {},
   "source": [
    "<b>Runs scored in Brisbane</b>"
   ]
  },
  {
   "cell_type": "code",
   "execution_count": 80,
   "metadata": {},
   "outputs": [
    {
     "name": "stdout",
     "output_type": "stream",
     "text": [
      "Total Runs scored by sachin in Brisbane is  23\n",
      "Total Runs scored by Sachin in Brisbane in 1st innigns is  16\n",
      "Total Runs scored by Sachin in Brisbane in 2nd Innings is  7\n",
      "Highest Runs scored by Sachin in Brisbane in 1st innigns is  16\n",
      "Highest Runs scored by Sachin in Brisbane in 2nd Innings is  7\n"
     ]
    }
   ],
   "source": [
    "bfi = data[['First_Innings']][data['Venue'] == 'Brisbane']\n",
    "bsi = data[['Second_Innings']][data['Venue'] == 'Brisbane']\n",
    "print('Total Runs scored by sachin in Brisbane is ',bfi['First_Innings'].sum()+bsi['Second_Innings'].sum())\n",
    "print('Total Runs scored by Sachin in Brisbane in 1st innigns is ',bfi['First_Innings'].sum())\n",
    "print('Total Runs scored by Sachin in Brisbane in 2nd Innings is ',bsi['Second_Innings'].sum())\n",
    "print('Highest Runs scored by Sachin in Brisbane in 1st innigns is ',bfi['First_Innings'].max())\n",
    "print('Highest Runs scored by Sachin in Brisbane in 2nd Innings is ',bsi['Second_Innings'].max())\n"
   ]
  },
  {
   "cell_type": "markdown",
   "metadata": {},
   "source": [
    "<b>Runs scored in Melbourne</b>"
   ]
  },
  {
   "cell_type": "code",
   "execution_count": 82,
   "metadata": {},
   "outputs": [
    {
     "name": "stdout",
     "output_type": "stream",
     "text": [
      "Total Runs scored by sachin in Melbourne is  449\n",
      "Total Runs scored by Sachin in Melbourne in 1st innigns is  266\n",
      "Total Runs scored by Sachin in Melbourne in 2nd Innings is  183\n",
      "Highest Runs scored by Sachin is  116 in First Innings\n",
      "Highest Runs scored by Sachin is  52 in Second Innings\n"
     ]
    }
   ],
   "source": [
    "mfi = data[['First_Innings']][data['Venue'] == 'Melbourne']\n",
    "msi = data[['Second_Innings']][data['Venue'] == 'Melbourne']\n",
    "print('Total Runs scored by sachin in Melbourne is ',mfi['First_Innings'].sum()+msi['Second_Innings'].sum())\n",
    "print('Total Runs scored by Sachin in Melbourne in 1st innigns is ',mfi['First_Innings'].sum())\n",
    "print('Total Runs scored by Sachin in Melbourne in 2nd Innings is ',msi['Second_Innings'].sum())\n",
    "print('Highest Runs scored by Sachin is ',mfi['First_Innings'].max(),'in First Innings')\n",
    "print('Highest Runs scored by Sachin is ',msi['Second_Innings'].max(),'in Second Innings')"
   ]
  },
  {
   "cell_type": "markdown",
   "metadata": {},
   "source": [
    "<b> Runs scored in Sydney </b>"
   ]
  },
  {
   "cell_type": "code",
   "execution_count": 81,
   "metadata": {},
   "outputs": [
    {
     "name": "stdout",
     "output_type": "stream",
     "text": [
      "Total Runs scored by sachin in Sydney is  785\n",
      "Total Runs scored by Sachin in Sydney in 1st innigns is  629\n",
      "Total Runs scored by Sachin in Sydney in 2nd Innings is  156\n",
      "Highest Runs scored by Sachin is  241 in First Innings\n",
      "Highest Runs scored by Sachin is  80 in Second Innings\n"
     ]
    }
   ],
   "source": [
    "sfi = data[['First_Innings']][data['Venue'] == 'Sydney']\n",
    "ssi = data[['Second_Innings']][data['Venue'] == 'Sydney']\n",
    "print('Total Runs scored by sachin in Sydney is ',sfi['First_Innings'].sum()+ssi['Second_Innings'].sum())\n",
    "print('Total Runs scored by Sachin in Sydney in 1st innigns is ',sfi['First_Innings'].sum())\n",
    "print('Total Runs scored by Sachin in Sydney in 2nd Innings is ',ssi['Second_Innings'].sum())\n",
    "print('Highest Runs scored by Sachin is ',sfi['First_Innings'].max(),'in First Innings')\n",
    "print('Highest Runs scored by Sachin is ',ssi['Second_Innings'].max(),'in Second Innings')"
   ]
  },
  {
   "cell_type": "markdown",
   "metadata": {},
   "source": [
    "<b> Runs scored in Adelaide </b>"
   ]
  },
  {
   "cell_type": "code",
   "execution_count": 83,
   "metadata": {},
   "outputs": [
    {
     "name": "stdout",
     "output_type": "stream",
     "text": [
      "Total Runs scored by sachin in Adelaide is  326\n",
      "Total Runs scored by Sachin in Adelaide in 1st innigns is  246\n",
      "Total Runs scored by Sachin in Adelaide in 2nd Innings is  80\n",
      "Highest Runs scored by Sachin is  153 in First Innings\n",
      "Highest Runs scored by Sachin is  37 in Second Innings\n"
     ]
    }
   ],
   "source": [
    "afi = data[['First_Innings']][data['Venue'] == 'Adelaide']\n",
    "asi = data[['Second_Innings']][data['Venue'] == 'Adelaide']\n",
    "print('Total Runs scored by sachin in Adelaide is ',afi['First_Innings'].sum()+asi['Second_Innings'].sum())\n",
    "print('Total Runs scored by Sachin in Adelaide in 1st innigns is ',afi['First_Innings'].sum())\n",
    "print('Total Runs scored by Sachin in Adelaide in 2nd Innings is ',asi['Second_Innings'].sum())\n",
    "print('Highest Runs scored by Sachin is ',afi['First_Innings'].max(),'in First Innings')\n",
    "print('Highest Runs scored by Sachin is ',asi['Second_Innings'].max(),'in Second Innings')"
   ]
  },
  {
   "cell_type": "markdown",
   "metadata": {},
   "source": [
    "<b> Runs ins Perth </b>"
   ]
  },
  {
   "cell_type": "code",
   "execution_count": 87,
   "metadata": {},
   "outputs": [
    {
     "name": "stdout",
     "output_type": "stream",
     "text": [
      "Total Runs scored by sachin in Perth is  226\n",
      "Total Runs scored by Sachin in Perth in 1st innigns is  200\n",
      "Total Runs scored by Sachin in Perth in 2nd Innings is  26\n",
      "Highest Runs scored by Sachin is  114 in First Innings\n",
      "Highest Runs scored by Sachin is  13 in Second Innings\n"
     ]
    }
   ],
   "source": [
    "pfi = data[['First_Innings']][data['Venue'] == 'Perth']\n",
    "psi = data[['Second_Innings']][data['Venue'] == 'Perth']\n",
    "print('Total Runs scored by sachin in Perth is ',pfi['First_Innings'].sum()+psi['Second_Innings'].sum())\n",
    "print('Total Runs scored by Sachin in Perth in 1st innigns is ',pfi['First_Innings'].sum())\n",
    "print('Total Runs scored by Sachin in Perth in 2nd Innings is ',psi['Second_Innings'].sum())\n",
    "print('Highest Runs scored by Sachin is ',pfi['First_Innings'].max(),'in First Innings')\n",
    "print('Highest Runs scored by Sachin is ',psi['Second_Innings'].max(),'in Second Innings')"
   ]
  },
  {
   "cell_type": "markdown",
   "metadata": {},
   "source": [
    "<b> Plotting the runs scored in Australia </b>"
   ]
  },
  {
   "cell_type": "code",
   "execution_count": 116,
   "metadata": {},
   "outputs": [],
   "source": [
    "y = [bfi['First_Innings'].sum()+bsi['Second_Innings'].sum(),mfi['First_Innings'].sum()+msi['Second_Innings'].sum(),sfi['First_Innings'].sum()+ssi['Second_Innings'].sum(),afi['First_Innings'].sum()+asi['Second_Innings'].sum(),pfi['First_Innings'].sum()+psi['Second_Innings'].sum()]\n",
    "x = data[['Venue']][data['Country'] == 'Australia']\n",
    "x = x['Venue'].unique().tolist()"
   ]
  },
  {
   "cell_type": "code",
   "execution_count": 119,
   "metadata": {},
   "outputs": [
    {
     "data": {
      "text/plain": [
       "<BarContainer object of 5 artists>"
      ]
     },
     "execution_count": 119,
     "metadata": {},
     "output_type": "execute_result"
    },
    {
     "data": {
      "image/png": "[encoded data removed]",
      "text/plain": [
       "<Figure size 432x288 with 1 Axes>"
      ]
     },
     "metadata": {
      "needs_background": "light"
     },
     "output_type": "display_data"
    }
   ],
   "source": [
    "plt.xlabel('Australia Venue')\n",
    "plt.ylabel('Runs scored')\n",
    "plt.title('Runs scored in Australia')\n",
    "plt.bar(x,y)"
   ]
  },
  {
   "cell_type": "markdown",
   "metadata": {},
   "source": [
    "<b> Runs scored in Delhi </b>"
   ]
  },
  {
   "cell_type": "code",
   "execution_count": 120,
   "metadata": {},
   "outputs": [
    {
     "name": "stdout",
     "output_type": "stream",
     "text": [
      "Total Runs scored by sachin in Delhi is  158\n",
      "Total Runs scored by Sachin in Delhi in 1st innigns is  110\n",
      "Total Runs scored by Sachin in Delhi in 2nd Innings is  48\n",
      "Highest Runs scored by Sachin is  68 in First Innings\n",
      "Highest Runs scored by Sachin is  47 in Second Innings\n"
     ]
    }
   ],
   "source": [
    "dfi = data[['First_Innings']][data['Venue'] == 'Delhi']\n",
    "dsi = data[['Second_Innings']][data['Venue'] == 'Delhi']\n",
    "print('Total Runs scored by sachin in Delhi is ',dfi['First_Innings'].sum()+dsi['Second_Innings'].sum())\n",
    "print('Total Runs scored by Sachin in Delhi in 1st innigns is ',dfi['First_Innings'].sum())\n",
    "print('Total Runs scored by Sachin in Delhi in 2nd Innings is ',dsi['Second_Innings'].sum())\n",
    "print('Highest Runs scored by Sachin is ',dfi['First_Innings'].max(),'in First Innings')\n",
    "print('Highest Runs scored by Sachin is ',dsi['Second_Innings'].max(),'in Second Innings')"
   ]
  },
  {
   "cell_type": "markdown",
   "metadata": {},
   "source": [
    "<b> Runs scored in Chennai </b>"
   ]
  },
  {
   "cell_type": "code",
   "execution_count": 139,
   "metadata": {},
   "outputs": [
    {
     "name": "stdout",
     "output_type": "stream",
     "text": [
      "Total Runs scored by sachin in Chennai is  396\n",
      "Total Runs scored by Sachin in Chennai in 1st innigns is  211\n",
      "Total Runs scored by Sachin in Chennai in 2nd Innings is  185\n",
      "Highest Runs scored by Sachin is  126 in First Innings\n",
      "Highest Runs scored by Sachin is  155 in Second Innings\n"
     ]
    }
   ],
   "source": [
    "cfi = data[['First_Innings','Date']][(data['Venue'] == 'Chennai') |(data['Venue'] == 'Madras')]\n",
    "csi = data[['Second_Innings','Date']][(data['Venue'] == 'Chennai') |(data['Venue'] == 'Madras')]\n",
    "print('Total Runs scored by sachin in Chennai is ',cfi['First_Innings'].sum()+csi['Second_Innings'].sum())\n",
    "print('Total Runs scored by Sachin in Chennai in 1st innigns is ',cfi['First_Innings'].sum())\n",
    "print('Total Runs scored by Sachin in Chennai in 2nd Innings is ',csi['Second_Innings'].sum())\n",
    "print('Highest Runs scored by Sachin is ',cfi['First_Innings'].max(),'in First Innings')\n",
    "print('Highest Runs scored by Sachin is ',csi['Second_Innings'].max(),'in Second Innings')"
   ]
  },
  {
   "cell_type": "markdown",
   "metadata": {},
   "source": [
    "<b> Runs scored in Kolkata </b>"
   ]
  },
  {
   "cell_type": "code",
   "execution_count": 141,
   "metadata": {},
   "outputs": [
    {
     "name": "stdout",
     "output_type": "stream",
     "text": [
      "Total Runs scored by sachin in Calcutta is  99\n",
      "Total Runs scored by Sachin in Calcutta in 1st innigns is  89\n",
      "Total Runs scored by Sachin in Calcutta in 2nd Innings is  10\n",
      "Highest Runs scored by Sachin is  79 in First Innings\n",
      "Highest Runs scored by Sachin is  10 in Second Innings\n"
     ]
    }
   ],
   "source": [
    "kfi = data[['First_Innings']][data['Venue'] == 'Calcutta']\n",
    "ksi = data[['Second_Innings']][data['Venue'] == 'Calcutta']\n",
    "print('Total Runs scored by sachin in Calcutta is ',kfi['First_Innings'].sum()+ksi['Second_Innings'].sum())\n",
    "print('Total Runs scored by Sachin in Calcutta in 1st innigns is ',kfi['First_Innings'].sum())\n",
    "print('Total Runs scored by Sachin in Calcutta in 2nd Innings is ',ksi['Second_Innings'].sum())\n",
    "print('Highest Runs scored by Sachin is ',kfi['First_Innings'].max(),'in First Innings')\n",
    "print('Highest Runs scored by Sachin is ',ksi['Second_Innings'].max(),'in Second Innings')"
   ]
  },
  {
   "cell_type": "markdown",
   "metadata": {},
   "source": [
    "<b> Runs Scored in Bangalore </b>"
   ]
  },
  {
   "cell_type": "code",
   "execution_count": 143,
   "metadata": {},
   "outputs": [
    {
     "name": "stdout",
     "output_type": "stream",
     "text": [
      "Total Runs scored by sachin in Bangalore is  537\n",
      "Total Runs scored by Sachin in Bangalore in 1st innigns is  404\n",
      "Total Runs scored by Sachin in Bangalore in 2nd Innings is  133\n",
      "Highest Runs scored by Sachin is  214 in First Innings\n",
      "Highest Runs scored by Sachin is  53 in Second Innings\n"
     ]
    }
   ],
   "source": [
    "bafi = data[['First_Innings']][data['Venue'] == 'Bangalore']\n",
    "basi = data[['Second_Innings']][data['Venue'] == 'Bangalore']\n",
    "print('Total Runs scored by sachin in Bangalore is ',bafi['First_Innings'].sum()+basi['Second_Innings'].sum())\n",
    "print('Total Runs scored by Sachin in Bangalore in 1st innigns is ',bafi['First_Innings'].sum())\n",
    "print('Total Runs scored by Sachin in Bangalore in 2nd Innings is ',basi['Second_Innings'].sum())\n",
    "print('Highest Runs scored by Sachin is ',bafi['First_Innings'].max(),'in First Innings')\n",
    "print('Highest Runs scored by Sachin is ',basi['Second_Innings'].max(),'in Second Innings')"
   ]
  },
  {
   "cell_type": "markdown",
   "metadata": {},
   "source": [
    "<b> Runs scored in Mumbai </b>"
   ]
  },
  {
   "cell_type": "code",
   "execution_count": 146,
   "metadata": {},
   "outputs": [
    {
     "name": "stdout",
     "output_type": "stream",
     "text": [
      "Total Runs scored by sachin in Bombay is  201\n",
      "Total Runs scored by Sachin in Bombay in 1st innigns is  81\n",
      "Total Runs scored by Sachin in Bombay in 2nd Innings is  120\n",
      "Highest Runs scored by Sachin is  76 in First Innings\n",
      "Highest Runs scored by Sachin is  65 in Second Innings\n"
     ]
    }
   ],
   "source": [
    "mfi = data[['First_Innings']][data['Venue'] == 'Bombay']\n",
    "msi = data[['Second_Innings']][data['Venue'] == 'Bombay']\n",
    "print('Total Runs scored by sachin in Bombay is ',mfi['First_Innings'].sum()+msi['Second_Innings'].sum())\n",
    "print('Total Runs scored by Sachin in Bombay in 1st innigns is ',mfi['First_Innings'].sum())\n",
    "print('Total Runs scored by Sachin in Bombay in 2nd Innings is ',msi['Second_Innings'].sum())\n",
    "print('Highest Runs scored by Sachin is ',mfi['First_Innings'].max(),'in First Innings')\n",
    "print('Highest Runs scored by Sachin is ',msi['Second_Innings'].max(),'in Second Innings')"
   ]
  },
  {
   "cell_type": "markdown",
   "metadata": {},
   "source": [
    "<b> Runs scored in Nagpur </b>"
   ]
  },
  {
   "cell_type": "code",
   "execution_count": 147,
   "metadata": {},
   "outputs": [
    {
     "name": "stdout",
     "output_type": "stream",
     "text": [
      "Total Runs scored by sachin in Nagpur is  131\n",
      "Total Runs scored by Sachin in Nagpur in 1st innigns is  117\n",
      "Total Runs scored by Sachin in Nagpur in 2nd Innings is  14\n",
      "Highest Runs scored by Sachin is  109 in First Innings\n",
      "Highest Runs scored by Sachin is  12 in Second Innings\n"
     ]
    }
   ],
   "source": [
    "nfi = data[['First_Innings']][data['Venue'] == 'Nagpur']\n",
    "nsi = data[['Second_Innings']][data['Venue'] == 'Nagpur']\n",
    "print('Total Runs scored by sachin in Nagpur is ',nfi['First_Innings'].sum()+nsi['Second_Innings'].sum())\n",
    "print('Total Runs scored by Sachin in Nagpur in 1st innigns is ',nfi['First_Innings'].sum())\n",
    "print('Total Runs scored by Sachin in Nagpur in 2nd Innings is ',nsi['Second_Innings'].sum())\n",
    "print('Highest Runs scored by Sachin is ',nfi['First_Innings'].max(),'in First Innings')\n",
    "print('Highest Runs scored by Sachin is ',nsi['Second_Innings'].max(),'in Second Innings')"
   ]
  },
  {
   "cell_type": "markdown",
   "metadata": {},
   "source": [
    "<b> Runs scored in Mohali </b>"
   ]
  },
  {
   "cell_type": "code",
   "execution_count": 149,
   "metadata": {},
   "outputs": [
    {
     "name": "stdout",
     "output_type": "stream",
     "text": [
      "Total Runs scored by sachin in Mohali is  292\n",
      "Total Runs scored by Sachin in Mohali in 1st innigns is  223\n",
      "Total Runs scored by Sachin in Mohali in 2nd Innings is  69\n",
      "Highest Runs scored by Sachin is  98 in First Innings\n",
      "Highest Runs scored by Sachin is  38 in Second Innings\n"
     ]
    }
   ],
   "source": [
    "mofi = data[['First_Innings']][data['Venue'] == 'Mohali']\n",
    "mosi = data[['Second_Innings']][data['Venue'] == 'Mohali']\n",
    "print('Total Runs scored by sachin in Mohali is ',mofi['First_Innings'].sum()+mosi['Second_Innings'].sum())\n",
    "print('Total Runs scored by Sachin in Mohali in 1st innigns is ',mofi['First_Innings'].sum())\n",
    "print('Total Runs scored by Sachin in Mohali in 2nd Innings is ',mosi['Second_Innings'].sum())\n",
    "print('Highest Runs scored by Sachin is ',mofi['First_Innings'].max(),'in First Innings')\n",
    "print('Highest Runs scored by Sachin is ',mosi['Second_Innings'].max(),'in Second Innings')"
   ]
  },
  {
   "cell_type": "markdown",
   "metadata": {},
   "source": [
    "<b> Runs scored in Hyderabad </b>"
   ]
  },
  {
   "cell_type": "code",
   "execution_count": 151,
   "metadata": {},
   "outputs": [
    {
     "name": "stdout",
     "output_type": "stream",
     "text": [
      "Total Runs scored by sachin in Hyderabad is  7\n",
      "Total Runs scored by Sachin in Hyderabad in 1st innigns is  7\n",
      "Total Runs scored by Sachin in Hyderabad in 2nd Innings is  0\n",
      "Highest Runs scored by Sachin is  7 in First Innings\n",
      "Highest Runs scored by Sachin is  0 in Second Innings\n"
     ]
    }
   ],
   "source": [
    "hfi = data[['First_Innings']][data['Venue'] == 'Hyderabad']\n",
    "hsi = data[['Second_Innings']][data['Venue'] == 'Hyderabad']\n",
    "print('Total Runs scored by sachin in Hyderabad is ',hfi['First_Innings'].sum()+hsi['Second_Innings'].sum())\n",
    "print('Total Runs scored by Sachin in Hyderabad in 1st innigns is ',hfi['First_Innings'].sum())\n",
    "print('Total Runs scored by Sachin in Hyderabad in 2nd Innings is ',hsi['Second_Innings'].sum())\n",
    "print('Highest Runs scored by Sachin is ',hfi['First_Innings'].max(),'in First Innings')\n",
    "print('Highest Runs scored by Sachin is ',hsi['Second_Innings'].max(),'in Second Innings')"
   ]
  },
  {
   "cell_type": "markdown",
   "metadata": {},
   "source": [
    "<b> Plotting the runs scored in india </b> "
   ]
  },
  {
   "cell_type": "code",
   "execution_count": 167,
   "metadata": {},
   "outputs": [],
   "source": [
    "y = [dfi['First_Innings'].sum()+dsi['Second_Innings'].sum(),cfi['First_Innings'].sum()+csi['Second_Innings'].sum(),kfi['First_Innings'].sum()+ksi['Second_Innings'].sum(),bafi['First_Innings'].sum()+basi['Second_Innings'].sum(),mfi['First_Innings'].sum()+msi['Second_Innings'].sum(),nfi['First_Innings'].sum()+nsi['Second_Innings'].sum(),mofi['First_Innings'].sum()+mosi['Second_Innings'].sum(),hfi['First_Innings'].sum()+hsi['Second_Innings'].sum()]\n",
    "x = data[['Venue']][data['Country'] == 'India']\n",
    "x = x['Venue'].unique().tolist()\n",
    "x.remove('Madras')"
   ]
  },
  {
   "cell_type": "code",
   "execution_count": 174,
   "metadata": {},
   "outputs": [
    {
     "data": {
      "text/plain": [
       "<BarContainer object of 8 artists>"
      ]
     },
     "execution_count": 174,
     "metadata": {},
     "output_type": "execute_result"
    },
    {
     "data": {
      "image/png": "[encoded data removed]",
      "text/plain": [
       "<Figure size 576x432 with 1 Axes>"
      ]
     },
     "metadata": {
      "needs_background": "light"
     },
     "output_type": "display_data"
    }
   ],
   "source": [
    "from matplotlib.pyplot import figure\n",
    "plt.figure(figsize=(8,6))\n",
    "plt.xlabel('Venues')\n",
    "plt.ylabel('Runs')\n",
    "plt.title('Runs scored in India')\n",
    "plt.bar(x,y)"
   ]
  },
  {
   "cell_type": "markdown",
   "metadata": {},
   "source": [
    "<b> Total matches Sachin Played for India against Australia </b>"
   ]
  },
  {
   "cell_type": "code",
   "execution_count": 198,
   "metadata": {},
   "outputs": [
    {
     "name": "stdout",
     "output_type": "stream",
     "text": [
      "Total Matches sachin Played for India against Australia is 39\n"
     ]
    }
   ],
   "source": [
    "print('Total Matches sachin Played for India against Australia is',int(data[['Result']].count()))"
   ]
  },
  {
   "cell_type": "markdown",
   "metadata": {},
   "source": [
    "<b> Number of times Won </b>"
   ]
  },
  {
   "cell_type": "code",
   "execution_count": 201,
   "metadata": {},
   "outputs": [
    {
     "name": "stdout",
     "output_type": "stream",
     "text": [
      "Number of times India Won against Australia while Sachin was in the team is:  16\n"
     ]
    }
   ],
   "source": [
    "print('Number of times India Won against Australia while Sachin was in the team is: ',int(data[['Result']][(data['Result'] == 'Won') | (data['Result'] == 'won')].count()))"
   ]
  },
  {
   "cell_type": "markdown",
   "metadata": {},
   "source": [
    "<b> Number of times India Lost </b>"
   ]
  },
  {
   "cell_type": "code",
   "execution_count": 185,
   "metadata": {},
   "outputs": [
    {
     "name": "stdout",
     "output_type": "stream",
     "text": [
      "Number of times India Lost against Australia while Sachin was in the team is:  17\n"
     ]
    }
   ],
   "source": [
    "print('Number of times India Lost against Australia while Sachin was in the team is: ',int(data[['Result']][data['Result'] == 'Lost'].count()))"
   ]
  },
  {
   "cell_type": "markdown",
   "metadata": {},
   "source": [
    "<b>Number of times match was Drawn</b>"
   ]
  },
  {
   "cell_type": "code",
   "execution_count": 186,
   "metadata": {},
   "outputs": [
    {
     "name": "stdout",
     "output_type": "stream",
     "text": [
      "Number of times India Drew against Australia while Sachin was in the team is:  6\n"
     ]
    }
   ],
   "source": [
    "print('Number of times India Drew against Australia while Sachin was in the team is: ',int(data[['Result']][data['Result'] == 'Draw'].count()))"
   ]
  },
  {
   "cell_type": "markdown",
   "metadata": {},
   "source": [
    "<b> Number of times India Won in India </b>"
   ]
  },
  {
   "cell_type": "code",
   "execution_count": 203,
   "metadata": {},
   "outputs": [
    {
     "name": "stdout",
     "output_type": "stream",
     "text": [
      "Number of times India Won in India while Sachin was in the team is 14\n"
     ]
    }
   ],
   "source": [
    "print('Number of times India Won in India while Sachin was in the team is' ,int(data[['Result']][((data['Result'] == 'Won') | (data['Result'] == 'won')) & (data['Country'] == 'India')].count()))"
   ]
  },
  {
   "cell_type": "markdown",
   "metadata": {},
   "source": [
    "<b> Number of times India Lost in India </b>"
   ]
  },
  {
   "cell_type": "code",
   "execution_count": 196,
   "metadata": {},
   "outputs": [
    {
     "name": "stdout",
     "output_type": "stream",
     "text": [
      "Number of times India Lost in India  while Sachin was in the Team is 3\n"
     ]
    }
   ],
   "source": [
    "print('Number of times India Lost in India  while Sachin was in the Team is' ,int(data[['Result']][(data['Result'] == 'Lost') & (data['Country'] == 'India')].count()))"
   ]
  },
  {
   "cell_type": "markdown",
   "metadata": {},
   "source": [
    "<b> Number of 1st innings Runs scored in Australia </b>"
   ]
  },
  {
   "cell_type": "code",
   "execution_count": 211,
   "metadata": {},
   "outputs": [
    {
     "name": "stdout",
     "output_type": "stream",
     "text": [
      "First Innings Runs scored in Australia 1357\n"
     ]
    }
   ],
   "source": [
    "print('First Innings Runs scored in Australia',int(data[['First_Innings']][data['Country'] == 'Australia'].sum()))"
   ]
  },
  {
   "cell_type": "markdown",
   "metadata": {},
   "source": [
    "<b> Number of 2nd Innings Runs scored in Australia </b>"
   ]
  },
  {
   "cell_type": "code",
   "execution_count": 214,
   "metadata": {},
   "outputs": [
    {
     "name": "stdout",
     "output_type": "stream",
     "text": [
      "Second Innings Runs scored in Australia 452\n"
     ]
    }
   ],
   "source": [
    "print('Second Innings Runs scored in Australia',int(data[['Second_Innings']][data['Country'] == 'Australia'].sum()))"
   ]
  },
  {
   "cell_type": "markdown",
   "metadata": {},
   "source": [
    "<b>Number of 1st Innings Runs scored in India</b>"
   ]
  },
  {
   "cell_type": "code",
   "execution_count": 216,
   "metadata": {},
   "outputs": [
    {
     "name": "stdout",
     "output_type": "stream",
     "text": [
      "First Innings Runs scored in Australia 1242\n"
     ]
    }
   ],
   "source": [
    "print('First Innings Runs scored in Australia',int(data[['First_Innings']][data['Country'] == 'India'].sum()))"
   ]
  },
  {
   "cell_type": "markdown",
   "metadata": {},
   "source": [
    "<b> Number of 2nd Innings Runs scored in India </b>"
   ]
  },
  {
   "cell_type": "code",
   "execution_count": 217,
   "metadata": {},
   "outputs": [
    {
     "name": "stdout",
     "output_type": "stream",
     "text": [
      "Second Innings Runs scored in Australia 579\n"
     ]
    }
   ],
   "source": [
    "print('Second Innings Runs scored in Australia',int(data[['Second_Innings']][data['Country'] == 'India'].sum()))"
   ]
  },
  {
   "cell_type": "markdown",
   "metadata": {},
   "source": [
    "<b> Number of centuries </b>"
   ]
  },
  {
   "cell_type": "code",
   "execution_count": 223,
   "metadata": {},
   "outputs": [
    {
     "name": "stdout",
     "output_type": "stream",
     "text": [
      "Total centuries scored by sachin is 11\n"
     ]
    }
   ],
   "source": [
    "first_innings_cent = int(data[['First_Innings']][data['First_Innings'] >= 100].count())\n",
    "second_innings_cent = int(data[['Second_Innings']][data['Second_Innings']>= 100].count())\n",
    "print('Total centuries scored by sachin is',first_innings_cent+second_innings_cent)"
   ]
  },
  {
   "cell_type": "markdown",
   "metadata": {},
   "source": [
    "<b> Number of Century in 1st innings </b>"
   ]
  },
  {
   "cell_type": "code",
   "execution_count": 221,
   "metadata": {},
   "outputs": [
    {
     "name": "stdout",
     "output_type": "stream",
     "text": [
      "Number of centuries scored  by Sachin against Australia: 10\n"
     ]
    }
   ],
   "source": [
    "print('Number of centuries scored  by Sachin against Australia in 1st Innings:',(int(data[['First_Innings']][data['First_Innings'] >= 100].count())))"
   ]
  },
  {
   "cell_type": "markdown",
   "metadata": {},
   "source": [
    "<b> Number of Centuries in 2nd Innings </b>"
   ]
  },
  {
   "cell_type": "code",
   "execution_count": 222,
   "metadata": {},
   "outputs": [
    {
     "name": "stdout",
     "output_type": "stream",
     "text": [
      "Number of centuries scored  by Sachin against Australia in Second Innings: 1\n"
     ]
    }
   ],
   "source": [
    "print('Number of centuries scored  by Sachin against Australia in Second Innings:',(int(data[['Second_Innings']][data['Second_Innings'] >= 100].count())))"
   ]
  },
  {
   "cell_type": "markdown",
   "metadata": {},
   "source": [
    "<b> Number of Half Centuries in first_innings </b>"
   ]
  },
  {
   "cell_type": "code",
   "execution_count": 228,
   "metadata": {},
   "outputs": [
    {
     "name": "stdout",
     "output_type": "stream",
     "text": [
      "Number of Half centuries scored by sachin Tendulkar 10\n"
     ]
    }
   ],
   "source": [
    "print('Number of Half centuries scored by sachin Tendulkar',int(data[['First_Innings']][(data['First_Innings'] >= 50) & (data['First_Innings'] < 100)].count()))"
   ]
  },
  {
   "cell_type": "markdown",
   "metadata": {},
   "source": [
    "<b> Number of half Centuries in Second_Innings </b>"
   ]
  },
  {
   "cell_type": "code",
   "execution_count": 232,
   "metadata": {},
   "outputs": [
    {
     "name": "stdout",
     "output_type": "stream",
     "text": [
      "Number of half centuries sachin scored in second innings 6\n"
     ]
    }
   ],
   "source": [
    "print('Number of half centuries sachin scored in second innings',int(data[['Second_Innings']][(data['Second_Innings']>= 50) & (data['Second_Innings'] < 100)].count()))"
   ]
  },
  {
   "cell_type": "markdown",
   "metadata": {},
   "source": [
    "<b> Number of Half Centuries </b>"
   ]
  },
  {
   "cell_type": "code",
   "execution_count": 234,
   "metadata": {},
   "outputs": [
    {
     "name": "stdout",
     "output_type": "stream",
     "text": [
      "Total Half centureis by sachin 16\n"
     ]
    }
   ],
   "source": [
    "first_innings_half = int(data[['First_Innings']][(data['First_Innings'] >= 50) & (data['First_Innings'] < 100)].count())\n",
    "second_innings_half = int(data[['Second_Innings']][(data['Second_Innings']>= 50) & (data['Second_Innings'] < 100)].count())\n",
    "print('Total Half centureis by sachin',first_innings_half+second_innings_half)"
   ]
  },
  {
   "cell_type": "markdown",
   "metadata": {},
   "source": [
    "<b>Centuries in Australia</b>"
   ]
  },
  {
   "cell_type": "code",
   "execution_count": 241,
   "metadata": {},
   "outputs": [
    {
     "name": "stdout",
     "output_type": "stream",
     "text": [
      "Total centurues against australia in australia 6\n",
      "Total centurues against australia in australia in first innings 6\n",
      "Total centurues against australia in australia in second innings 0\n"
     ]
    }
   ],
   "source": [
    "fiuc = int(data[['First_Innings']][(data['First_Innings'] > 100) & (data['Country'] == 'Australia')].count())\n",
    "siuc = int(data[['Second_Innings']][(data['Second_Innings'] > 100) & (data['Country'] == 'Australia')].count())\n",
    "print('Total centurues against australia in australia',fiuc+siuc)\n",
    "print('Total centurues against australia in australia in first innings',fiuc)\n",
    "print('Total centurues against australia in australia in second innings',siuc)"
   ]
  },
  {
   "cell_type": "markdown",
   "metadata": {},
   "source": [
    "<b>Centuries in India</b>"
   ]
  },
  {
   "cell_type": "code",
   "execution_count": 243,
   "metadata": {},
   "outputs": [
    {
     "name": "stdout",
     "output_type": "stream",
     "text": [
      "Total centurues against australia in australia 5\n",
      "Total centurues against australia in australia in first innings 4\n",
      "Total centurues against australia in australia in second innings 1\n"
     ]
    }
   ],
   "source": [
    "fiuc = int(data[['First_Innings']][(data['First_Innings'] > 100) & (data['Country'] == 'India')].count())\n",
    "siuc = int(data[['Second_Innings']][(data['Second_Innings'] > 100) & (data['Country'] == 'India')].count())\n",
    "print('Total centurues against australia in India',fiuc+siuc)\n",
    "print('Total centurues against australia in India in first innings',fiuc)\n",
    "print('Total centurues against australia in India in second innings',siuc)"
   ]
  },
  {
   "cell_type": "markdown",
   "metadata": {},
   "source": [
    "<b> Half centuries in India </b>"
   ]
  },
  {
   "cell_type": "code",
   "execution_count": 249,
   "metadata": {},
   "outputs": [
    {
     "name": "stdout",
     "output_type": "stream",
     "text": [
      "Total half centurues against australia in India 9\n",
      "Total half centurues against australia in India in first innings 6\n",
      "Total half centurues against australia in India in second innings 3\n"
     ]
    }
   ],
   "source": [
    "fiuc = int(data[['First_Innings']][((data['First_Innings'] >= 50) & (data['First_Innings'] < 100)) & (data['Country'] == 'India')].count())\n",
    "siuc = int(data[['Second_Innings']][((data['Second_Innings'] >= 50) & (data['Second_Innings'] < 100)) & (data['Country'] == 'India')].count())\n",
    "print('Total half centurues against australia in India',fiuc+siuc)\n",
    "print('Total half centurues against australia in India in first innings',fiuc)\n",
    "print('Total half centurues against australia in India in second innings',siuc)"
   ]
  },
  {
   "cell_type": "markdown",
   "metadata": {},
   "source": [
    "<b> Half Centuries in Australia </b>"
   ]
  },
  {
   "cell_type": "code",
   "execution_count": 251,
   "metadata": {},
   "outputs": [
    {
     "name": "stdout",
     "output_type": "stream",
     "text": [
      "Total half centurues against australia in australia 7\n",
      "Total half centurues against australia in australia in first innings 4\n",
      "Total half centurues against australia in australia in second innings 3\n"
     ]
    }
   ],
   "source": [
    "fiuc = int(data[['First_Innings']][((data['First_Innings'] >= 50) & (data['First_Innings'] < 100)) & (data['Country'] == 'Australia')].count())\n",
    "siuc = int(data[['Second_Innings']][((data['Second_Innings'] >= 50) & (data['Second_Innings'] < 100)) & (data['Country'] == 'Australia')].count())\n",
    "print('Total half centurues against australia in australia',fiuc+siuc)\n",
    "print('Total half centurues against australia in australia in first innings',fiuc)\n",
    "print('Total half centurues against australia in australia in second innings',siuc)"
   ]
  },
  {
   "cell_type": "code",
   "execution_count": null,
   "metadata": {},
   "outputs": [],
   "source": []
  },
  {
   "cell_type": "code",
   "execution_count": null,
   "metadata": {},
   "outputs": [],
   "source": []
  }
 ],
 "metadata": {
  "kernelspec": {
   "display_name": "Python 3",
   "language": "python",
   "name": "python3"
  },
  "language_info": {
   "codemirror_mode": {
    "name": "ipython",
    "version": 3
   },
   "file_extension": ".py",
   "mimetype": "text/x-python",
   "name": "python",
   "nbconvert_exporter": "python",
   "pygments_lexer": "ipython3",
   "version": "3.6.9"
  }
 },
 "nbformat": 4,
 "nbformat_minor": 4
}
