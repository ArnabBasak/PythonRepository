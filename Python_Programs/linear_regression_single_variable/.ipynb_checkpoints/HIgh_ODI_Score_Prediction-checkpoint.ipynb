{
 "cells": [
  {
   "cell_type": "code",
   "execution_count": 2,
   "metadata": {},
   "outputs": [],
   "source": [
    "import pandas as pd\n",
    "import numpy as np \n",
    "from sklearn import linear_model"
   ]
  },
  {
   "cell_type": "code",
   "execution_count": 36,
   "metadata": {},
   "outputs": [],
   "source": [
    "kane = pd.read_csv('Kane.csv',sep ='\\t')\n",
    "rohit = pd.read_csv('rohit.csv',sep = '\\t')\n",
    "steve = pd.read_csv('steve.csv',sep = '\\t')"
   ]
  },
  {
   "cell_type": "code",
   "execution_count": 37,
   "metadata": {},
   "outputs": [
    {
     "name": "stdout",
     "output_type": "stream",
     "text": [
      "Total Matches played by Kane Willimson 150\n",
      "Total Number of Runs scored by Kane Willimson 6154\n"
     ]
    }
   ],
   "source": [
    "print('Total Matches played by Kane Willimson',kane['Matches'].count())\n",
    "print('Total Number of Runs scored by Kane Willimson',kane['Aggr'].max())"
   ]
  },
  {
   "cell_type": "code",
   "execution_count": 43,
   "metadata": {},
   "outputs": [
    {
     "name": "stdout",
     "output_type": "stream",
     "text": [
      "Total Matches played by Rohit Sharma 224\n",
      "Total Matches played by Rohit Sharma 9115\n"
     ]
    }
   ],
   "source": [
    "print('Total Matches played by Rohit Sharma',rohit['Matches'].count())\n",
    "print('Total Matches played by Rohit Sharma',rohit['Runs'].max())"
   ]
  },
  {
   "cell_type": "code",
   "execution_count": 42,
   "metadata": {},
   "outputs": [
    {
     "name": "stdout",
     "output_type": "stream",
     "text": [
      "Total Matches played by Steve Smith 124\n",
      "Total Matches played by Steve Smith 4148\n"
     ]
    }
   ],
   "source": [
    "print('Total Matches played by Steve Smith',steve['Matches'].count())\n",
    "print('Total Matches played by Steve Smith',steve['Runs'].max())"
   ]
  },
  {
   "cell_type": "code",
   "execution_count": 44,
   "metadata": {},
   "outputs": [
    {
     "data": {
      "text/plain": [
       "LinearRegression(copy_X=True, fit_intercept=True, n_jobs=1, normalize=False)"
      ]
     },
     "execution_count": 44,
     "metadata": {},
     "output_type": "execute_result"
    }
   ],
   "source": [
    "kane_reg = linear_model.LinearRegression()\n",
    "matches = kane[['Matches']]\n",
    "runs = kane[['Aggr']]\n",
    "kane_reg.fit(runs,matches)"
   ]
  },
  {
   "cell_type": "code",
   "execution_count": 46,
   "metadata": {},
   "outputs": [
    {
     "data": {
      "text/plain": [
       "427"
      ]
     },
     "execution_count": 46,
     "metadata": {},
     "output_type": "execute_result"
    }
   ],
   "source": [
    "kane_reg.predict(18246)"
   ]
  },
  {
   "cell_type": "code",
   "execution_count": null,
   "metadata": {},
   "outputs": [],
   "source": []
  }
 ],
 "metadata": {
  "kernelspec": {
   "display_name": "Python 3",
   "language": "python",
   "name": "python3"
  },
  "language_info": {
   "codemirror_mode": {
    "name": "ipython",
    "version": 3
   },
   "file_extension": ".py",
   "mimetype": "text/x-python",
   "name": "python",
   "nbconvert_exporter": "python",
   "pygments_lexer": "ipython3",
   "version": "3.6.9"
  }
 },
 "nbformat": 4,
 "nbformat_minor": 4
}
