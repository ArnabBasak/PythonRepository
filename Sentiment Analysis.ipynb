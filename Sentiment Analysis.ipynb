{
 "cells": [
  {
   "cell_type": "markdown",
   "metadata": {},
   "source": [
    "<h1> Sentiment analysis</h1>"
   ]
  },
  {
   "cell_type": "markdown",
   "metadata": {},
   "source": [
    "Importing the libraries"
   ]
  },
  {
   "cell_type": "markdown",
   "metadata": {},
   "source": [
    "<b> Vader Sentiment analyser module </b>"
   ]
  },
  {
   "cell_type": "code",
   "execution_count": 15,
   "metadata": {},
   "outputs": [],
   "source": [
    "from vaderSentiment.vaderSentiment import SentimentIntensityAnalyzer\n",
    "import pandas as pd"
   ]
  },
  {
   "cell_type": "markdown",
   "metadata": {},
   "source": [
    "<b> Creating the object for sentiment analyzer </b>"
   ]
  },
  {
   "cell_type": "code",
   "execution_count": 2,
   "metadata": {},
   "outputs": [],
   "source": [
    "sid_obj = SentimentIntensityAnalyzer()"
   ]
  },
  {
   "cell_type": "markdown",
   "metadata": {},
   "source": [
    "<b> Input  data </b>"
   ]
  },
  {
   "cell_type": "markdown",
   "metadata": {},
   "source": [
    "Reading the dataframe in form of a dicionary"
   ]
  },
  {
   "cell_type": "code",
   "execution_count": 17,
   "metadata": {},
   "outputs": [],
   "source": [
    "data = pd.read_csv('reviews.csv')"
   ]
  },
  {
   "cell_type": "code",
   "execution_count": 18,
   "metadata": {},
   "outputs": [
    {
     "name": "stdout",
     "output_type": "stream",
     "text": [
      "<class 'pandas.core.frame.DataFrame'>\n",
      "RangeIndex: 34660 entries, 0 to 34659\n",
      "Data columns (total 2 columns):\n",
      "categories      34660 non-null object\n",
      "reviews_text    34659 non-null object\n",
      "dtypes: object(2)\n",
      "memory usage: 541.6+ KB\n"
     ]
    }
   ],
   "source": [
    "data.info()"
   ]
  },
  {
   "cell_type": "code",
   "execution_count": 19,
   "metadata": {},
   "outputs": [
    {
     "data": {
      "text/plain": [
       "array(['Electronics,iPad & Tablets,All Tablets,Fire Tablets,Tablets,Computers & Tablets',\n",
       "       'eBook Readers,Kindle E-readers,Computers & Tablets,E-Readers & Accessories,E-Readers',\n",
       "       'Electronics,eBook Readers & Accessories,Covers,Kindle Store,Amazon Device Accessories,Kindle E-Reader Accessories,Kindle (5th Generation) Accessories,Kindle (5th Generation) Covers',\n",
       "       'Kindle Store,Amazon Devices,Electronics',\n",
       "       'Tablets,Fire Tablets,Electronics,Computers,Computer Components,Hard Drives & Storage,Computers & Tablets,All Tablets',\n",
       "       'Tablets,Fire Tablets,Computers & Tablets,All Tablets',\n",
       "       'Amazon Devices & Accessories,Amazon Device Accessories,Power Adapters & Cables,Kindle Store,Kindle E-Reader Accessories,Kindle Paperwhite Accessories',\n",
       "       'Electronics,iPad & Tablets,All Tablets,Computers/Tablets & Networking,Tablets & eBook Readers,Computers & Tablets,E-Readers & Accessories,E-Readers,Used:Computers Accessories,Used:Tablets,Computers,iPads Tablets,Kindle E-readers,Electronics Features',\n",
       "       'Computers/Tablets & Networking,Tablets & eBook Readers,Electronics,eBook Readers & Accessories,eBook Readers',\n",
       "       'Fire Tablets,Tablets,Computers & Tablets,All Tablets,Electronics, Tech Toys, Movies, Music,Electronics,iPad & Tablets,Android Tablets,Frys',\n",
       "       'Kindle E-readers,Electronics Features,Computers & Tablets,E-Readers & Accessories,E-Readers,eBook Readers',\n",
       "       'Computers & Tablets,E-Readers & Accessories,eBook Readers,Kindle E-readers',\n",
       "       'Fire Tablets,Tablets,Computers & Tablets,All Tablets',\n",
       "       'Frys,Software & Books,eReaders & Accessories,Tablet Cases Covers,Tablet Accessories,Computer Accessories',\n",
       "       'Electronics,Categories,Streaming Media Players,Amazon Devices',\n",
       "       'Computers/Tablets & Networking,Tablets & eBook Readers,Computers & Tablets,Tablets,All Tablets',\n",
       "       'Amazon Device Accessories,Kindle Store,Kindle Touch (4th Generation) Accessories,Kindle E-Reader Accessories,Covers,Kindle Touch (4th Generation) Covers',\n",
       "       'Walmart for Business,Office Electronics,Tablets,Office,Electronics,iPad & Tablets,Windows Tablets,All Windows Tablets,Computers & Tablets,E-Readers & Accessories,E-Readers,eBook Readers,Kindle E-readers,Computers/Tablets & Networking,Tablets & eBook Readers,Electronics Features,Books & Magazines,Book Accessories,eReaders,TVs & Electronics,Computers & Laptops,Tablets & eReaders',\n",
       "       'Walmart for Business,Office Electronics,Tablets,Electronics,iPad & Tablets,All Tablets,Computers & Tablets,E-Readers & Accessories,Kindle E-readers,Electronics Features,eBook Readers,See more Amazon Kindle Voyage (Wi-Fi),See more Amazon Kindle Voyage 4GB, Wi-Fi  3G (Unlocked...',\n",
       "       'Electronics,Categories,Fire TV,Kindle Store',\n",
       "       'mazon.co.uk,Amazon Devices',\n",
       "       \"Electronics,Computers,Computer Accessories,Cases & Bags,Fire Tablets,Electronics Features,Tablets,Computers & Tablets,Kids' Tablets,Electronics, Tech Toys, Movies, Music,iPad & Tablets,Top Rated\",\n",
       "       'Electronics,iPad & Tablets,All Tablets,Computers & Tablets,Tablets,eBook Readers',\n",
       "       'Kindle Store,Categories,eBook Readers & Accessories,Fire TV Accessories,Electronics,Power Adapters & Cables,Amazon Device Accessories,Power Adapters',\n",
       "       'Fire Tablets,Tablets,Computers & Tablets,All Tablets,Computers/Tablets & Networking,Tablets & eBook Readers',\n",
       "       'Categories,Streaming Media Players,Electronics',\n",
       "       'Computers & Tablets,Tablets,All Tablets,Computers/Tablets & Networking,Tablets & eBook Readers,Fire Tablets,Frys',\n",
       "       'Electronics Features,Fire Tablets,Computers & Tablets,Tablets,All Tablets,Computers/Tablets & Networking,Tablets & eBook Readers',\n",
       "       'Stereos,Remote Controls,Amazon Echo,Audio Docks & Mini Speakers,Amazon Echo Accessories,Kitchen & Dining Features,Speaker Systems,Electronics,TVs Entertainment,Clearance,Smart Hubs & Wireless Routers,Featured Brands,Wireless Speakers,Smart Home & Connected Living,Home Security,Kindle Store,Home Automation,Home, Garage & Office,Home,Voice-Enabled Smart Assistants,Virtual Assistant Speakers,Portable Audio & Headphones,Electronics Features,Amazon Device Accessories,iPod, Audio Player Accessories,Home & Furniture Clearance,Consumer Electronics,Smart Home,Surveillance,Home Improvement,Smart Home & Home Automation Devices,Smart Hubs,Home Safety & Security,Voice Assistants,Alarms & Sensors,Amazon Devices,Audio,Holiday Shop',\n",
       "       'Fire Tablets,Tablets,Computers & Tablets,All Tablets,Frys',\n",
       "       'TVs Entertainment,Wireless Speakers,Virtual Assistant Speakers,Featured Brands,Electronics,Amazon Devices,Home,Home Improvement,Home Safety & Security,Home Security,Alarms & Sensors,Smart Home & Home Automation Devices,Smart Hubs & Wireless Routers,Smart Hubs,Consumer Electronics,Voice-Enabled Smart Assistants,Smart Home & Connected Living,Home, Garage & Office,Smart Home,Voice Assistants,Surveillance,Home Automation,Speakers,Electronics Features,Holiday Shop,TV, Video & Home Audio,Internet & Media Streamers,Amazon Echo,Hubs & Controllers',\n",
       "       'Chargers & Adapters,Computers & Accessories,Tablet & E-Reader Accessories,Amazon Devices & Accessories,Fire Tablet Accessories,Electronics,Power Adapters & Cables,Cell Phones,Amazon Device Accessories,Cell Phone Accessories,Cell Phone Batteries & Power,Tablet Accessories,Featured Brands,Kindle Fire (2nd Generation) Accessories,Kindle Store,Home Improvement,Fire (5th Generation) Accessories,Electrical,Amazon Devices,Home,Tablets & E-Readers,Cables & Chargers',\n",
       "       'Cases,Kindle Store,Amazon Device Accessories,Accessories,Tablet Accessories',\n",
       "       'Electronics,eBook Readers & Accessories,Power Adapters,Computers/Tablets & Networking,Tablet & eBook Reader Accs,Chargers & Sync Cables,Power Adapters & Cables,Kindle Store,Amazon Device Accessories,Kindle Fire (2nd Generation) Accessories,Fire Tablet Accessories',\n",
       "       'Electronics,Tablets & E-Readers,Tablets,Back To College,College Electronics,College Ipads & Tablets,Featured Brands,Amazon Devices,Electronics Deals,Computers & Tablets,All Tablets,Electronics Features,eBook Readers',\n",
       "       'Featured Brands,Electronics,Amazon Devices,Home,Home Improvement,Home Safety & Security,Home Security,Alarms & Sensors,Smart Home & Home Automation Devices,Mobile,Mobile Speakers,Mobile Bluetooth Speakers,Smart Hubs & Wireless Routers,Smart Hubs,Home, Garage & Office,Smart Home,Voice Assistants,Smart Home & Connected Living,Amazon Tap,Portable Audio,MP3 Accessories,Speakers,Amazon Echo,Electronics Features,TVs & Electronics,Portable Audio & Electronics,MP3 Player Accessories,Home Theater & Audio,Kindle Store,Frys,Electronic Components,Home Automation,Electronics, Tech Toys, Movies, Music,Audio,Bluetooth Speakers',\n",
       "       'Rice Dishes,Ready Meals,Beauty,Moisturizers,Lotions',\n",
       "       'Back To College,College Electronics,College Tvs & Home Theater,Electronics,Tvs & Home Theater,Streaming Devices,Featured Brands,Amazon Devices,Holiday Shop,Ways To Shop,TV & Home Theater,Streaming Media Players,All Streaming Media Players,TVs Entertainment,Video Games,Kindle Store,Electronics Features,Kids & Family,Fire TV',\n",
       "       'Electronics,Amazon Device Accessories,Kindle Store,Covers,Kindle E-Reader Accessories,Kindle DX (2nd Generation, Global Wireless) Accessories',\n",
       "       'Power Adapters & Cables,Electronics,USB Cables',\n",
       "       'Computers/Tablets & Networking,Tablet & eBook Reader Accs,Chargers & Sync Cables,Power Adapters & Cables,Kindle Store,Amazon Device Accessories,Fire Tablet Accessories,Kindle Fire (2nd Generation) Accessories'],\n",
       "      dtype=object)"
      ]
     },
     "execution_count": 19,
     "metadata": {},
     "output_type": "execute_result"
    }
   ],
   "source": [
    "data.categories.unique()"
   ]
  },
  {
   "cell_type": "code",
   "execution_count": 20,
   "metadata": {},
   "outputs": [
    {
     "data": {
      "text/plain": [
       "41"
      ]
     },
     "execution_count": 20,
     "metadata": {},
     "output_type": "execute_result"
    }
   ],
   "source": [
    "len(data.categories.unique())"
   ]
  },
  {
   "cell_type": "code",
   "execution_count": 42,
   "metadata": {},
   "outputs": [
    {
     "ename": "AttributeError",
     "evalue": "'float' object has no attribute 'split'",
     "output_type": "error",
     "traceback": [
      "\u001b[1;31m---------------------------------------------------------------------------\u001b[0m",
      "\u001b[1;31mAttributeError\u001b[0m                            Traceback (most recent call last)",
      "\u001b[1;32m<ipython-input-42-1d069eb39a29>\u001b[0m in \u001b[0;36m<module>\u001b[1;34m\u001b[0m\n\u001b[0;32m      1\u001b[0m \u001b[1;32mfor\u001b[0m \u001b[0melements\u001b[0m \u001b[1;32min\u001b[0m \u001b[0mdata\u001b[0m\u001b[1;33m.\u001b[0m\u001b[0mreviews_text\u001b[0m\u001b[1;33m:\u001b[0m\u001b[1;33m\u001b[0m\u001b[1;33m\u001b[0m\u001b[0m\n\u001b[1;32m----> 2\u001b[1;33m     \u001b[0msentiment_dict\u001b[0m \u001b[1;33m=\u001b[0m \u001b[0msid_obj\u001b[0m\u001b[1;33m.\u001b[0m\u001b[0mpolarity_scores\u001b[0m\u001b[1;33m(\u001b[0m\u001b[0melements\u001b[0m\u001b[1;33m)\u001b[0m\u001b[1;33m\u001b[0m\u001b[1;33m\u001b[0m\u001b[0m\n\u001b[0m\u001b[0;32m      3\u001b[0m \u001b[0mprint\u001b[0m\u001b[1;33m(\u001b[0m\u001b[0msentiment_dict\u001b[0m\u001b[1;33m)\u001b[0m\u001b[1;33m\u001b[0m\u001b[1;33m\u001b[0m\u001b[0m\n",
      "\u001b[1;32m~\\AppData\\Local\\Continuum\\anaconda3\\lib\\site-packages\\vaderSentiment\\vaderSentiment.py\u001b[0m in \u001b[0;36mpolarity_scores\u001b[1;34m(self, text)\u001b[0m\n\u001b[0;32m    246\u001b[0m         \"\"\"\n\u001b[0;32m    247\u001b[0m         \u001b[1;31m# convert emojis to their textual descriptions\u001b[0m\u001b[1;33m\u001b[0m\u001b[1;33m\u001b[0m\u001b[1;33m\u001b[0m\u001b[0m\n\u001b[1;32m--> 248\u001b[1;33m         \u001b[0mtext_token_list\u001b[0m \u001b[1;33m=\u001b[0m \u001b[0mtext\u001b[0m\u001b[1;33m.\u001b[0m\u001b[0msplit\u001b[0m\u001b[1;33m(\u001b[0m\u001b[1;33m)\u001b[0m\u001b[1;33m\u001b[0m\u001b[1;33m\u001b[0m\u001b[0m\n\u001b[0m\u001b[0;32m    249\u001b[0m         \u001b[0mtext_no_emoji_lst\u001b[0m \u001b[1;33m=\u001b[0m \u001b[1;33m[\u001b[0m\u001b[1;33m]\u001b[0m\u001b[1;33m\u001b[0m\u001b[1;33m\u001b[0m\u001b[0m\n\u001b[0;32m    250\u001b[0m         \u001b[1;32mfor\u001b[0m \u001b[0mtoken\u001b[0m \u001b[1;32min\u001b[0m \u001b[0mtext_token_list\u001b[0m\u001b[1;33m:\u001b[0m\u001b[1;33m\u001b[0m\u001b[1;33m\u001b[0m\u001b[0m\n",
      "\u001b[1;31mAttributeError\u001b[0m: 'float' object has no attribute 'split'"
     ]
    }
   ],
   "source": [
    "for elements in data.reviews_text:\n",
    "    sentiment_dict = sid_obj.polarity_scores(elements)\n",
    "print(sentiment_dict)"
   ]
  },
  {
   "cell_type": "markdown",
   "metadata": {},
   "source": [
    "The vader sentiment analyzer always returns a dictionary in the output "
   ]
  },
  {
   "cell_type": "code",
   "execution_count": 5,
   "metadata": {},
   "outputs": [],
   "source": [
    "sentiment_dict = sid_obj.polarity_scores(sentence)"
   ]
  },
  {
   "cell_type": "markdown",
   "metadata": {},
   "source": [
    "<b> Displaying the result </b>"
   ]
  },
  {
   "cell_type": "code",
   "execution_count": 6,
   "metadata": {},
   "outputs": [
    {
     "name": "stdout",
     "output_type": "stream",
     "text": [
      "Overall sentiment dictionary is :  {'neg': 0.0, 'neu': 0.599, 'pos': 0.401, 'compound': 0.9194}\n",
      "sentence was rated as  0.0 % Negative\n",
      "sentence was rated as  59.9 % Neutral\n",
      "sentence was rated as  40.1 % Positive\n"
     ]
    }
   ],
   "source": [
    "print(\"Overall sentiment dictionary is : \", sentiment_dict) \n",
    "print(\"sentence was rated as \", sentiment_dict['neg']*100, \"% Negative\") \n",
    "print(\"sentence was rated as \", sentiment_dict['neu']*100, \"% Neutral\") \n",
    "print(\"sentence was rated as \", sentiment_dict['pos']*100, \"% Positive\") "
   ]
  },
  {
   "cell_type": "code",
   "execution_count": 11,
   "metadata": {},
   "outputs": [
    {
     "name": "stdout",
     "output_type": "stream",
     "text": [
      "The user comment is POSITIVE about the product\n"
     ]
    }
   ],
   "source": [
    "if sentiment_dict['compound'] >= 0.05 : \n",
    "        print(\"The user comment is POSITIVE about the product\") \n",
    "elif sentiment_dict['compound'] <= - 0.05 : \n",
    "        print(\"The user comment is NEGATIVE about the product\") \n",
    "else : \n",
    "        print(\"The user comment is NEUTRAL about the product \") "
   ]
  },
  {
   "cell_type": "code",
   "execution_count": 43,
   "metadata": {},
   "outputs": [],
   "source": [
    "import glob"
   ]
  },
  {
   "cell_type": "code",
   "execution_count": 61,
   "metadata": {},
   "outputs": [],
   "source": [
    "path = \"C:\\\\Users\\\\arnab.jaydeb.basak\\\\Documents\\\\test\\\\\""
   ]
  },
  {
   "cell_type": "code",
   "execution_count": 62,
   "metadata": {},
   "outputs": [],
   "source": [
    "files = [f for f in glob.glob(path + \"*\",recursive=True)]"
   ]
  },
  {
   "cell_type": "code",
   "execution_count": 74,
   "metadata": {},
   "outputs": [
    {
     "ename": "TypeError",
     "evalue": "write() argument must be str, not dict",
     "output_type": "error",
     "traceback": [
      "\u001b[1;31m---------------------------------------------------------------------------\u001b[0m",
      "\u001b[1;31mTypeError\u001b[0m                                 Traceback (most recent call last)",
      "\u001b[1;32m<ipython-input-74-65dfb5dc9f6a>\u001b[0m in \u001b[0;36m<module>\u001b[1;34m\u001b[0m\n\u001b[0;32m      7\u001b[0m     \u001b[0mreport_file\u001b[0m\u001b[1;33m.\u001b[0m\u001b[0mwrite\u001b[0m\u001b[1;33m(\u001b[0m\u001b[0mcontent\u001b[0m\u001b[1;33m+\u001b[0m\u001b[1;34m'\\n'\u001b[0m\u001b[1;33m)\u001b[0m\u001b[1;33m\u001b[0m\u001b[1;33m\u001b[0m\u001b[0m\n\u001b[0;32m      8\u001b[0m     \u001b[0mreport_file\u001b[0m\u001b[1;33m.\u001b[0m\u001b[0mwrite\u001b[0m\u001b[1;33m(\u001b[0m\u001b[1;34m'==========OVERALL SENTIMENT DICTIONARY IS==========:\\n'\u001b[0m\u001b[1;33m)\u001b[0m\u001b[1;33m\u001b[0m\u001b[1;33m\u001b[0m\u001b[0m\n\u001b[1;32m----> 9\u001b[1;33m     \u001b[0mreport_file\u001b[0m\u001b[1;33m.\u001b[0m\u001b[0mwrite\u001b[0m\u001b[1;33m(\u001b[0m\u001b[0msentiment_dict\u001b[0m\u001b[1;33m)\u001b[0m\u001b[1;33m\u001b[0m\u001b[1;33m\u001b[0m\u001b[0m\n\u001b[0m\u001b[0;32m     10\u001b[0m     \u001b[1;31m#print(\"sentence was rated as \", sentiment_dict['neg']*100, \"% Negative\")\u001b[0m\u001b[1;33m\u001b[0m\u001b[1;33m\u001b[0m\u001b[1;33m\u001b[0m\u001b[0m\n\u001b[0;32m     11\u001b[0m     \u001b[1;31m#print(\"sentence was rated as \", sentiment_dict['neu']*100, \"% Neutral\")\u001b[0m\u001b[1;33m\u001b[0m\u001b[1;33m\u001b[0m\u001b[1;33m\u001b[0m\u001b[0m\n",
      "\u001b[1;31mTypeError\u001b[0m: write() argument must be str, not dict"
     ]
    }
   ],
   "source": [
    "for f in files:\n",
    "    read_file = open(f,'r')\n",
    "    content = read_file.read()\n",
    "    sentiment_dict = sid_obj.polarity_scores(sentence)\n",
    "    report_file = open('report_file.txt','a+')\n",
    "    report_file.write('==========THE ANALYZED TEXT IS==========:\\n')\n",
    "    report_file.write(content+'\\n')\n",
    "    report_file.write('==========OVERALL SENTIMENT DICTIONARY IS==========:\\n') \n",
    "    report_file.write(sentiment_dict) \n",
    "    #print(\"sentence was rated as \", sentiment_dict['neg']*100, \"% Negative\") \n",
    "    #print(\"sentence was rated as \", sentiment_dict['neu']*100, \"% Neutral\") \n",
    "    #print(\"sentence was rated as \", sentiment_dict['pos']*100, \"% Positive\") \n",
    "    #if sentiment_dict['compound'] >= 0.05 : \n",
    "     #   print(\"The user comment is POSITIVE about the product\") \n",
    "    #elif sentiment_dict['compound'] <= - 0.05 : \n",
    "     #   print(\"The user comment is NEGATIVE about the product\") \n",
    "    #else : \n",
    "        #print(\"The user comment is NEUTRAL about the product \") "
   ]
  },
  {
   "cell_type": "code",
   "execution_count": 47,
   "metadata": {},
   "outputs": [
    {
     "data": {
      "text/plain": [
       "['C:\\\\Users\\\\arnab.jaydeb.basak\\\\Documents\\\\EDA and Regression\\\\1429_1.csv',\n",
       " 'C:\\\\Users\\\\arnab.jaydeb.basak\\\\Documents\\\\EDA and Regression\\\\New Microsoft Excel Worksheet.xlsx',\n",
       " 'C:\\\\Users\\\\arnab.jaydeb.basak\\\\Documents\\\\EDA and Regression\\\\Reviews.csv',\n",
       " 'C:\\\\Users\\\\arnab.jaydeb.basak\\\\Documents\\\\EDA and Regression\\\\Sentiment Analysis.ipynb',\n",
       " 'C:\\\\Users\\\\arnab.jaydeb.basak\\\\Documents\\\\EDA and Regression\\\\zomato.csv']"
      ]
     },
     "execution_count": 47,
     "metadata": {},
     "output_type": "execute_result"
    }
   ],
   "source": [
    "files"
   ]
  },
  {
   "cell_type": "code",
   "execution_count": 75,
   "metadata": {},
   "outputs": [],
   "source": [
    "data = pd.read_csv('reviews.csv')"
   ]
  },
  {
   "cell_type": "code",
   "execution_count": 76,
   "metadata": {},
   "outputs": [
    {
     "data": {
      "text/html": [
       "<div>\n",
       "<style scoped>\n",
       "    .dataframe tbody tr th:only-of-type {\n",
       "        vertical-align: middle;\n",
       "    }\n",
       "\n",
       "    .dataframe tbody tr th {\n",
       "        vertical-align: top;\n",
       "    }\n",
       "\n",
       "    .dataframe thead th {\n",
       "        text-align: right;\n",
       "    }\n",
       "</style>\n",
       "<table border=\"1\" class=\"dataframe\">\n",
       "  <thead>\n",
       "    <tr style=\"text-align: right;\">\n",
       "      <th></th>\n",
       "      <th>reviews_text</th>\n",
       "    </tr>\n",
       "  </thead>\n",
       "  <tbody>\n",
       "    <tr>\n",
       "      <th>0</th>\n",
       "      <td>This product so far has not disappointed. My c...</td>\n",
       "    </tr>\n",
       "    <tr>\n",
       "      <th>1</th>\n",
       "      <td>great for beginner or experienced person. Boug...</td>\n",
       "    </tr>\n",
       "    <tr>\n",
       "      <th>2</th>\n",
       "      <td>Inexpensive tablet for him to use and learn on...</td>\n",
       "    </tr>\n",
       "    <tr>\n",
       "      <th>3</th>\n",
       "      <td>I've had my Fire HD 8 two weeks now and I love...</td>\n",
       "    </tr>\n",
       "    <tr>\n",
       "      <th>4</th>\n",
       "      <td>I bought this for my grand daughter when she c...</td>\n",
       "    </tr>\n",
       "  </tbody>\n",
       "</table>\n",
       "</div>"
      ],
      "text/plain": [
       "                                        reviews_text\n",
       "0  This product so far has not disappointed. My c...\n",
       "1  great for beginner or experienced person. Boug...\n",
       "2  Inexpensive tablet for him to use and learn on...\n",
       "3  I've had my Fire HD 8 two weeks now and I love...\n",
       "4  I bought this for my grand daughter when she c..."
      ]
     },
     "execution_count": 76,
     "metadata": {},
     "output_type": "execute_result"
    }
   ],
   "source": [
    "data.head(5)"
   ]
  },
  {
   "cell_type": "code",
   "execution_count": 86,
   "metadata": {},
   "outputs": [
    {
     "name": "stdout",
     "output_type": "stream",
     "text": [
      "0        This product so far has not disappointed. My c...\n",
      "1        great for beginner or experienced person. Boug...\n",
      "2        Inexpensive tablet for him to use and learn on...\n",
      "3        I've had my Fire HD 8 two weeks now and I love...\n",
      "4        I bought this for my grand daughter when she c...\n",
      "5        This amazon fire 8 inch tablet is the perfect ...\n",
      "6        Great for e-reading on the go, nice and light ...\n",
      "7        I gave this as a Christmas gift to my inlaws, ...\n",
      "8        Great as a device to read books. I like that i...\n",
      "9        I love ordering books and reading them with th...\n",
      "10       Not easy for elderly users cease of ads that p...\n",
      "11       Excellent product. Easy to use, large screen m...\n",
      "12       Wanted my father to have his first tablet and ...\n",
      "13       Simply does everything I need. Thank youAnd si...\n",
      "14       Got it as a present and love the size of the s...\n",
      "15       The kindle is easiest to use, graphics and scr...\n",
      "16       nice reader. almost perfect for what i want/ne...\n",
      "17       I really like this tablet. I would have given ...\n",
      "18       Great video quality lots of fun apps fun for t...\n",
      "19       Love love love my kindle fire 8.....this is wh...\n",
      "20       Excellent tablet with nice screen. I wish Amaz...\n",
      "21       Preloaded with the reading app from Kindle but...\n",
      "22       Very happy with this product and easy to use.....\n",
      "23       My grandchildren are home schooled and utilize...\n",
      "24       Great size, easy to carry for traveling. Need ...\n",
      "25       I purchased this when my last tablet died. It ...\n",
      "26       Perfect for downloading and reading books !! P...\n",
      "27       I was surprised when I learned of the capabili...\n",
      "28       I got it for my son. Its user friendly and dur...\n",
      "29       The visual quality on the Fire 8 HD is amazing...\n",
      "                               ...                        \n",
      "34629    My new Kindle DX2 graphite came yesterday and ...\n",
      "34630    This cover is made for the Kindle DX and fits ...\n",
      "34631    I have several covers, from simple rubber cove...\n",
      "34632    The reason people give it 5 stars is because t...\n",
      "34633    This cover is a must have for your Kindle read...\n",
      "34634    I have this cover in black and my cover does i...\n",
      "34635    I found this cover to be quite handsome in app...\n",
      "34636    I, as well as other Kindle lovers, have notice...\n",
      "34637    This cover is a replacement for the initial co...\n",
      "34638    Having recently received a Kindle Fire HD as a...\n",
      "34639    Surpassed my expectations it charges faster th...\n",
      "34640    Amazon already includes this cable with the Ki...\n",
      "34641    I bought this for myself because i play my kin...\n",
      "34642    This cord works great! I also love that it is ...\n",
      "34643    Corrected the problem with the kindle not char...\n",
      "34644    Works well with all Kindle models, either as a...\n",
      "34645    I have only used it one time to download an e-...\n",
      "34646    Excellent charging quality with heavy duty cor...\n",
      "34647    This charger (9W) rapid charger is as describe...\n",
      "34648    just what i expected and just what I wanted. t...\n",
      "34649    Although the description states that this will...\n",
      "34650                                     Connects snugly!\n",
      "34651    So I was already not too pleased with Amazon's...\n",
      "34652    As a charger, it works but is nothing special....\n",
      "34653    This is exactly like any other usb power charg...\n",
      "34654    This is not appreciably faster than any other ...\n",
      "34655    Amazon should include this charger with the Ki...\n",
      "34656    Love my Kindle Fire but I am really disappoint...\n",
      "34657    I was surprised to find it did not come with a...\n",
      "34658    to spite the fact that i have nothing but good...\n",
      "Name: reviews_text, Length: 34659, dtype: object\n",
      "\n"
     ]
    }
   ],
   "source": [
    "for i,j in data.iteritems(): \n",
    "    print(j)\n"
   ]
  },
  {
   "cell_type": "code",
   "execution_count": null,
   "metadata": {},
   "outputs": [],
   "source": []
  }
 ],
 "metadata": {
  "kernelspec": {
   "display_name": "Python 3",
   "language": "python",
   "name": "python3"
  },
  "language_info": {
   "codemirror_mode": {
    "name": "ipython",
    "version": 3
   },
   "file_extension": ".py",
   "mimetype": "text/x-python",
   "name": "python",
   "nbconvert_exporter": "python",
   "pygments_lexer": "ipython3",
   "version": "3.7.3"
  }
 },
 "nbformat": 4,
 "nbformat_minor": 2
}
