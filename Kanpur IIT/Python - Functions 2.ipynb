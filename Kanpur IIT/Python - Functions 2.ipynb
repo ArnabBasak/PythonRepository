{
 "cells": [
  {
   "cell_type": "markdown",
   "metadata": {
    "colab_type": "text",
    "id": "_ApoYgORyqsB"
   },
   "source": [
    "#### Type Conversion Functions\n",
    "- Built-in functions in python to convert data from one type to another"
   ]
  },
  {
   "cell_type": "code",
   "execution_count": 3,
   "metadata": {
    "colab": {
     "base_uri": "https://localhost:8080/",
     "height": 51
    },
    "colab_type": "code",
    "executionInfo": {
     "elapsed": 1961,
     "status": "ok",
     "timestamp": 1585028402621,
     "user": {
      "displayName": "Sai Saurab",
      "photoUrl": "",
      "userId": "06528725485567637895"
     },
     "user_tz": -330
    },
    "id": "k25_Uf9kyOQS",
    "outputId": "b80eaab9-2cd8-44b5-dc40-b69a9d7e1072"
   },
   "outputs": [
    {
     "name": "stdout",
     "output_type": "stream",
     "text": [
      "<class 'int'>\n",
      "<class 'float'>\n"
     ]
    }
   ],
   "source": [
    "print(type(3))\n",
    "x = 4.0\n",
    "print(type(x))"
   ]
  },
  {
   "cell_type": "code",
   "execution_count": 5,
   "metadata": {
    "colab": {
     "base_uri": "https://localhost:8080/",
     "height": 68
    },
    "colab_type": "code",
    "executionInfo": {
     "elapsed": 1910,
     "status": "ok",
     "timestamp": 1585028507771,
     "user": {
      "displayName": "Sai Saurab",
      "photoUrl": "",
      "userId": "06528725485567637895"
     },
     "user_tz": -330
    },
    "id": "tITNH2GtDieq",
    "outputId": "55def106-8261-4fb0-c7d7-615d6295899a"
   },
   "outputs": [
    {
     "name": "stdout",
     "output_type": "stream",
     "text": [
      "<class 'int'>\n",
      "<class 'float'>\n",
      "<class 'int'>\n"
     ]
    }
   ],
   "source": [
    "x = 3\n",
    "y = float(x)\n",
    "z = int(y)\n",
    "print(type(x))\n",
    "print(type(y))\n",
    "print(type(z))"
   ]
  },
  {
   "cell_type": "code",
   "execution_count": 7,
   "metadata": {
    "colab": {
     "base_uri": "https://localhost:8080/",
     "height": 51
    },
    "colab_type": "code",
    "executionInfo": {
     "elapsed": 776,
     "status": "ok",
     "timestamp": 1585028556192,
     "user": {
      "displayName": "Sai Saurab",
      "photoUrl": "",
      "userId": "06528725485567637895"
     },
     "user_tz": -330
    },
    "id": "0mwQw-hMD7qT",
    "outputId": "d2da39e1-45ac-467f-8a89-b911896f2200"
   },
   "outputs": [
    {
     "name": "stdout",
     "output_type": "stream",
     "text": [
      "<class 'str'>\n",
      "<class 'int'>\n"
     ]
    }
   ],
   "source": [
    "a = str(x)\n",
    "print(type(a))\n",
    "b = int(a)\n",
    "print(type(b))\n"
   ]
  },
  {
   "cell_type": "code",
   "execution_count": 13,
   "metadata": {
    "colab": {
     "base_uri": "https://localhost:8080/",
     "height": 68
    },
    "colab_type": "code",
    "executionInfo": {
     "elapsed": 5891,
     "status": "ok",
     "timestamp": 1585028809780,
     "user": {
      "displayName": "Sai Saurab",
      "photoUrl": "",
      "userId": "06528725485567637895"
     },
     "user_tz": -330
    },
    "id": "YXyWoEDzENgu",
    "outputId": "3bd8910a-6226-453b-d012-083eddcf0f5c"
   },
   "outputs": [
    {
     "name": "stdout",
     "output_type": "stream",
     "text": [
      "Enter a number:12\n",
      "Enter another number:13\n",
      "25\n"
     ]
    }
   ],
   "source": [
    "s = int(input('Enter a number:'))\n",
    "t = int(input('Enter another number:'))\n",
    "### The result of input function is always a value of type str\n",
    "print(s + t)"
   ]
  },
  {
   "cell_type": "code",
   "execution_count": 16,
   "metadata": {
    "colab": {
     "base_uri": "https://localhost:8080/",
     "height": 51
    },
    "colab_type": "code",
    "executionInfo": {
     "elapsed": 820,
     "status": "ok",
     "timestamp": 1585030493275,
     "user": {
      "displayName": "Sai Saurab",
      "photoUrl": "",
      "userId": "06528725485567637895"
     },
     "user_tz": -330
    },
    "id": "BwKGsKlS05k5",
    "outputId": "544ef8e3-644d-4509-feb3-c6a707d55dc0"
   },
   "outputs": [
    {
     "name": "stdout",
     "output_type": "stream",
     "text": [
      "sin_value: 0.7071067811865475\n",
      "actual_value:0.7071067811865475\n"
     ]
    }
   ],
   "source": [
    "import math\n",
    "degrees = 45\n",
    "radians = degrees/360.0 * 2 * math.pi\n",
    "\n",
    "sin_value = math.sin(radians)\n",
    "print(f'sin_value: {sin_value}')\n",
    "\n",
    "## Compare it to its actual value\n",
    "actual_value = 1/math.sqrt(2)\n",
    "print(f'actual_value:{actual_value}')"
   ]
  },
  {
   "cell_type": "markdown",
   "metadata": {
    "colab_type": "text",
    "id": "HzPkzV3X1pox"
   },
   "source": [
    "#### Composition\n",
    "You can call one function from within another. This ability is called composition."
   ]
  },
  {
   "cell_type": "code",
   "execution_count": null,
   "metadata": {
    "colab": {
     "base_uri": "https://localhost:8080/",
     "height": 51
    },
    "colab_type": "code",
    "executionInfo": {
     "elapsed": 819,
     "status": "ok",
     "timestamp": 1584504769153,
     "user": {
      "displayName": "Sai Saurab",
      "photoUrl": "",
      "userId": "06528725485567637895"
     },
     "user_tz": -330
    },
    "id": "CTjUBP7Z1EkW",
    "outputId": "243276c0-b5c2-429c-c03a-be3549d7220f"
   },
   "outputs": [
    {
     "name": "stdout",
     "output_type": "stream",
     "text": [
      "0.7071067811865475\n",
      "1.7071067811865475\n"
     ]
    }
   ],
   "source": [
    "x1 = math.sin(degrees/360.0 * 2 * math.pi)\n",
    "print(x1)\n",
    "x2 = math.exp(math.log(x1 + 1))\n",
    "print(x2)"
   ]
  },
  {
   "cell_type": "markdown",
   "metadata": {
    "colab_type": "text",
    "id": "bVucQAO43O6c"
   },
   "source": [
    "#### Flow of execution\n",
    "- A function has to be defined before its first use.\n",
    "- Deﬁning a function creates a variable with the same name.\n",
    "- Statements inside a function are not executed until the function is called.\n",
    "- A function call is like a detour in the ﬂow of execution. \n",
    "- Instead of going to the next statement, the ﬂow jumps to the body of the function, executes all the statements there, and then comes back to pick up where it left off. \n",
    "- This can get complicated to visualize because functions can call other functions.\n",
    "- When you read a program, you don’t always want to read from top to bottom. Sometimes it makes more sense if you follow the ﬂow of execution.\n"
   ]
  },
  {
   "cell_type": "code",
   "execution_count": null,
   "metadata": {
    "colab": {},
    "colab_type": "code",
    "id": "U08gn9TIMcu7"
   },
   "outputs": [],
   "source": [
    "def add(x, y):\n",
    "  ## x, y are parameters of add\n",
    "  sum_ = x + y\n",
    "  print(sum_)"
   ]
  },
  {
   "cell_type": "code",
   "execution_count": 23,
   "metadata": {
    "colab": {
     "base_uri": "https://localhost:8080/",
     "height": 34
    },
    "colab_type": "code",
    "executionInfo": {
     "elapsed": 899,
     "status": "ok",
     "timestamp": 1585030876029,
     "user": {
      "displayName": "Sai Saurab",
      "photoUrl": "",
      "userId": "06528725485567637895"
     },
     "user_tz": -330
    },
    "id": "eQq0Nx9dM1TY",
    "outputId": "e11d09f8-052c-4ba9-c668-00a07f0167f3"
   },
   "outputs": [
    {
     "name": "stdout",
     "output_type": "stream",
     "text": [
      "5\n"
     ]
    }
   ],
   "source": [
    "y = add\n",
    "type(y)\n",
    "y(2, 3)"
   ]
  },
  {
   "cell_type": "code",
   "execution_count": 19,
   "metadata": {
    "colab": {
     "base_uri": "https://localhost:8080/",
     "height": 34
    },
    "colab_type": "code",
    "executionInfo": {
     "elapsed": 998,
     "status": "ok",
     "timestamp": 1585030795850,
     "user": {
      "displayName": "Sai Saurab",
      "photoUrl": "",
      "userId": "06528725485567637895"
     },
     "user_tz": -330
    },
    "id": "RglgYVcuMdTp",
    "outputId": "004d2460-aa87-451e-beb1-3070cf32bf46"
   },
   "outputs": [
    {
     "name": "stdout",
     "output_type": "stream",
     "text": [
      "5\n"
     ]
    }
   ],
   "source": [
    "a = 2\n",
    "b = 4\n",
    "add(a, b) # a, b are arguments to function add\n",
    "print(a*b)"
   ]
  },
  {
   "cell_type": "code",
   "execution_count": null,
   "metadata": {
    "colab": {
     "base_uri": "https://localhost:8080/",
     "height": 34
    },
    "colab_type": "code",
    "executionInfo": {
     "elapsed": 831,
     "status": "ok",
     "timestamp": 1584505205954,
     "user": {
      "displayName": "Sai Saurab",
      "photoUrl": "",
      "userId": "06528725485567637895"
     },
     "user_tz": -330
    },
    "id": "U4VR1wqG3Op6",
    "outputId": "5c11d242-41d7-452d-fe65-34d212becdee"
   },
   "outputs": [
    {
     "name": "stdout",
     "output_type": "stream",
     "text": [
      "<function print_lyrics at 0x7f155501d8c8>\n"
     ]
    }
   ],
   "source": [
    "print(print_lyrics) ## Value is a function object which has type 'function'"
   ]
  },
  {
   "cell_type": "markdown",
   "metadata": {
    "colab_type": "text",
    "id": "hdISixZDHmIw"
   },
   "source": [
    "#### Arguments and Parameters\n",
    "- Values that are passed to a function are called arguments\n",
    "- Arguments are assigned to parameters inside the function body\n",
    "- Variables and parameters are local"
   ]
  },
  {
   "cell_type": "code",
   "execution_count": null,
   "metadata": {
    "colab": {},
    "colab_type": "code",
    "id": "OfWUJ2iRHxUL"
   },
   "outputs": [],
   "source": []
  },
  {
   "cell_type": "markdown",
   "metadata": {
    "colab_type": "text",
    "id": "-4CEL0AMIyiw"
   },
   "source": [
    "#### Fruitful functions and Void functions\n",
    "- Some functions yield or ```return``` results. These are fruitful functions\n",
    "- Other functions perform some action but don't return a value. They are called ```void functions```\n",
    "- If you call a fruitful function by itself, the value is lost forever!\n",
    "- Void functions might display something on the screen or have some effect but they don't return a value. If you try to assign the result to a variable, you get a special value called ```None```\n",
    "- The value ```None``` is not the same as the string ```'None'```"
   ]
  },
  {
   "cell_type": "code",
   "execution_count": 25,
   "metadata": {
    "colab": {
     "base_uri": "https://localhost:8080/",
     "height": 51
    },
    "colab_type": "code",
    "executionInfo": {
     "elapsed": 824,
     "status": "ok",
     "timestamp": 1585031206880,
     "user": {
      "displayName": "Sai Saurab",
      "photoUrl": "",
      "userId": "06528725485567637895"
     },
     "user_tz": -330
    },
    "id": "Z0TRuCBSJ3fw",
    "outputId": "0771ef5a-2456-4c4c-b01d-386286aebf27"
   },
   "outputs": [
    {
     "name": "stdout",
     "output_type": "stream",
     "text": [
      "5\n",
      "Value of a is 5, b is None\n"
     ]
    }
   ],
   "source": [
    "def add_fruitful(x, y):\n",
    "  return x+y\n",
    "\n",
    "def add_void(x, y):\n",
    "  print(x+y)\n",
    "\n",
    "add_fruitful(2, 3)\n",
    "a = add_fruitful(2, 3)\n",
    "b = add_void(2, 3)\n",
    "print(f'Value of a is {a}, b is {b}')"
   ]
  },
  {
   "cell_type": "markdown",
   "metadata": {
    "colab_type": "text",
    "id": "LylnmAI-46i4"
   },
   "source": [
    "#### Importing with from\n",
    "- You can import modules using ```import``` keyword\n",
    "- If you import ```math```, you get a module object named math. <br>\n",
    "The module object contains constants like ```pi``` and functions like ```sin``` and ```exp```\n",
    "- As an alternative, you can import an object from a module like this:\n",
    "```\n",
    "  from math import pi\n",
    "```\n",
    "```\n",
    "from math import *\n",
    "```\n",
    "- Advantage of importing everything from a module is that code can be more concise, but disadvantage is conflict between names defined in different modules"
   ]
  },
  {
   "cell_type": "code",
   "execution_count": 27,
   "metadata": {
    "colab": {
     "base_uri": "https://localhost:8080/",
     "height": 216
    },
    "colab_type": "code",
    "executionInfo": {
     "elapsed": 803,
     "status": "error",
     "timestamp": 1585031443391,
     "user": {
      "displayName": "Sai Saurab",
      "photoUrl": "",
      "userId": "06528725485567637895"
     },
     "user_tz": -330
    },
    "id": "wALKY_MJQjNf",
    "outputId": "3f42124c-7037-4a71-a984-81ccc5aa53fb"
   },
   "outputs": [
    {
     "name": "stdout",
     "output_type": "stream",
     "text": [
      "3.141592653589793\n"
     ]
    },
    {
     "ename": "NameError",
     "evalue": "ignored",
     "output_type": "error",
     "traceback": [
      "\u001b[0;31m---------------------------------------------------------------------------\u001b[0m",
      "\u001b[0;31mNameError\u001b[0m                                 Traceback (most recent call last)",
      "\u001b[0;32m<ipython-input-27-19b9a9db8a2c>\u001b[0m in \u001b[0;36m<module>\u001b[0;34m()\u001b[0m\n\u001b[1;32m      1\u001b[0m \u001b[0;32mimport\u001b[0m \u001b[0mmath\u001b[0m\u001b[0;34m\u001b[0m\u001b[0;34m\u001b[0m\u001b[0m\n\u001b[1;32m      2\u001b[0m \u001b[0mprint\u001b[0m\u001b[0;34m(\u001b[0m\u001b[0mmath\u001b[0m\u001b[0;34m.\u001b[0m\u001b[0mpi\u001b[0m\u001b[0;34m)\u001b[0m\u001b[0;34m\u001b[0m\u001b[0;34m\u001b[0m\u001b[0m\n\u001b[0;32m----> 3\u001b[0;31m \u001b[0mprint\u001b[0m\u001b[0;34m(\u001b[0m\u001b[0mpi\u001b[0m\u001b[0;34m)\u001b[0m\u001b[0;34m\u001b[0m\u001b[0;34m\u001b[0m\u001b[0m\n\u001b[0m",
      "\u001b[0;31mNameError\u001b[0m: name 'pi' is not defined"
     ]
    }
   ],
   "source": [
    "import math\n",
    "print(math.pi)\n",
    "print(pi)"
   ]
  },
  {
   "cell_type": "code",
   "execution_count": 28,
   "metadata": {
    "colab": {
     "base_uri": "https://localhost:8080/",
     "height": 34
    },
    "colab_type": "code",
    "executionInfo": {
     "elapsed": 829,
     "status": "ok",
     "timestamp": 1585031453761,
     "user": {
      "displayName": "Sai Saurab",
      "photoUrl": "",
      "userId": "06528725485567637895"
     },
     "user_tz": -330
    },
    "id": "P3WPjrYTPFhR",
    "outputId": "0b3b5bf5-4223-4eb2-cf9e-4ee712c44558"
   },
   "outputs": [
    {
     "name": "stdout",
     "output_type": "stream",
     "text": [
      "3.141592653589793\n"
     ]
    }
   ],
   "source": [
    "from math import pi\n",
    "print(pi)"
   ]
  },
  {
   "cell_type": "code",
   "execution_count": 29,
   "metadata": {
    "colab": {
     "base_uri": "https://localhost:8080/",
     "height": 68
    },
    "colab_type": "code",
    "executionInfo": {
     "elapsed": 807,
     "status": "ok",
     "timestamp": 1585031504701,
     "user": {
      "displayName": "Sai Saurab",
      "photoUrl": "",
      "userId": "06528725485567637895"
     },
     "user_tz": -330
    },
    "id": "vofIVRTePJiu",
    "outputId": "aa0b0662-9f7b-4c39-808b-8891d189cad8"
   },
   "outputs": [
    {
     "name": "stdout",
     "output_type": "stream",
     "text": [
      "3.141592653589793\n",
      "2.718281828459045\n",
      "-2.4492935982947064e-16\n"
     ]
    }
   ],
   "source": [
    "from math import *\n",
    "print(pi)\n",
    "print(e)\n",
    "print(sin(2*pi))"
   ]
  },
  {
   "cell_type": "code",
   "execution_count": null,
   "metadata": {
    "colab": {},
    "colab_type": "code",
    "id": "rPBoAhr-PV-L"
   },
   "outputs": [],
   "source": []
  }
 ],
 "metadata": {
  "colab": {
   "authorship_tag": "ABX9TyOmsdrK5Xb5zO8yIgSajuYv",
   "name": "Python - Functions 2.ipynb",
   "provenance": []
  },
  "kernelspec": {
   "display_name": "Python 3",
   "language": "python",
   "name": "python3"
  },
  "language_info": {
   "codemirror_mode": {
    "name": "ipython",
    "version": 3
   },
   "file_extension": ".py",
   "mimetype": "text/x-python",
   "name": "python",
   "nbconvert_exporter": "python",
   "pygments_lexer": "ipython3",
   "version": "3.7.4"
  }
 },
 "nbformat": 4,
 "nbformat_minor": 4
}
