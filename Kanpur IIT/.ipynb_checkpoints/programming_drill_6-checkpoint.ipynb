{
 "cells": [
  {
   "cell_type": "markdown",
   "metadata": {
    "colab_type": "text",
    "id": "rHKozONN38LF"
   },
   "source": [
    "#Drill #23\n",
    "<img src=\"https://drive.google.com/uc?id=169lw1cIPwYqUbpY9SxUwUHJhTKSbJid7\" width=\"700\">\n",
    "\n",
    "#### Expected Output\n",
    "<img src=\"https://drive.google.com/uc?id=1sbTsUAvgn-GEgimm_IEvv_58rLbUxovy\" width=\"400\">"
   ]
  },
  {
   "cell_type": "code",
   "execution_count": null,
   "metadata": {
    "colab": {},
    "colab_type": "code",
    "id": "NStJlgl62Kp8"
   },
   "outputs": [],
   "source": [
    "#### Write your code here"
   ]
  },
  {
   "cell_type": "markdown",
   "metadata": {
    "colab_type": "text",
    "id": "3-zjNUyf5lUG"
   },
   "source": [
    "# Drill #24\n",
    "<img src=\"https://drive.google.com/uc?id=18MUCU7iPd68Kyb5tnv1ZlzzYROhNWnqp\" width=\"700\">\n",
    "\n",
    "## Expected Output\n",
    "<img src=\"https://drive.google.com/uc?id=1XnXzP-G-TtmKaynurnwb2F77Biigfh58\" width=\"500\">"
   ]
  },
  {
   "cell_type": "code",
   "execution_count": null,
   "metadata": {
    "colab": {},
    "colab_type": "code",
    "id": "7qW-3fwv3i7i"
   },
   "outputs": [],
   "source": [
    "## Write your code here"
   ]
  },
  {
   "cell_type": "markdown",
   "metadata": {
    "colab_type": "text",
    "id": "Qt5uGr2udp3y"
   },
   "source": [
    "#Drill #25\n",
    "<img src=\"https://drive.google.com/uc?id=1hKejI4MsqhSWAvrsQvCwiND9KeROQl_E\" width=\"700\">\n",
    "\n",
    "#### Expected Output\n",
    "<img src=\"https://drive.google.com/uc?id=1yZ-wjCv0ao1NIk5TYSupqOMjbxjoVq7K\" width=\"600\">"
   ]
  },
  {
   "cell_type": "code",
   "execution_count": 1,
   "metadata": {
    "colab": {},
    "colab_type": "code",
    "id": "jpcSDENB6T8B"
   },
   "outputs": [
    {
     "name": "stdout",
     "output_type": "stream",
     "text": [
      "Wait there are not 10 things in that list. let's fix that.\n",
      "Adding:  Boy\n",
      "There are 7 items now\n",
      "Adding:  Girl\n",
      "There are 8 items now\n",
      "Adding:  Banana\n",
      "There are 9 items now\n",
      "Adding:  Cron\n",
      "There are 10 items now\n",
      "There we go:  ['Apples', 'Oranges', 'Crows', 'Telephone', 'Light', 'Suger', 'Boy', 'Girl', 'Banana', 'Cron']\n",
      "Lets do something with stuff\n",
      "Oranges\n",
      "Cron\n",
      "Cron\n",
      "Apples Oranges Crows Telephone Light Suger Boy Girl Banana\n",
      "Telephone#Light\n"
     ]
    }
   ],
   "source": [
    "ten_things = \"Apples Oranges Crows Telephone Light Suger\"\n",
    "\n",
    "print(\"Wait there are not 10 things in that list. let's fix that.\")\n",
    "\n",
    "stuff = ten_things.split(' ')\n",
    "more_stuff = [\"Day\",\"Night\",\"Song\",\"Frisbee\",\"Corn\",\"Banana\",\"Girl\",\"Boy\"]\n",
    "\n",
    "while(len(stuff) !=10):\n",
    "    next_one = more_stuff.pop()\n",
    "    print(\"Adding: \",next_one)\n",
    "    stuff.append(next_one)\n",
    "    print(f\"There are {len(stuff)} items now\")\n",
    "print(\"There we go: \",stuff)\n",
    "print(\"Lets do something with stuff\")\n",
    "\n",
    "print(stuff[1])\n",
    "print(stuff[-1])\n",
    "print(stuff.pop())\n",
    "print(' '.join(stuff))\n",
    "print('#'.join(stuff[3:5]))"
   ]
  },
  {
   "cell_type": "code",
   "execution_count": null,
   "metadata": {
    "colab": {},
    "colab_type": "code",
    "id": "HzdU0fB0eiFz"
   },
   "outputs": [],
   "source": []
  }
 ],
 "metadata": {
  "colab": {
   "authorship_tag": "ABX9TyMaZOh/+A+HWXJxE14az2ja",
   "name": "programming_drill_6.ipynb",
   "provenance": []
  },
  "kernelspec": {
   "display_name": "Python 3",
   "language": "python",
   "name": "python3"
  },
  "language_info": {
   "codemirror_mode": {
    "name": "ipython",
    "version": 3
   },
   "file_extension": ".py",
   "mimetype": "text/x-python",
   "name": "python",
   "nbconvert_exporter": "python",
   "pygments_lexer": "ipython3",
   "version": "3.7.4"
  }
 },
 "nbformat": 4,
 "nbformat_minor": 4
}
