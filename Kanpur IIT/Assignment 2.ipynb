{
 "cells": [
  {
   "cell_type": "markdown",
   "metadata": {
    "colab_type": "text",
    "id": "85Po9342eFZZ"
   },
   "source": [
    "##Q. Min Min Min\n",
    "Write a program that does the following\n",
    "- Takes 3 numbers as input from the user\n",
    "- Finds minimum of the 3 numbers and prints it"
   ]
  },
  {
   "cell_type": "code",
   "execution_count": 7,
   "metadata": {
    "colab": {},
    "colab_type": "code",
    "id": "wPjz3AvIeYPG"
   },
   "outputs": [
    {
     "name": "stdin",
     "output_type": "stream",
     "text": [
      "enter any number 25\n",
      "please enter another number 23\n",
      "just one more number 21\n"
     ]
    },
    {
     "name": "stdout",
     "output_type": "stream",
     "text": [
      "minimum of the three numbers inputed 25,23,21 is 21\n"
     ]
    }
   ],
   "source": [
    "numlist = []\n",
    "num1 = int(input('enter any number'))\n",
    "num2 = int(input('please enter another number'))\n",
    "num3 = int(input('just one more number'))\n",
    "numlist.append(num1)\n",
    "numlist.append(num2)\n",
    "numlist.append(num3)\n",
    "print(f'minimum of the three numbers inputed {num1},{num2},{num3} is {min(numlist)}')"
   ]
  },
  {
   "cell_type": "markdown",
   "metadata": {
    "colab_type": "text",
    "id": "7GZnA2DVZnfg"
   },
   "source": [
    "#Q. Proving Fermat\n",
    "Fermat's last theorem says that there are no positive integers $a, b, c$ such that \n",
    "$$\n",
    "a^n + b^n = c^n\n",
    "$$\n",
    "for any values of $n > 2$\n",
    "- Write a function named ```check_fermat``` that takes four parameters - ```a, b, c``` and ```n``` and checks to see if fermat's theorem holds. If ```n > 2``` and it turns out to be true that \n",
    "$$\n",
    "a^n + b^n = c^n\n",
    "$$ the function should print, \"Oh No! Fermat was wrong!\". Otherwise the function should print, \"No that doesn't work\"\n",
    "- Write a program that takes four inputs from the users - ```a, b, c``` and ```n``` and converts them to integers and uses check_fermat to check whether they violate Fermat's theorem."
   ]
  },
  {
   "cell_type": "code",
   "execution_count": null,
   "metadata": {
    "colab": {},
    "colab_type": "code",
    "id": "5ca0eTDbZZG4"
   },
   "outputs": [],
   "source": [
    "### Write your code here"
   ]
  },
  {
   "cell_type": "markdown",
   "metadata": {
    "colab_type": "text",
    "id": "htwKREd7bD_g"
   },
   "source": [
    "#Q. Potential triangularity\n",
    "If you are given three sticks, you may or may not be able to arrange them in a triangle. For example,if one of the sticks is 12inches long and the other two are  1inch long, it is clear that you will not be able to get the short sticks to meet in the middle. For any three lengths, there is a simple test to see if it is possible to form a triangle. \n",
    "\n",
    "_If any of the three lengths is greater than the sum of the other two, then you cannot form a triangle. Otherwise, you can. (If the sum of two lengths equals the third, they form what is called a “degenerate” triangle or a straight line segment.)_\n",
    "\n",
    "- Write a function named ```is_triangle``` that takes three integers as arguments, and that prints either \"Yes\" or \"No\", depending on whether you can or cannot form a triangle using sticks of given lengths.\n",
    "- Write a function that prompts the user to input three stick lengths, converts them to integers, and uses is_triangle to check whether sitcks with the given lengths can form a triangle. "
   ]
  },
  {
   "cell_type": "code",
   "execution_count": null,
   "metadata": {
    "colab": {},
    "colab_type": "code",
    "id": "QI1ZvUzLcWSS"
   },
   "outputs": [],
   "source": [
    "### Write your code here"
   ]
  },
  {
   "cell_type": "markdown",
   "metadata": {
    "colab_type": "text",
    "id": "KOR45AN7hL4e"
   },
   "source": [
    "#Q. Basic Calculator\n",
    "- Write a function that takes three arguments - ```op1, op2``` and ```operator``` and prints the result ```op1 operator op2```. <br>\n",
    "Eg., for ```op1 = 1```, ```op2 = 2``` and ```operator = '+' ```, the function prints ```3``` as the result (```1 + 2```). <br>\n",
    "Assume that the operator can be one of the following : ```+, -, *, /, %``` <br>\n",
    "- Write a program that takes 3 inputs from the user - two numbers and an operator and uses the calculator function to print the result."
   ]
  },
  {
   "cell_type": "code",
   "execution_count": 16,
   "metadata": {
    "colab": {},
    "colab_type": "code",
    "id": "65ifLibhhM3c"
   },
   "outputs": [
    {
     "name": "stdin",
     "output_type": "stream",
     "text": [
      "enter first operand 12\n",
      "enter second operand 16\n",
      "enter the operator +\n"
     ]
    },
    {
     "name": "stdout",
     "output_type": "stream",
     "text": [
      "Addition of 12 and 16 is 28\n"
     ]
    }
   ],
   "source": [
    "def calculator(op1,op2,operator):\n",
    "    if operator == '+':\n",
    "        return f\"Addition of {op1} and {op2} is {int(op1) + int(op2)}\"\n",
    "    elif operator == '-':\n",
    "        return f\"Substraction of {op1} and {op2} is {int(op1) - int(op2)}\"\n",
    "    elif operator == '*':\n",
    "        return f\"Multiplication of {op1} and {op2} is {int(op1) * int(op2)}\"\n",
    "    elif operator == '/':\n",
    "        return f\"Division of {op1} and {op2} is {int(op1) / int(op2)}\"\n",
    "    elif operator == '%':\n",
    "        return f\"Modulus of {op1} and {op2} is {int(op1) % int(op2)}\"\n",
    "    else:\n",
    "        return \"Invalid operators\"\n",
    "op1 = input('enter first operand')\n",
    "op2 = input('enter second operand')\n",
    "operator = input('enter the operator')\n",
    "print(calculator(op1,op2,operator))"
   ]
  },
  {
   "cell_type": "code",
   "execution_count": 12,
   "metadata": {},
   "outputs": [
    {
     "name": "stdin",
     "output_type": "stream",
     "text": [
      " +\n"
     ]
    },
    {
     "data": {
      "text/plain": [
       "str"
      ]
     },
     "execution_count": 12,
     "metadata": {},
     "output_type": "execute_result"
    }
   ],
   "source": [
    "operator = input()\n",
    "type(operator)"
   ]
  },
  {
   "cell_type": "code",
   "execution_count": null,
   "metadata": {},
   "outputs": [],
   "source": []
  }
 ],
 "metadata": {
  "colab": {
   "authorship_tag": "ABX9TyPfpWENKFK8oni5qYOj8r2Q",
   "collapsed_sections": [],
   "name": "Assignment 2.ipynb",
   "provenance": []
  },
  "kernelspec": {
   "display_name": "Python 3",
   "language": "python",
   "name": "python3"
  },
  "language_info": {
   "codemirror_mode": {
    "name": "ipython",
    "version": 3
   },
   "file_extension": ".py",
   "mimetype": "text/x-python",
   "name": "python",
   "nbconvert_exporter": "python",
   "pygments_lexer": "ipython3",
   "version": "3.7.4"
  }
 },
 "nbformat": 4,
 "nbformat_minor": 4
}
