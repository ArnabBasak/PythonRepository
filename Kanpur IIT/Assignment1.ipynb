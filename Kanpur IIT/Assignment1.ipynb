{
 "cells": [
  {
   "cell_type": "markdown",
   "metadata": {
    "colab_type": "text",
    "id": "xgPa5ZQFiQar"
   },
   "source": [
    "#Q. Interest Compounded\n",
    "The Formula for computing compound interest is as follows - \n",
    "\\begin{equation}\n",
    "A = P(1 + \\frac{r}{n})^{nt}\n",
    "\\end{equation}\n",
    "Write a function that takes as inputs $P, r, n, t$ and prints the total amount that has to be paid."
   ]
  },
  {
   "cell_type": "code",
   "execution_count": 1,
   "metadata": {
    "colab": {},
    "colab_type": "code",
    "id": "-nUYyV1NiuC6"
   },
   "outputs": [],
   "source": [
    "def compound_interest(p, r, n, t):\n",
    " return p*(1+(r/n))**(n*t)"
   ]
  },
  {
   "cell_type": "code",
   "execution_count": 3,
   "metadata": {
    "colab": {},
    "colab_type": "code",
    "id": "Z4CjrFloivnh"
   },
   "outputs": [
    {
     "name": "stdout",
     "output_type": "stream",
     "text": [
      "The compund interest is 881745755411.9263\n"
     ]
    }
   ],
   "source": [
    "print(\"The compund interest is\",compound_interest(1000,5,3,7))"
   ]
  },
  {
   "cell_type": "markdown",
   "metadata": {
    "colab_type": "text",
    "id": "1ZnXZJJQjK-q"
   },
   "source": [
    "#Q. User power\n",
    "Write a program that takes two inputs from the user $a$ and $b$ and prints the value $a^b$"
   ]
  },
  {
   "cell_type": "code",
   "execution_count": 5,
   "metadata": {
    "colab": {},
    "colab_type": "code",
    "id": "4gSGzXICjY4X"
   },
   "outputs": [
    {
     "name": "stdin",
     "output_type": "stream",
     "text": [
      "enter value of a 12\n",
      "enter value of b 14\n"
     ]
    },
    {
     "name": "stdout",
     "output_type": "stream",
     "text": [
      "a to the power b is:  1283918464548864\n"
     ]
    }
   ],
   "source": [
    "input_1 = int(input('enter value of a'))\n",
    "input_2 = int(input('enter value of b'))\n",
    "print(\"a to the power b is: \",input_1**input_2)"
   ]
  },
  {
   "cell_type": "markdown",
   "metadata": {
    "colab_type": "text",
    "id": "ktdZ7wmG_CQc"
   },
   "source": [
    "#Q. GCD and LCM\n",
    "Write a program that takes two inputs from the user $a$ and $b$ and prints their gcd and lcm. (Use functions from math library)\n"
   ]
  },
  {
   "cell_type": "code",
   "execution_count": 13,
   "metadata": {
    "colab": {},
    "colab_type": "code",
    "id": "ANzcJahd_vcL"
   },
   "outputs": [
    {
     "name": "stdin",
     "output_type": "stream",
     "text": [
      "enter the value of a 175\n",
      "enter the value of b 21\n"
     ]
    },
    {
     "name": "stdout",
     "output_type": "stream",
     "text": [
      "GCD of 175 and 21 is 7\n",
      "LCM of 175 and 21 is 525\n"
     ]
    }
   ],
   "source": [
    "import math\n",
    "a = int(input('enter the value of a'))\n",
    "b = int(input('enter the value of b'))\n",
    "gcd = math.gcd(a,b)\n",
    "lcm = (a*b) // gcd\n",
    "print(f\"GCD of {a} and {b} is {gcd}\")\n",
    "print(f\"LCM of {a} and {b} is {lcm}\")"
   ]
  },
  {
   "cell_type": "markdown",
   "metadata": {
    "colab_type": "text",
    "id": "bVDRuUDqNVRb"
   },
   "source": [
    "##Q. Right Justify\n",
    "Python has a function called ```len``` that returns the _length of a string_. <br>\n",
    "Write a function that takes a string ```s``` as a parameter and prints the string with enough leading spaces so that the last letter of the string is in column 70 of the display. <br>\n",
    "```\n",
    "right_justify('Hari')\n",
    "```\n",
    "Expected Output: <br>\n",
    "<img src=\"https://drive.google.com/uc?id=1DaifS8HV5PE7HbUvSbdj_N2Q-t88Wr8Q\" width=\"400\">\n",
    "\n",
    "\n"
   ]
  },
  {
   "cell_type": "code",
   "execution_count": 16,
   "metadata": {
    "colab": {},
    "colab_type": "code",
    "id": "ZXLMeoiuZhL9"
   },
   "outputs": [],
   "source": [
    "def right_justify(s):\n",
    "    diff = 70-len(s)\n",
    "    newstring = \" \"*diff+s\n",
    "    print(newstring)\n",
    "    return len(newstring)"
   ]
  },
  {
   "cell_type": "code",
   "execution_count": 17,
   "metadata": {
    "colab": {},
    "colab_type": "code",
    "id": "5GGu7KB7i27E"
   },
   "outputs": [
    {
     "name": "stdout",
     "output_type": "stream",
     "text": [
      "                                                                 arnab\n",
      "70\n"
     ]
    }
   ],
   "source": [
    "print(right_justify('arnab'))"
   ]
  },
  {
   "cell_type": "markdown",
   "metadata": {
    "colab_type": "text",
    "id": "KsC-3mHZa8Zh"
   },
   "source": [
    "#Q. Do Anything Twice\n",
    "Refer to Drill 19(programming drill - 4) for this question. <br>\n",
    "- Modify ```do_twice``` so that it takes two arguments - a function object and a value, and calls the function twice, passing value as argument.\n",
    "- Define a new function ```do_four``` that takes a function object and a value and calls the function four times. There should only be two statements in the body of the function.\n"
   ]
  },
  {
   "cell_type": "code",
   "execution_count": null,
   "metadata": {
    "colab": {},
    "colab_type": "code",
    "id": "3NMeZgbfZt6E"
   },
   "outputs": [],
   "source": [
    "def do_twice(f, v):\n",
    "  \"\"\"\n",
    "  This function calls any function object that is passed to it twice passing v as the argument\n",
    "\n",
    "  Input:\n",
    "    f: function object\n",
    "    v: value\n",
    "  \"\"\"\n",
    "  ### Write your code here"
   ]
  },
  {
   "cell_type": "code",
   "execution_count": null,
   "metadata": {
    "colab": {},
    "colab_type": "code",
    "id": "TzNdGRxSdi4V"
   },
   "outputs": [],
   "source": [
    "def do_four(f, v):\n",
    "  \"\"\"\n",
    "  This function calls any function object that is passed to it four times passing v as the argument\n",
    "\n",
    "  Input:\n",
    "    f: function object\n",
    "    v: value\n",
    "  \"\"\"\n",
    "  ### Write your code here"
   ]
  },
  {
   "cell_type": "code",
   "execution_count": null,
   "metadata": {
    "colab": {},
    "colab_type": "code",
    "id": "hbtZYLPqhTJh"
   },
   "outputs": [],
   "source": [
    "### Write some code to test your functions here"
   ]
  },
  {
   "cell_type": "markdown",
   "metadata": {
    "colab_type": "text",
    "id": "dnK2S6Y6MUnL"
   },
   "source": [
    "#Q. Grid art\n",
    "Write a function that draws a grid like the following: <br>\n",
    "<img src=\"https://drive.google.com/uc?id=1a4-dj7bd4f8aYATscJiMgAkZi087n8Ie\" width=\"200\">"
   ]
  },
  {
   "cell_type": "code",
   "execution_count": 20,
   "metadata": {
    "colab": {},
    "colab_type": "code",
    "id": "muJBmDEdMML0"
   },
   "outputs": [
    {
     "name": "stdout",
     "output_type": "stream",
     "text": [
      "+- - - - + - - - - +\n"
     ]
    }
   ],
   "source": [
    "def draw_grid_art():\n",
    "  print(\"+- - - - + - - - - +\")\n",
    "  \n",
    "draw_grid_art()"
   ]
  },
  {
   "cell_type": "markdown",
   "metadata": {
    "colab_type": "text",
    "id": "W2Gq1-znmCWh"
   },
   "source": [
    "Write a function that prints a similar grid but with four rows and four columns."
   ]
  },
  {
   "cell_type": "code",
   "execution_count": null,
   "metadata": {
    "colab": {},
    "colab_type": "code",
    "id": "DFyd554ljoif"
   },
   "outputs": [],
   "source": [
    "def draw_grid_art_four():\n",
    "  ### Write your code here"
   ]
  }
 ],
 "metadata": {
  "colab": {
   "authorship_tag": "ABX9TyNbA0VED+1kbx5EplDCitF8",
   "name": "Assignment1.ipynb",
   "provenance": []
  },
  "kernelspec": {
   "display_name": "Python 3",
   "language": "python",
   "name": "python3"
  },
  "language_info": {
   "codemirror_mode": {
    "name": "ipython",
    "version": 3
   },
   "file_extension": ".py",
   "mimetype": "text/x-python",
   "name": "python",
   "nbconvert_exporter": "python",
   "pygments_lexer": "ipython3",
   "version": "3.7.4"
  }
 },
 "nbformat": 4,
 "nbformat_minor": 4
}
