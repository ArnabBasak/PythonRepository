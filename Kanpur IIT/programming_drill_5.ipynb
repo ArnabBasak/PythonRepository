{
 "cells": [
  {
   "cell_type": "markdown",
   "metadata": {
    "colab_type": "text",
    "id": "2YLk3Gv4MATN"
   },
   "source": [
    "#Drill #20\n",
    "<img src=\"https://drive.google.com/uc?id=1jFZCf2fOhvOfAPmNW0mMhcCw-vs8Ukfq\" width=\"400\">\n",
    "\n",
    "####Expected Output:\n",
    "<img src=\"https://drive.google.com/uc?id=193u64JKk7kGDiYO07lZeY4_na5loaQDg\" width=\"250\">"
   ]
  },
  {
   "cell_type": "code",
   "execution_count": null,
   "metadata": {
    "colab": {},
    "colab_type": "code",
    "id": "u5oZF_PtPrV1"
   },
   "outputs": [],
   "source": [
    "### Write your code here"
   ]
  },
  {
   "cell_type": "markdown",
   "metadata": {
    "colab_type": "text",
    "id": "o5Aik8a3OBO0"
   },
   "source": [
    "# Drill #21\n",
    "<img src=\"https://drive.google.com/uc?id=1W7Es2eYu7P2ge50Phx4ufCeQouQz51oZ\" width=\"400\">\n",
    "\n",
    "#### Expected Output\n",
    "<img src=\"https://drive.google.com/uc?id=1VqcfhTIPgR9OvGOEyng65Mpc6OVJhUMs\" width=\"250\">"
   ]
  },
  {
   "cell_type": "code",
   "execution_count": null,
   "metadata": {
    "colab": {},
    "colab_type": "code",
    "id": "an9WWw4nL2lk"
   },
   "outputs": [],
   "source": [
    "### Write your code here"
   ]
  },
  {
   "cell_type": "markdown",
   "metadata": {
    "colab_type": "text",
    "id": "iZ76UVzQPt-s"
   },
   "source": [
    "# Drill #22\n",
    "<img src=\"https://drive.google.com/uc?id=1cU17eW9p4Y4653A-Fb2ZnPIdo9kZHRHx\" width=\"400\"> <br>\n",
    "<img src=\"https://drive.google.com/uc?id=1nIW0lrApKQORj7L28hnnkFM3rpPHZRkq\" width=\"400\">\n",
    "#### Expected Output\n",
    "<img src=\"https://drive.google.com/uc?id=1mhrc2muk2WCTqqMIgwbsEfUYEbScLNL4\"\n",
    "width=\"250\">"
   ]
  },
  {
   "cell_type": "code",
   "execution_count": null,
   "metadata": {
    "colab": {},
    "colab_type": "code",
    "id": "jABRfu_bM4s9"
   },
   "outputs": [],
   "source": [
    "#### Write your code here"
   ]
  },
  {
   "cell_type": "markdown",
   "metadata": {
    "colab_type": "text",
    "id": "_twCf-rpU4Bp"
   },
   "source": [
    "#### 22.1 \n",
    "Make new parts of game and change what decisions people can make."
   ]
  },
  {
   "cell_type": "code",
   "execution_count": null,
   "metadata": {
    "colab": {},
    "colab_type": "code",
    "id": "C2tiPAbQSE66"
   },
   "outputs": [],
   "source": [
    "#### Write your code here"
   ]
  }
 ],
 "metadata": {
  "colab": {
   "authorship_tag": "ABX9TyOQ3PyJelpL/Wjk1/5SZqXi",
   "name": "programming_drill_5.ipynb",
   "provenance": []
  },
  "kernelspec": {
   "display_name": "Python 3",
   "language": "python",
   "name": "python3"
  },
  "language_info": {
   "codemirror_mode": {
    "name": "ipython",
    "version": 3
   },
   "file_extension": ".py",
   "mimetype": "text/x-python",
   "name": "python",
   "nbconvert_exporter": "python",
   "pygments_lexer": "ipython3",
   "version": "3.7.4"
  }
 },
 "nbformat": 4,
 "nbformat_minor": 4
}
