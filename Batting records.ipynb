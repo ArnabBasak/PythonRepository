{
 "cells": [
  {
   "cell_type": "markdown",
   "metadata": {},
   "source": [
    "<h3> This is just a exploratory analysis of the highest run getter in the ODI cricket fetched 88 records from espn crickinfo to do some data analysis</h3>"
   ]
  },
  {
   "cell_type": "code",
   "execution_count": 1,
   "metadata": {},
   "outputs": [],
   "source": [
    "import pandas as pd\n",
    "import numpy as np\n",
    "import pandas_profiling\n",
    "import matplotlib.pyplot as plt; plt.rcdefaults()\n",
    "import matplotlib.pyplot as plt"
   ]
  },
  {
   "cell_type": "markdown",
   "metadata": {},
   "source": [
    "<h5>Reading the data from html</h5> "
   ]
  },
  {
   "cell_type": "code",
   "execution_count": 2,
   "metadata": {},
   "outputs": [],
   "source": [
    "#df = pd.read_html('http://stats.espncricinfo.com/ci/content/records/83548.html')"
   ]
  },
  {
   "cell_type": "markdown",
   "metadata": {},
   "source": [
    "<h5>Fetching the data</h5>"
   ]
  },
  {
   "cell_type": "code",
   "execution_count": 3,
   "metadata": {},
   "outputs": [],
   "source": [
    "#data = df[0]"
   ]
  },
  {
   "cell_type": "markdown",
   "metadata": {},
   "source": [
    "putting the data in csv file"
   ]
  },
  {
   "cell_type": "code",
   "execution_count": 4,
   "metadata": {},
   "outputs": [],
   "source": [
    "#data.to_csv('player_data.csv')"
   ]
  },
  {
   "cell_type": "markdown",
   "metadata": {},
   "source": [
    "<h5>reading the data from the csv file</h5> "
   ]
  },
  {
   "cell_type": "code",
   "execution_count": 5,
   "metadata": {},
   "outputs": [],
   "source": [
    "batting_records = pd.read_csv('player_data.csv')"
   ]
  },
  {
   "cell_type": "markdown",
   "metadata": {},
   "source": [
    "<h5>summarizing the data</h5>"
   ]
  },
  {
   "cell_type": "code",
   "execution_count": 6,
   "metadata": {},
   "outputs": [
    {
     "name": "stdout",
     "output_type": "stream",
     "text": [
      "<class 'pandas.core.frame.DataFrame'>\n",
      "RangeIndex: 88 entries, 0 to 87\n",
      "Data columns (total 19 columns):\n",
      "Player_name        88 non-null object\n",
      "Teams              88 non-null object\n",
      "Starting_year      88 non-null int64\n",
      "final_year         88 non-null int64\n",
      "span               88 non-null int64\n",
      "Matches            88 non-null object\n",
      "Inns               88 non-null int64\n",
      "NO                 88 non-null int64\n",
      "Runs               88 non-null int64\n",
      "Highest_score      88 non-null int64\n",
      "Average            88 non-null float64\n",
      "Balls_faced        88 non-null int64\n",
      "Strike_rate        88 non-null float64\n",
      "centuries          88 non-null int64\n",
      "half_centuries     88 non-null int64\n",
      "conversion_rate    88 non-null float64\n",
      "zeros              88 non-null int64\n",
      "fours              88 non-null int64\n",
      "sixes              88 non-null int64\n",
      "dtypes: float64(3), int64(13), object(3)\n",
      "memory usage: 13.1+ KB\n"
     ]
    }
   ],
   "source": [
    "batting_records.info()"
   ]
  },
  {
   "cell_type": "markdown",
   "metadata": {},
   "source": [
    "<h5>Getting the first five head count </h5>"
   ]
  },
  {
   "cell_type": "code",
   "execution_count": 7,
   "metadata": {},
   "outputs": [
    {
     "data": {
      "text/html": [
       "<div>\n",
       "<style scoped>\n",
       "    .dataframe tbody tr th:only-of-type {\n",
       "        vertical-align: middle;\n",
       "    }\n",
       "\n",
       "    .dataframe tbody tr th {\n",
       "        vertical-align: top;\n",
       "    }\n",
       "\n",
       "    .dataframe thead th {\n",
       "        text-align: right;\n",
       "    }\n",
       "</style>\n",
       "<table border=\"1\" class=\"dataframe\">\n",
       "  <thead>\n",
       "    <tr style=\"text-align: right;\">\n",
       "      <th></th>\n",
       "      <th>Player_name</th>\n",
       "      <th>Teams</th>\n",
       "      <th>Starting_year</th>\n",
       "      <th>final_year</th>\n",
       "      <th>span</th>\n",
       "      <th>Matches</th>\n",
       "      <th>Inns</th>\n",
       "      <th>NO</th>\n",
       "      <th>Runs</th>\n",
       "      <th>Highest_score</th>\n",
       "      <th>Average</th>\n",
       "      <th>Balls_faced</th>\n",
       "      <th>Strike_rate</th>\n",
       "      <th>centuries</th>\n",
       "      <th>half_centuries</th>\n",
       "      <th>conversion_rate</th>\n",
       "      <th>zeros</th>\n",
       "      <th>fours</th>\n",
       "      <th>sixes</th>\n",
       "    </tr>\n",
       "  </thead>\n",
       "  <tbody>\n",
       "    <tr>\n",
       "      <th>0</th>\n",
       "      <td>SR Tendulkar</td>\n",
       "      <td>INDIA</td>\n",
       "      <td>1989</td>\n",
       "      <td>2012</td>\n",
       "      <td>23</td>\n",
       "      <td>463</td>\n",
       "      <td>452</td>\n",
       "      <td>41</td>\n",
       "      <td>18426</td>\n",
       "      <td>200</td>\n",
       "      <td>44.83</td>\n",
       "      <td>21367</td>\n",
       "      <td>86.23</td>\n",
       "      <td>49</td>\n",
       "      <td>96</td>\n",
       "      <td>51.041667</td>\n",
       "      <td>20</td>\n",
       "      <td>2016</td>\n",
       "      <td>195</td>\n",
       "    </tr>\n",
       "    <tr>\n",
       "      <th>1</th>\n",
       "      <td>KC Sangakkara</td>\n",
       "      <td>SL</td>\n",
       "      <td>2000</td>\n",
       "      <td>2015</td>\n",
       "      <td>15</td>\n",
       "      <td>404</td>\n",
       "      <td>380</td>\n",
       "      <td>41</td>\n",
       "      <td>14234</td>\n",
       "      <td>169</td>\n",
       "      <td>41.98</td>\n",
       "      <td>18048</td>\n",
       "      <td>78.86</td>\n",
       "      <td>25</td>\n",
       "      <td>93</td>\n",
       "      <td>26.881720</td>\n",
       "      <td>15</td>\n",
       "      <td>1385</td>\n",
       "      <td>88</td>\n",
       "    </tr>\n",
       "    <tr>\n",
       "      <th>2</th>\n",
       "      <td>RT Ponting</td>\n",
       "      <td>AUS</td>\n",
       "      <td>1995</td>\n",
       "      <td>2012</td>\n",
       "      <td>17</td>\n",
       "      <td>375</td>\n",
       "      <td>365</td>\n",
       "      <td>39</td>\n",
       "      <td>13704</td>\n",
       "      <td>164</td>\n",
       "      <td>42.03</td>\n",
       "      <td>17046</td>\n",
       "      <td>80.39</td>\n",
       "      <td>30</td>\n",
       "      <td>82</td>\n",
       "      <td>36.585366</td>\n",
       "      <td>20</td>\n",
       "      <td>1231</td>\n",
       "      <td>162</td>\n",
       "    </tr>\n",
       "    <tr>\n",
       "      <th>3</th>\n",
       "      <td>ST Jayasuriya</td>\n",
       "      <td>SL</td>\n",
       "      <td>1989</td>\n",
       "      <td>2011</td>\n",
       "      <td>22</td>\n",
       "      <td>445</td>\n",
       "      <td>433</td>\n",
       "      <td>18</td>\n",
       "      <td>13430</td>\n",
       "      <td>189</td>\n",
       "      <td>32.36</td>\n",
       "      <td>14725</td>\n",
       "      <td>91.20</td>\n",
       "      <td>28</td>\n",
       "      <td>68</td>\n",
       "      <td>41.176471</td>\n",
       "      <td>34</td>\n",
       "      <td>1500</td>\n",
       "      <td>270</td>\n",
       "    </tr>\n",
       "    <tr>\n",
       "      <th>4</th>\n",
       "      <td>DPMD Jayawardene</td>\n",
       "      <td>SL</td>\n",
       "      <td>1998</td>\n",
       "      <td>2015</td>\n",
       "      <td>17</td>\n",
       "      <td>448</td>\n",
       "      <td>418</td>\n",
       "      <td>39</td>\n",
       "      <td>12650</td>\n",
       "      <td>144</td>\n",
       "      <td>33.37</td>\n",
       "      <td>16020</td>\n",
       "      <td>78.96</td>\n",
       "      <td>19</td>\n",
       "      <td>77</td>\n",
       "      <td>24.675325</td>\n",
       "      <td>28</td>\n",
       "      <td>1119</td>\n",
       "      <td>76</td>\n",
       "    </tr>\n",
       "  </tbody>\n",
       "</table>\n",
       "</div>"
      ],
      "text/plain": [
       "         Player_name  Teams  Starting_year  final_year  span Matches  Inns  \\\n",
       "0      SR Tendulkar   INDIA           1989        2012    23     463   452   \n",
       "1     KC Sangakkara      SL           2000        2015    15     404   380   \n",
       "2        RT Ponting     AUS           1995        2012    17     375   365   \n",
       "3     ST Jayasuriya      SL           1989        2011    22     445   433   \n",
       "4  DPMD Jayawardene      SL           1998        2015    17     448   418   \n",
       "\n",
       "   NO   Runs  Highest_score  Average  Balls_faced  Strike_rate  centuries  \\\n",
       "0  41  18426            200    44.83        21367        86.23         49   \n",
       "1  41  14234            169    41.98        18048        78.86         25   \n",
       "2  39  13704            164    42.03        17046        80.39         30   \n",
       "3  18  13430            189    32.36        14725        91.20         28   \n",
       "4  39  12650            144    33.37        16020        78.96         19   \n",
       "\n",
       "   half_centuries  conversion_rate  zeros  fours  sixes  \n",
       "0              96        51.041667     20   2016    195  \n",
       "1              93        26.881720     15   1385     88  \n",
       "2              82        36.585366     20   1231    162  \n",
       "3              68        41.176471     34   1500    270  \n",
       "4              77        24.675325     28   1119     76  "
      ]
     },
     "execution_count": 7,
     "metadata": {},
     "output_type": "execute_result"
    }
   ],
   "source": [
    "batting_records.head(5)"
   ]
  },
  {
   "cell_type": "markdown",
   "metadata": {},
   "source": [
    "<h5> getting the last five tail count </h5>"
   ]
  },
  {
   "cell_type": "code",
   "execution_count": 8,
   "metadata": {},
   "outputs": [
    {
     "data": {
      "text/html": [
       "<div>\n",
       "<style scoped>\n",
       "    .dataframe tbody tr th:only-of-type {\n",
       "        vertical-align: middle;\n",
       "    }\n",
       "\n",
       "    .dataframe tbody tr th {\n",
       "        vertical-align: top;\n",
       "    }\n",
       "\n",
       "    .dataframe thead th {\n",
       "        text-align: right;\n",
       "    }\n",
       "</style>\n",
       "<table border=\"1\" class=\"dataframe\">\n",
       "  <thead>\n",
       "    <tr style=\"text-align: right;\">\n",
       "      <th></th>\n",
       "      <th>Player_name</th>\n",
       "      <th>Teams</th>\n",
       "      <th>Starting_year</th>\n",
       "      <th>final_year</th>\n",
       "      <th>span</th>\n",
       "      <th>Matches</th>\n",
       "      <th>Inns</th>\n",
       "      <th>NO</th>\n",
       "      <th>Runs</th>\n",
       "      <th>Highest_score</th>\n",
       "      <th>Average</th>\n",
       "      <th>Balls_faced</th>\n",
       "      <th>Strike_rate</th>\n",
       "      <th>centuries</th>\n",
       "      <th>half_centuries</th>\n",
       "      <th>conversion_rate</th>\n",
       "      <th>zeros</th>\n",
       "      <th>fours</th>\n",
       "      <th>sixes</th>\n",
       "    </tr>\n",
       "  </thead>\n",
       "  <tbody>\n",
       "    <tr>\n",
       "      <th>83</th>\n",
       "      <td>Misbah-ul-Haq</td>\n",
       "      <td>PAK</td>\n",
       "      <td>2002</td>\n",
       "      <td>2015</td>\n",
       "      <td>13</td>\n",
       "      <td>162</td>\n",
       "      <td>149</td>\n",
       "      <td>31</td>\n",
       "      <td>5122</td>\n",
       "      <td>96</td>\n",
       "      <td>43.40</td>\n",
       "      <td>6945</td>\n",
       "      <td>73.75</td>\n",
       "      <td>0</td>\n",
       "      <td>42</td>\n",
       "      <td>0.000000</td>\n",
       "      <td>6</td>\n",
       "      <td>342</td>\n",
       "      <td>83</td>\n",
       "    </tr>\n",
       "    <tr>\n",
       "      <th>84</th>\n",
       "      <td>JP Duminy</td>\n",
       "      <td>SA</td>\n",
       "      <td>2004</td>\n",
       "      <td>2019</td>\n",
       "      <td>15</td>\n",
       "      <td>197</td>\n",
       "      <td>178</td>\n",
       "      <td>40</td>\n",
       "      <td>5103</td>\n",
       "      <td>150</td>\n",
       "      <td>36.97</td>\n",
       "      <td>6039</td>\n",
       "      <td>84.50</td>\n",
       "      <td>4</td>\n",
       "      <td>27</td>\n",
       "      <td>14.814815</td>\n",
       "      <td>7</td>\n",
       "      <td>346</td>\n",
       "      <td>75</td>\n",
       "    </tr>\n",
       "    <tr>\n",
       "      <th>85</th>\n",
       "      <td>PD Collingwood</td>\n",
       "      <td>ENG</td>\n",
       "      <td>2001</td>\n",
       "      <td>2011</td>\n",
       "      <td>10</td>\n",
       "      <td>197</td>\n",
       "      <td>181</td>\n",
       "      <td>37</td>\n",
       "      <td>5092</td>\n",
       "      <td>120</td>\n",
       "      <td>35.36</td>\n",
       "      <td>6614</td>\n",
       "      <td>76.98</td>\n",
       "      <td>5</td>\n",
       "      <td>26</td>\n",
       "      <td>19.230769</td>\n",
       "      <td>7</td>\n",
       "      <td>365</td>\n",
       "      <td>74</td>\n",
       "    </tr>\n",
       "    <tr>\n",
       "      <th>86</th>\n",
       "      <td>A Symonds</td>\n",
       "      <td>AUS</td>\n",
       "      <td>1998</td>\n",
       "      <td>2009</td>\n",
       "      <td>11</td>\n",
       "      <td>198</td>\n",
       "      <td>161</td>\n",
       "      <td>33</td>\n",
       "      <td>5088</td>\n",
       "      <td>156</td>\n",
       "      <td>39.75</td>\n",
       "      <td>5504</td>\n",
       "      <td>92.44</td>\n",
       "      <td>6</td>\n",
       "      <td>30</td>\n",
       "      <td>20.000000</td>\n",
       "      <td>15</td>\n",
       "      <td>449</td>\n",
       "      <td>103</td>\n",
       "    </tr>\n",
       "    <tr>\n",
       "      <th>87</th>\n",
       "      <td>Abdul Razzaq</td>\n",
       "      <td>PAK</td>\n",
       "      <td>1996</td>\n",
       "      <td>2011</td>\n",
       "      <td>15</td>\n",
       "      <td>265</td>\n",
       "      <td>228</td>\n",
       "      <td>57</td>\n",
       "      <td>5080</td>\n",
       "      <td>112</td>\n",
       "      <td>29.70</td>\n",
       "      <td>6252</td>\n",
       "      <td>81.25</td>\n",
       "      <td>3</td>\n",
       "      <td>23</td>\n",
       "      <td>13.043478</td>\n",
       "      <td>14</td>\n",
       "      <td>382</td>\n",
       "      <td>124</td>\n",
       "    </tr>\n",
       "  </tbody>\n",
       "</table>\n",
       "</div>"
      ],
      "text/plain": [
       "        Player_name Teams  Starting_year  final_year  span Matches  Inns  NO  \\\n",
       "83   Misbah-ul-Haq    PAK           2002        2015    13     162   149  31   \n",
       "84       JP Duminy     SA           2004        2019    15     197   178  40   \n",
       "85  PD Collingwood    ENG           2001        2011    10     197   181  37   \n",
       "86       A Symonds    AUS           1998        2009    11     198   161  33   \n",
       "87    Abdul Razzaq    PAK           1996        2011    15     265   228  57   \n",
       "\n",
       "    Runs  Highest_score  Average  Balls_faced  Strike_rate  centuries  \\\n",
       "83  5122             96    43.40         6945        73.75          0   \n",
       "84  5103            150    36.97         6039        84.50          4   \n",
       "85  5092            120    35.36         6614        76.98          5   \n",
       "86  5088            156    39.75         5504        92.44          6   \n",
       "87  5080            112    29.70         6252        81.25          3   \n",
       "\n",
       "    half_centuries  conversion_rate  zeros  fours  sixes  \n",
       "83              42         0.000000      6    342     83  \n",
       "84              27        14.814815      7    346     75  \n",
       "85              26        19.230769      7    365     74  \n",
       "86              30        20.000000     15    449    103  \n",
       "87              23        13.043478     14    382    124  "
      ]
     },
     "execution_count": 8,
     "metadata": {},
     "output_type": "execute_result"
    }
   ],
   "source": [
    "batting_records.tail(5)"
   ]
  },
  {
   "cell_type": "markdown",
   "metadata": {},
   "source": [
    "<h5>performing pandas profiling</h5>"
   ]
  },
  {
   "cell_type": "code",
   "execution_count": 9,
   "metadata": {},
   "outputs": [],
   "source": [
    "profile_report = pandas_profiling.ProfileReport(batting_records)\n",
    "profile_report.to_file('profile_report.html')"
   ]
  },
  {
   "cell_type": "markdown",
   "metadata": {},
   "source": [
    "<h5> most runs by the batsman</h5>"
   ]
  },
  {
   "cell_type": "code",
   "execution_count": 10,
   "metadata": {},
   "outputs": [
    {
     "data": {
      "text/html": [
       "<div>\n",
       "<style scoped>\n",
       "    .dataframe tbody tr th:only-of-type {\n",
       "        vertical-align: middle;\n",
       "    }\n",
       "\n",
       "    .dataframe tbody tr th {\n",
       "        vertical-align: top;\n",
       "    }\n",
       "\n",
       "    .dataframe thead th {\n",
       "        text-align: right;\n",
       "    }\n",
       "</style>\n",
       "<table border=\"1\" class=\"dataframe\">\n",
       "  <thead>\n",
       "    <tr style=\"text-align: right;\">\n",
       "      <th></th>\n",
       "      <th>Player_name</th>\n",
       "      <th>Runs</th>\n",
       "    </tr>\n",
       "  </thead>\n",
       "  <tbody>\n",
       "    <tr>\n",
       "      <th>0</th>\n",
       "      <td>SR Tendulkar</td>\n",
       "      <td>18426</td>\n",
       "    </tr>\n",
       "    <tr>\n",
       "      <th>1</th>\n",
       "      <td>KC Sangakkara</td>\n",
       "      <td>14234</td>\n",
       "    </tr>\n",
       "    <tr>\n",
       "      <th>2</th>\n",
       "      <td>RT Ponting</td>\n",
       "      <td>13704</td>\n",
       "    </tr>\n",
       "    <tr>\n",
       "      <th>3</th>\n",
       "      <td>ST Jayasuriya</td>\n",
       "      <td>13430</td>\n",
       "    </tr>\n",
       "    <tr>\n",
       "      <th>4</th>\n",
       "      <td>DPMD Jayawardene</td>\n",
       "      <td>12650</td>\n",
       "    </tr>\n",
       "  </tbody>\n",
       "</table>\n",
       "</div>"
      ],
      "text/plain": [
       "         Player_name   Runs\n",
       "0      SR Tendulkar   18426\n",
       "1     KC Sangakkara   14234\n",
       "2        RT Ponting   13704\n",
       "3     ST Jayasuriya   13430\n",
       "4  DPMD Jayawardene   12650"
      ]
     },
     "execution_count": 10,
     "metadata": {},
     "output_type": "execute_result"
    }
   ],
   "source": [
    "highest_runs = batting_records[['Player_name','Runs']]\n",
    "runs_data = highest_runs.head(5)\n",
    "runs_data"
   ]
  },
  {
   "cell_type": "markdown",
   "metadata": {},
   "source": [
    "<h5> Graph for top five highest run getters </h5>"
   ]
  },
  {
   "cell_type": "code",
   "execution_count": 11,
   "metadata": {},
   "outputs": [
    {
     "data": {
      "image/png": "[encoded data removed]",
      "text/plain": [
       "<Figure size 800x550 with 1 Axes>"
      ]
     },
     "metadata": {},
     "output_type": "display_data"
    }
   ],
   "source": [
    "x_axis = runs_data['Player_name']\n",
    "y_axis = runs_data['Runs']\n",
    "plt.bar(x_axis,y_axis,align = \"center\",alpha=0.5)\n",
    "#plt.xticks(x_axis,y_axis)\n",
    "plt.ylabel('Runs')\n",
    "plt.xlabel('Player_names')\n",
    "plt.title('Batsmans runs')\n",
    "#plt.figure(figsize=(10,50))\n",
    "plt.rcParams[\"figure.figsize\"] = [5,5]\n",
    "plt.show()"
   ]
  },
  {
   "cell_type": "markdown",
   "metadata": {},
   "source": [
    "<h5>least runs by the batsman</h5>"
   ]
  },
  {
   "cell_type": "code",
   "execution_count": 12,
   "metadata": {},
   "outputs": [
    {
     "data": {
      "text/html": [
       "<div>\n",
       "<style scoped>\n",
       "    .dataframe tbody tr th:only-of-type {\n",
       "        vertical-align: middle;\n",
       "    }\n",
       "\n",
       "    .dataframe tbody tr th {\n",
       "        vertical-align: top;\n",
       "    }\n",
       "\n",
       "    .dataframe thead th {\n",
       "        text-align: right;\n",
       "    }\n",
       "</style>\n",
       "<table border=\"1\" class=\"dataframe\">\n",
       "  <thead>\n",
       "    <tr style=\"text-align: right;\">\n",
       "      <th></th>\n",
       "      <th>Player_name</th>\n",
       "      <th>Runs</th>\n",
       "    </tr>\n",
       "  </thead>\n",
       "  <tbody>\n",
       "    <tr>\n",
       "      <th>83</th>\n",
       "      <td>Misbah-ul-Haq</td>\n",
       "      <td>5122</td>\n",
       "    </tr>\n",
       "    <tr>\n",
       "      <th>84</th>\n",
       "      <td>JP Duminy</td>\n",
       "      <td>5103</td>\n",
       "    </tr>\n",
       "    <tr>\n",
       "      <th>85</th>\n",
       "      <td>PD Collingwood</td>\n",
       "      <td>5092</td>\n",
       "    </tr>\n",
       "    <tr>\n",
       "      <th>86</th>\n",
       "      <td>A Symonds</td>\n",
       "      <td>5088</td>\n",
       "    </tr>\n",
       "    <tr>\n",
       "      <th>87</th>\n",
       "      <td>Abdul Razzaq</td>\n",
       "      <td>5080</td>\n",
       "    </tr>\n",
       "  </tbody>\n",
       "</table>\n",
       "</div>"
      ],
      "text/plain": [
       "        Player_name  Runs\n",
       "83   Misbah-ul-Haq   5122\n",
       "84       JP Duminy   5103\n",
       "85  PD Collingwood   5092\n",
       "86       A Symonds   5088\n",
       "87    Abdul Razzaq   5080"
      ]
     },
     "execution_count": 12,
     "metadata": {},
     "output_type": "execute_result"
    }
   ],
   "source": [
    "runs_data = highest_runs.tail(5)\n",
    "runs_data"
   ]
  },
  {
   "cell_type": "code",
   "execution_count": 13,
   "metadata": {},
   "outputs": [
    {
     "data": {
      "image/png": "[encoded data removed]",
      "text/plain": [
       "<Figure size 500x500 with 1 Axes>"
      ]
     },
     "metadata": {},
     "output_type": "display_data"
    }
   ],
   "source": [
    "x_axis = runs_data['Player_name']\n",
    "y_axis = runs_data['Runs']\n",
    "plt.bar(x_axis,y_axis,align = \"center\",alpha=0.5)\n",
    "#plt.xticks(x_axis,y_axis)\n",
    "plt.ylabel('Runs')\n",
    "plt.xlabel('Player_names')\n",
    "plt.title('Batsmans runs')\n",
    "#plt.figure(figsize=(10,50))\n",
    "plt.rcParams[\"figure.figsize\"] = [5,5]\n",
    "plt.show()"
   ]
  },
  {
   "cell_type": "markdown",
   "metadata": {},
   "source": [
    "<h5>most runs by a batsman</h5>"
   ]
  },
  {
   "cell_type": "code",
   "execution_count": 14,
   "metadata": {},
   "outputs": [
    {
     "data": {
      "text/html": [
       "<div>\n",
       "<style scoped>\n",
       "    .dataframe tbody tr th:only-of-type {\n",
       "        vertical-align: middle;\n",
       "    }\n",
       "\n",
       "    .dataframe tbody tr th {\n",
       "        vertical-align: top;\n",
       "    }\n",
       "\n",
       "    .dataframe thead th {\n",
       "        text-align: right;\n",
       "    }\n",
       "</style>\n",
       "<table border=\"1\" class=\"dataframe\">\n",
       "  <thead>\n",
       "    <tr style=\"text-align: right;\">\n",
       "      <th></th>\n",
       "      <th>Player_name</th>\n",
       "      <th>Runs</th>\n",
       "    </tr>\n",
       "  </thead>\n",
       "  <tbody>\n",
       "    <tr>\n",
       "      <th>0</th>\n",
       "      <td>SR Tendulkar</td>\n",
       "      <td>18426.0</td>\n",
       "    </tr>\n",
       "  </tbody>\n",
       "</table>\n",
       "</div>"
      ],
      "text/plain": [
       "     Player_name     Runs\n",
       "0  SR Tendulkar   18426.0"
      ]
     },
     "execution_count": 14,
     "metadata": {},
     "output_type": "execute_result"
    }
   ],
   "source": [
    "max_runs = batting_records[['Player_name','Runs']].where(batting_records['Runs'] == batting_records['Runs'].max())\n",
    "max_runs.dropna()"
   ]
  },
  {
   "cell_type": "markdown",
   "metadata": {},
   "source": [
    "<h5>most balls faced by a batsname</h5>"
   ]
  },
  {
   "cell_type": "code",
   "execution_count": 15,
   "metadata": {},
   "outputs": [
    {
     "data": {
      "text/html": [
       "<div>\n",
       "<style scoped>\n",
       "    .dataframe tbody tr th:only-of-type {\n",
       "        vertical-align: middle;\n",
       "    }\n",
       "\n",
       "    .dataframe tbody tr th {\n",
       "        vertical-align: top;\n",
       "    }\n",
       "\n",
       "    .dataframe thead th {\n",
       "        text-align: right;\n",
       "    }\n",
       "</style>\n",
       "<table border=\"1\" class=\"dataframe\">\n",
       "  <thead>\n",
       "    <tr style=\"text-align: right;\">\n",
       "      <th></th>\n",
       "      <th>Player_name</th>\n",
       "      <th>Balls_faced</th>\n",
       "    </tr>\n",
       "  </thead>\n",
       "  <tbody>\n",
       "    <tr>\n",
       "      <th>0</th>\n",
       "      <td>SR Tendulkar</td>\n",
       "      <td>21367.0</td>\n",
       "    </tr>\n",
       "  </tbody>\n",
       "</table>\n",
       "</div>"
      ],
      "text/plain": [
       "     Player_name  Balls_faced\n",
       "0  SR Tendulkar       21367.0"
      ]
     },
     "execution_count": 15,
     "metadata": {},
     "output_type": "execute_result"
    }
   ],
   "source": [
    "max_balls = batting_records[['Player_name','Balls_faced']].where(batting_records['Balls_faced'] == batting_records['Balls_faced'].max())\n",
    "max_balls.dropna()"
   ]
  },
  {
   "cell_type": "markdown",
   "metadata": {},
   "source": [
    "<h5> least number of runs scored to feature in this list </h5>"
   ]
  },
  {
   "cell_type": "code",
   "execution_count": 16,
   "metadata": {},
   "outputs": [
    {
     "data": {
      "text/html": [
       "<div>\n",
       "<style scoped>\n",
       "    .dataframe tbody tr th:only-of-type {\n",
       "        vertical-align: middle;\n",
       "    }\n",
       "\n",
       "    .dataframe tbody tr th {\n",
       "        vertical-align: top;\n",
       "    }\n",
       "\n",
       "    .dataframe thead th {\n",
       "        text-align: right;\n",
       "    }\n",
       "</style>\n",
       "<table border=\"1\" class=\"dataframe\">\n",
       "  <thead>\n",
       "    <tr style=\"text-align: right;\">\n",
       "      <th></th>\n",
       "      <th>Player_name</th>\n",
       "      <th>Runs</th>\n",
       "    </tr>\n",
       "  </thead>\n",
       "  <tbody>\n",
       "    <tr>\n",
       "      <th>87</th>\n",
       "      <td>Abdul Razzaq</td>\n",
       "      <td>5080.0</td>\n",
       "    </tr>\n",
       "  </tbody>\n",
       "</table>\n",
       "</div>"
      ],
      "text/plain": [
       "      Player_name    Runs\n",
       "87  Abdul Razzaq   5080.0"
      ]
     },
     "execution_count": 16,
     "metadata": {},
     "output_type": "execute_result"
    }
   ],
   "source": [
    "min_runs = batting_records[['Player_name','Runs']].where(batting_records['Runs'] == batting_records['Runs'].min())\n",
    "min_runs.dropna()"
   ]
  },
  {
   "cell_type": "markdown",
   "metadata": {},
   "source": [
    "<h5> least number of balls faced </h5>"
   ]
  },
  {
   "cell_type": "code",
   "execution_count": 17,
   "metadata": {},
   "outputs": [
    {
     "data": {
      "text/html": [
       "<div>\n",
       "<style scoped>\n",
       "    .dataframe tbody tr th:only-of-type {\n",
       "        vertical-align: middle;\n",
       "    }\n",
       "\n",
       "    .dataframe tbody tr th {\n",
       "        vertical-align: top;\n",
       "    }\n",
       "\n",
       "    .dataframe thead th {\n",
       "        text-align: right;\n",
       "    }\n",
       "</style>\n",
       "<table border=\"1\" class=\"dataframe\">\n",
       "  <thead>\n",
       "    <tr style=\"text-align: right;\">\n",
       "      <th></th>\n",
       "      <th>Player_name</th>\n",
       "      <th>Balls_faced</th>\n",
       "    </tr>\n",
       "  </thead>\n",
       "  <tbody>\n",
       "    <tr>\n",
       "      <th>86</th>\n",
       "      <td>A Symonds</td>\n",
       "      <td>5504.0</td>\n",
       "    </tr>\n",
       "  </tbody>\n",
       "</table>\n",
       "</div>"
      ],
      "text/plain": [
       "   Player_name  Balls_faced\n",
       "86  A Symonds        5504.0"
      ]
     },
     "execution_count": 17,
     "metadata": {},
     "output_type": "execute_result"
    }
   ],
   "source": [
    "min_balls = batting_records[['Player_name','Balls_faced']].where(batting_records['Balls_faced'] == batting_records['Balls_faced'].min())\n",
    "min_balls.dropna()"
   ]
  },
  {
   "cell_type": "markdown",
   "metadata": {},
   "source": [
    "<h5> HIghest strike rate </h5>"
   ]
  },
  {
   "cell_type": "code",
   "execution_count": 18,
   "metadata": {},
   "outputs": [
    {
     "data": {
      "text/html": [
       "<div>\n",
       "<style scoped>\n",
       "    .dataframe tbody tr th:only-of-type {\n",
       "        vertical-align: middle;\n",
       "    }\n",
       "\n",
       "    .dataframe tbody tr th {\n",
       "        vertical-align: top;\n",
       "    }\n",
       "\n",
       "    .dataframe thead th {\n",
       "        text-align: right;\n",
       "    }\n",
       "</style>\n",
       "<table border=\"1\" class=\"dataframe\">\n",
       "  <thead>\n",
       "    <tr style=\"text-align: right;\">\n",
       "      <th></th>\n",
       "      <th>Player_name</th>\n",
       "      <th>Strike_rate</th>\n",
       "    </tr>\n",
       "  </thead>\n",
       "  <tbody>\n",
       "    <tr>\n",
       "      <th>29</th>\n",
       "      <td>Shahid Afridi</td>\n",
       "      <td>117.0</td>\n",
       "    </tr>\n",
       "  </tbody>\n",
       "</table>\n",
       "</div>"
      ],
      "text/plain": [
       "       Player_name  Strike_rate\n",
       "29  Shahid Afridi         117.0"
      ]
     },
     "execution_count": 18,
     "metadata": {},
     "output_type": "execute_result"
    }
   ],
   "source": [
    "high_strike_rate = batting_records[['Player_name','Strike_rate']].where(batting_records['Strike_rate'] == batting_records['Strike_rate'].max())\n",
    "high_strike_rate.dropna()"
   ]
  },
  {
   "cell_type": "markdown",
   "metadata": {},
   "source": [
    "<h5> lowest strike rate </h5>"
   ]
  },
  {
   "cell_type": "code",
   "execution_count": 19,
   "metadata": {},
   "outputs": [
    {
     "data": {
      "text/html": [
       "<div>\n",
       "<style scoped>\n",
       "    .dataframe tbody tr th:only-of-type {\n",
       "        vertical-align: middle;\n",
       "    }\n",
       "\n",
       "    .dataframe tbody tr th {\n",
       "        vertical-align: top;\n",
       "    }\n",
       "\n",
       "    .dataframe thead th {\n",
       "        text-align: right;\n",
       "    }\n",
       "</style>\n",
       "<table border=\"1\" class=\"dataframe\">\n",
       "  <thead>\n",
       "    <tr style=\"text-align: right;\">\n",
       "      <th></th>\n",
       "      <th>Player_name</th>\n",
       "      <th>Strike_rate</th>\n",
       "    </tr>\n",
       "  </thead>\n",
       "  <tbody>\n",
       "    <tr>\n",
       "      <th>81</th>\n",
       "      <td>RS Mahanama</td>\n",
       "      <td>60.57</td>\n",
       "    </tr>\n",
       "  </tbody>\n",
       "</table>\n",
       "</div>"
      ],
      "text/plain": [
       "     Player_name  Strike_rate\n",
       "81  RS Mahanama         60.57"
      ]
     },
     "execution_count": 19,
     "metadata": {},
     "output_type": "execute_result"
    }
   ],
   "source": [
    "low_strike_rate = batting_records[['Player_name','Strike_rate']].where(batting_records['Strike_rate'] == batting_records['Strike_rate'].min())\n",
    "low_strike_rate.dropna()"
   ]
  },
  {
   "cell_type": "markdown",
   "metadata": {},
   "source": [
    "<h5> most hundered </h5>"
   ]
  },
  {
   "cell_type": "code",
   "execution_count": 20,
   "metadata": {},
   "outputs": [
    {
     "data": {
      "text/html": [
       "<div>\n",
       "<style scoped>\n",
       "    .dataframe tbody tr th:only-of-type {\n",
       "        vertical-align: middle;\n",
       "    }\n",
       "\n",
       "    .dataframe tbody tr th {\n",
       "        vertical-align: top;\n",
       "    }\n",
       "\n",
       "    .dataframe thead th {\n",
       "        text-align: right;\n",
       "    }\n",
       "</style>\n",
       "<table border=\"1\" class=\"dataframe\">\n",
       "  <thead>\n",
       "    <tr style=\"text-align: right;\">\n",
       "      <th></th>\n",
       "      <th>Player_name</th>\n",
       "      <th>centuries</th>\n",
       "    </tr>\n",
       "  </thead>\n",
       "  <tbody>\n",
       "    <tr>\n",
       "      <th>0</th>\n",
       "      <td>SR Tendulkar</td>\n",
       "      <td>49.0</td>\n",
       "    </tr>\n",
       "  </tbody>\n",
       "</table>\n",
       "</div>"
      ],
      "text/plain": [
       "     Player_name  centuries\n",
       "0  SR Tendulkar        49.0"
      ]
     },
     "execution_count": 20,
     "metadata": {},
     "output_type": "execute_result"
    }
   ],
   "source": [
    "most_hunderd = batting_records[['Player_name','centuries']].where(batting_records['centuries'] == batting_records['centuries'].max())\n",
    "most_hunderd.dropna()"
   ]
  },
  {
   "cell_type": "markdown",
   "metadata": {},
   "source": [
    "<h5> most fifties </h5>"
   ]
  },
  {
   "cell_type": "code",
   "execution_count": 21,
   "metadata": {},
   "outputs": [
    {
     "data": {
      "text/html": [
       "<div>\n",
       "<style scoped>\n",
       "    .dataframe tbody tr th:only-of-type {\n",
       "        vertical-align: middle;\n",
       "    }\n",
       "\n",
       "    .dataframe tbody tr th {\n",
       "        vertical-align: top;\n",
       "    }\n",
       "\n",
       "    .dataframe thead th {\n",
       "        text-align: right;\n",
       "    }\n",
       "</style>\n",
       "<table border=\"1\" class=\"dataframe\">\n",
       "  <thead>\n",
       "    <tr style=\"text-align: right;\">\n",
       "      <th></th>\n",
       "      <th>Player_name</th>\n",
       "      <th>half_centuries</th>\n",
       "    </tr>\n",
       "  </thead>\n",
       "  <tbody>\n",
       "    <tr>\n",
       "      <th>0</th>\n",
       "      <td>SR Tendulkar</td>\n",
       "      <td>96.0</td>\n",
       "    </tr>\n",
       "  </tbody>\n",
       "</table>\n",
       "</div>"
      ],
      "text/plain": [
       "     Player_name  half_centuries\n",
       "0  SR Tendulkar             96.0"
      ]
     },
     "execution_count": 21,
     "metadata": {},
     "output_type": "execute_result"
    }
   ],
   "source": [
    "most_fifty = batting_records[['Player_name','half_centuries']].where(batting_records['half_centuries'] == batting_records['half_centuries'].max())\n",
    "most_fifty.dropna()"
   ]
  },
  {
   "cell_type": "markdown",
   "metadata": {},
   "source": [
    "<h5>least hundered</h5>"
   ]
  },
  {
   "cell_type": "code",
   "execution_count": 22,
   "metadata": {},
   "outputs": [
    {
     "data": {
      "text/html": [
       "<div>\n",
       "<style scoped>\n",
       "    .dataframe tbody tr th:only-of-type {\n",
       "        vertical-align: middle;\n",
       "    }\n",
       "\n",
       "    .dataframe tbody tr th {\n",
       "        vertical-align: top;\n",
       "    }\n",
       "\n",
       "    .dataframe thead th {\n",
       "        text-align: right;\n",
       "    }\n",
       "</style>\n",
       "<table border=\"1\" class=\"dataframe\">\n",
       "  <thead>\n",
       "    <tr style=\"text-align: right;\">\n",
       "      <th></th>\n",
       "      <th>Player_name</th>\n",
       "      <th>centuries</th>\n",
       "      <th>Matches</th>\n",
       "      <th>Average</th>\n",
       "    </tr>\n",
       "  </thead>\n",
       "  <tbody>\n",
       "    <tr>\n",
       "      <th>83</th>\n",
       "      <td>Misbah-ul-Haq</td>\n",
       "      <td>0.0</td>\n",
       "      <td>162</td>\n",
       "      <td>43.4</td>\n",
       "    </tr>\n",
       "  </tbody>\n",
       "</table>\n",
       "</div>"
      ],
      "text/plain": [
       "       Player_name  centuries Matches  Average\n",
       "83  Misbah-ul-Haq         0.0     162     43.4"
      ]
     },
     "execution_count": 22,
     "metadata": {},
     "output_type": "execute_result"
    }
   ],
   "source": [
    "least_hunderd = batting_records[['Player_name','centuries','Matches','Average']].where(batting_records['centuries'] == batting_records['centuries'].min())\n",
    "least_hunderd.dropna()"
   ]
  },
  {
   "cell_type": "markdown",
   "metadata": {},
   "source": [
    "<h5> least fifties </h5>"
   ]
  },
  {
   "cell_type": "code",
   "execution_count": 23,
   "metadata": {},
   "outputs": [
    {
     "data": {
      "text/html": [
       "<div>\n",
       "<style scoped>\n",
       "    .dataframe tbody tr th:only-of-type {\n",
       "        vertical-align: middle;\n",
       "    }\n",
       "\n",
       "    .dataframe tbody tr th {\n",
       "        vertical-align: top;\n",
       "    }\n",
       "\n",
       "    .dataframe thead th {\n",
       "        text-align: right;\n",
       "    }\n",
       "</style>\n",
       "<table border=\"1\" class=\"dataframe\">\n",
       "  <thead>\n",
       "    <tr style=\"text-align: right;\">\n",
       "      <th></th>\n",
       "      <th>Player_name</th>\n",
       "      <th>half_centuries</th>\n",
       "    </tr>\n",
       "  </thead>\n",
       "  <tbody>\n",
       "    <tr>\n",
       "      <th>87</th>\n",
       "      <td>Abdul Razzaq</td>\n",
       "      <td>23.0</td>\n",
       "    </tr>\n",
       "  </tbody>\n",
       "</table>\n",
       "</div>"
      ],
      "text/plain": [
       "      Player_name  half_centuries\n",
       "87  Abdul Razzaq             23.0"
      ]
     },
     "execution_count": 23,
     "metadata": {},
     "output_type": "execute_result"
    }
   ],
   "source": [
    "least_fifty = batting_records[['Player_name','half_centuries']].where(batting_records['half_centuries'] == batting_records['half_centuries'].min())\n",
    "least_fifty.dropna()"
   ]
  },
  {
   "cell_type": "markdown",
   "metadata": {},
   "source": [
    "<h5> most zeros </h5>"
   ]
  },
  {
   "cell_type": "code",
   "execution_count": 24,
   "metadata": {},
   "outputs": [
    {
     "data": {
      "text/html": [
       "<div>\n",
       "<style scoped>\n",
       "    .dataframe tbody tr th:only-of-type {\n",
       "        vertical-align: middle;\n",
       "    }\n",
       "\n",
       "    .dataframe tbody tr th {\n",
       "        vertical-align: top;\n",
       "    }\n",
       "\n",
       "    .dataframe thead th {\n",
       "        text-align: right;\n",
       "    }\n",
       "</style>\n",
       "<table border=\"1\" class=\"dataframe\">\n",
       "  <thead>\n",
       "    <tr style=\"text-align: right;\">\n",
       "      <th></th>\n",
       "      <th>Player_name</th>\n",
       "      <th>zeros</th>\n",
       "      <th>Matches</th>\n",
       "    </tr>\n",
       "  </thead>\n",
       "  <tbody>\n",
       "    <tr>\n",
       "      <th>3</th>\n",
       "      <td>ST Jayasuriya</td>\n",
       "      <td>34.0</td>\n",
       "      <td>445</td>\n",
       "    </tr>\n",
       "  </tbody>\n",
       "</table>\n",
       "</div>"
      ],
      "text/plain": [
       "      Player_name  zeros Matches\n",
       "3  ST Jayasuriya    34.0     445"
      ]
     },
     "execution_count": 24,
     "metadata": {},
     "output_type": "execute_result"
    }
   ],
   "source": [
    "most_zeros = batting_records[['Player_name','zeros','Matches']].where(batting_records['zeros'] == batting_records['zeros'].max())\n",
    "most_zeros.dropna()\n"
   ]
  },
  {
   "cell_type": "markdown",
   "metadata": {},
   "source": [
    "<h5> least zeros </h5>"
   ]
  },
  {
   "cell_type": "code",
   "execution_count": 25,
   "metadata": {},
   "outputs": [
    {
     "data": {
      "text/html": [
       "<div>\n",
       "<style scoped>\n",
       "    .dataframe tbody tr th:only-of-type {\n",
       "        vertical-align: middle;\n",
       "    }\n",
       "\n",
       "    .dataframe tbody tr th {\n",
       "        vertical-align: top;\n",
       "    }\n",
       "\n",
       "    .dataframe thead th {\n",
       "        text-align: right;\n",
       "    }\n",
       "</style>\n",
       "<table border=\"1\" class=\"dataframe\">\n",
       "  <thead>\n",
       "    <tr style=\"text-align: right;\">\n",
       "      <th></th>\n",
       "      <th>Player_name</th>\n",
       "      <th>zeros</th>\n",
       "      <th>Matches</th>\n",
       "    </tr>\n",
       "  </thead>\n",
       "  <tbody>\n",
       "    <tr>\n",
       "      <th>74</th>\n",
       "      <td>MEK Hussey</td>\n",
       "      <td>3.0</td>\n",
       "      <td>185</td>\n",
       "    </tr>\n",
       "    <tr>\n",
       "      <th>78</th>\n",
       "      <td>F du Plessis</td>\n",
       "      <td>3.0</td>\n",
       "      <td>141*</td>\n",
       "    </tr>\n",
       "    <tr>\n",
       "      <th>82</th>\n",
       "      <td>CG Greenidge</td>\n",
       "      <td>3.0</td>\n",
       "      <td>128</td>\n",
       "    </tr>\n",
       "  </tbody>\n",
       "</table>\n",
       "</div>"
      ],
      "text/plain": [
       "      Player_name  zeros Matches\n",
       "74    MEK Hussey     3.0     185\n",
       "78  F du Plessis     3.0    141*\n",
       "82  CG Greenidge     3.0     128"
      ]
     },
     "execution_count": 25,
     "metadata": {},
     "output_type": "execute_result"
    }
   ],
   "source": [
    "least_zeros = batting_records[['Player_name','zeros','Matches']].where(batting_records['zeros'] == batting_records['zeros'].min())\n",
    "least_zeros.dropna()"
   ]
  },
  {
   "cell_type": "markdown",
   "metadata": {},
   "source": [
    "<h5> most not outs</h5>"
   ]
  },
  {
   "cell_type": "code",
   "execution_count": 26,
   "metadata": {},
   "outputs": [
    {
     "data": {
      "text/html": [
       "<div>\n",
       "<style scoped>\n",
       "    .dataframe tbody tr th:only-of-type {\n",
       "        vertical-align: middle;\n",
       "    }\n",
       "\n",
       "    .dataframe tbody tr th {\n",
       "        vertical-align: top;\n",
       "    }\n",
       "\n",
       "    .dataframe thead th {\n",
       "        text-align: right;\n",
       "    }\n",
       "</style>\n",
       "<table border=\"1\" class=\"dataframe\">\n",
       "  <thead>\n",
       "    <tr style=\"text-align: right;\">\n",
       "      <th></th>\n",
       "      <th>Player_name</th>\n",
       "      <th>NO</th>\n",
       "      <th>Matches</th>\n",
       "    </tr>\n",
       "  </thead>\n",
       "  <tbody>\n",
       "    <tr>\n",
       "      <th>10</th>\n",
       "      <td>MS Dhoni</td>\n",
       "      <td>82.0</td>\n",
       "      <td>345</td>\n",
       "    </tr>\n",
       "  </tbody>\n",
       "</table>\n",
       "</div>"
      ],
      "text/plain": [
       "   Player_name    NO Matches\n",
       "10   MS Dhoni   82.0     345"
      ]
     },
     "execution_count": 26,
     "metadata": {},
     "output_type": "execute_result"
    }
   ],
   "source": [
    "most_not_outs = batting_records[['Player_name','NO','Matches']].where(batting_records['NO'] == batting_records['NO'].max())\n",
    "most_not_outs.dropna()"
   ]
  },
  {
   "cell_type": "markdown",
   "metadata": {},
   "source": [
    "<h5> least not outs </h5>"
   ]
  },
  {
   "cell_type": "code",
   "execution_count": 27,
   "metadata": {},
   "outputs": [
    {
     "data": {
      "text/html": [
       "<div>\n",
       "<style scoped>\n",
       "    .dataframe tbody tr th:only-of-type {\n",
       "        vertical-align: middle;\n",
       "    }\n",
       "\n",
       "    .dataframe tbody tr th {\n",
       "        vertical-align: top;\n",
       "    }\n",
       "\n",
       "    .dataframe thead th {\n",
       "        text-align: right;\n",
       "    }\n",
       "</style>\n",
       "<table border=\"1\" class=\"dataframe\">\n",
       "  <thead>\n",
       "    <tr style=\"text-align: right;\">\n",
       "      <th></th>\n",
       "      <th>Player_name</th>\n",
       "      <th>NO</th>\n",
       "      <th>Matches</th>\n",
       "    </tr>\n",
       "  </thead>\n",
       "  <tbody>\n",
       "    <tr>\n",
       "      <th>68</th>\n",
       "      <td>H Masakadza</td>\n",
       "      <td>4.0</td>\n",
       "      <td>206</td>\n",
       "    </tr>\n",
       "  </tbody>\n",
       "</table>\n",
       "</div>"
      ],
      "text/plain": [
       "     Player_name   NO Matches\n",
       "68  H Masakadza   4.0     206"
      ]
     },
     "execution_count": 27,
     "metadata": {},
     "output_type": "execute_result"
    }
   ],
   "source": [
    "least_not_outs = batting_records[['Player_name','NO','Matches']].where(batting_records['NO'] == batting_records['NO'].min())\n",
    "least_not_outs.dropna()"
   ]
  },
  {
   "cell_type": "markdown",
   "metadata": {},
   "source": [
    "<h5> highest average </h5>"
   ]
  },
  {
   "cell_type": "code",
   "execution_count": 28,
   "metadata": {},
   "outputs": [
    {
     "data": {
      "text/html": [
       "<div>\n",
       "<style scoped>\n",
       "    .dataframe tbody tr th:only-of-type {\n",
       "        vertical-align: middle;\n",
       "    }\n",
       "\n",
       "    .dataframe tbody tr th {\n",
       "        vertical-align: top;\n",
       "    }\n",
       "\n",
       "    .dataframe thead th {\n",
       "        text-align: right;\n",
       "    }\n",
       "</style>\n",
       "<table border=\"1\" class=\"dataframe\">\n",
       "  <thead>\n",
       "    <tr style=\"text-align: right;\">\n",
       "      <th></th>\n",
       "      <th>Player_name</th>\n",
       "      <th>Average</th>\n",
       "      <th>Matches</th>\n",
       "    </tr>\n",
       "  </thead>\n",
       "  <tbody>\n",
       "    <tr>\n",
       "      <th>8</th>\n",
       "      <td>V Kohli</td>\n",
       "      <td>59.6</td>\n",
       "      <td>231</td>\n",
       "    </tr>\n",
       "  </tbody>\n",
       "</table>\n",
       "</div>"
      ],
      "text/plain": [
       "  Player_name  Average Matches\n",
       "8    V Kohli      59.6     231"
      ]
     },
     "execution_count": 28,
     "metadata": {},
     "output_type": "execute_result"
    }
   ],
   "source": [
    "highest_average = batting_records[['Player_name','Average','Matches']].where(batting_records['Average'] == batting_records['Average'].max())\n",
    "highest_average.dropna()"
   ]
  },
  {
   "cell_type": "markdown",
   "metadata": {},
   "source": [
    "<h5> least average </h5>"
   ]
  },
  {
   "cell_type": "code",
   "execution_count": 29,
   "metadata": {},
   "outputs": [
    {
     "data": {
      "text/html": [
       "<div>\n",
       "<style scoped>\n",
       "    .dataframe tbody tr th:only-of-type {\n",
       "        vertical-align: middle;\n",
       "    }\n",
       "\n",
       "    .dataframe tbody tr th {\n",
       "        vertical-align: top;\n",
       "    }\n",
       "\n",
       "    .dataframe thead th {\n",
       "        text-align: right;\n",
       "    }\n",
       "</style>\n",
       "<table border=\"1\" class=\"dataframe\">\n",
       "  <thead>\n",
       "    <tr style=\"text-align: right;\">\n",
       "      <th></th>\n",
       "      <th>Player_name</th>\n",
       "      <th>Average</th>\n",
       "      <th>Matches</th>\n",
       "    </tr>\n",
       "  </thead>\n",
       "  <tbody>\n",
       "    <tr>\n",
       "      <th>29</th>\n",
       "      <td>Shahid Afridi</td>\n",
       "      <td>23.57</td>\n",
       "      <td>398</td>\n",
       "    </tr>\n",
       "  </tbody>\n",
       "</table>\n",
       "</div>"
      ],
      "text/plain": [
       "       Player_name  Average Matches\n",
       "29  Shahid Afridi     23.57     398"
      ]
     },
     "execution_count": 29,
     "metadata": {},
     "output_type": "execute_result"
    }
   ],
   "source": [
    "least_average = batting_records[['Player_name','Average','Matches']].where(batting_records['Average'] == batting_records['Average'].min())\n",
    "least_average.dropna()"
   ]
  },
  {
   "cell_type": "markdown",
   "metadata": {},
   "source": [
    "<h5> most matches </h5>"
   ]
  },
  {
   "cell_type": "code",
   "execution_count": 30,
   "metadata": {},
   "outputs": [
    {
     "data": {
      "text/html": [
       "<div>\n",
       "<style scoped>\n",
       "    .dataframe tbody tr th:only-of-type {\n",
       "        vertical-align: middle;\n",
       "    }\n",
       "\n",
       "    .dataframe tbody tr th {\n",
       "        vertical-align: top;\n",
       "    }\n",
       "\n",
       "    .dataframe thead th {\n",
       "        text-align: right;\n",
       "    }\n",
       "</style>\n",
       "<table border=\"1\" class=\"dataframe\">\n",
       "  <thead>\n",
       "    <tr style=\"text-align: right;\">\n",
       "      <th></th>\n",
       "      <th>Player_name</th>\n",
       "      <th>Matches</th>\n",
       "    </tr>\n",
       "  </thead>\n",
       "  <tbody>\n",
       "    <tr>\n",
       "      <th>0</th>\n",
       "      <td>SR Tendulkar</td>\n",
       "      <td>463</td>\n",
       "    </tr>\n",
       "  </tbody>\n",
       "</table>\n",
       "</div>"
      ],
      "text/plain": [
       "     Player_name Matches\n",
       "0  SR Tendulkar      463"
      ]
     },
     "execution_count": 30,
     "metadata": {},
     "output_type": "execute_result"
    }
   ],
   "source": [
    "most_matches = batting_records[['Player_name','Matches']].where(batting_records['Matches'] == batting_records['Matches'].max())\n",
    "most_matches.dropna()"
   ]
  },
  {
   "cell_type": "markdown",
   "metadata": {},
   "source": [
    "<h5> Least matches </h5>"
   ]
  },
  {
   "cell_type": "code",
   "execution_count": 31,
   "metadata": {},
   "outputs": [
    {
     "data": {
      "text/html": [
       "<div>\n",
       "<style scoped>\n",
       "    .dataframe tbody tr th:only-of-type {\n",
       "        vertical-align: middle;\n",
       "    }\n",
       "\n",
       "    .dataframe tbody tr th {\n",
       "        vertical-align: top;\n",
       "    }\n",
       "\n",
       "    .dataframe thead th {\n",
       "        text-align: right;\n",
       "    }\n",
       "</style>\n",
       "<table border=\"1\" class=\"dataframe\">\n",
       "  <thead>\n",
       "    <tr style=\"text-align: right;\">\n",
       "      <th></th>\n",
       "      <th>Player_name</th>\n",
       "      <th>Matches</th>\n",
       "    </tr>\n",
       "  </thead>\n",
       "  <tbody>\n",
       "    <tr>\n",
       "      <th>82</th>\n",
       "      <td>CG Greenidge</td>\n",
       "      <td>128</td>\n",
       "    </tr>\n",
       "  </tbody>\n",
       "</table>\n",
       "</div>"
      ],
      "text/plain": [
       "      Player_name Matches\n",
       "82  CG Greenidge      128"
      ]
     },
     "execution_count": 31,
     "metadata": {},
     "output_type": "execute_result"
    }
   ],
   "source": [
    "least_matches = batting_records[['Player_name','Matches']].where(batting_records['Matches'] == batting_records['Matches'].min())\n",
    "least_matches.dropna()"
   ]
  },
  {
   "cell_type": "markdown",
   "metadata": {},
   "source": [
    "<h5> most fours </h5>"
   ]
  },
  {
   "cell_type": "code",
   "execution_count": 32,
   "metadata": {},
   "outputs": [
    {
     "data": {
      "text/html": [
       "<div>\n",
       "<style scoped>\n",
       "    .dataframe tbody tr th:only-of-type {\n",
       "        vertical-align: middle;\n",
       "    }\n",
       "\n",
       "    .dataframe tbody tr th {\n",
       "        vertical-align: top;\n",
       "    }\n",
       "\n",
       "    .dataframe thead th {\n",
       "        text-align: right;\n",
       "    }\n",
       "</style>\n",
       "<table border=\"1\" class=\"dataframe\">\n",
       "  <thead>\n",
       "    <tr style=\"text-align: right;\">\n",
       "      <th></th>\n",
       "      <th>Player_name</th>\n",
       "      <th>Matches</th>\n",
       "      <th>fours</th>\n",
       "    </tr>\n",
       "  </thead>\n",
       "  <tbody>\n",
       "    <tr>\n",
       "      <th>0</th>\n",
       "      <td>SR Tendulkar</td>\n",
       "      <td>463</td>\n",
       "      <td>2016.0</td>\n",
       "    </tr>\n",
       "  </tbody>\n",
       "</table>\n",
       "</div>"
      ],
      "text/plain": [
       "     Player_name Matches   fours\n",
       "0  SR Tendulkar      463  2016.0"
      ]
     },
     "execution_count": 32,
     "metadata": {},
     "output_type": "execute_result"
    }
   ],
   "source": [
    "most_fours = batting_records[['Player_name','Matches','fours']].where(batting_records['fours'] == batting_records['fours'].max())\n",
    "most_fours.dropna()"
   ]
  },
  {
   "cell_type": "markdown",
   "metadata": {},
   "source": [
    "<h5> Least fours </h5>"
   ]
  },
  {
   "cell_type": "code",
   "execution_count": 33,
   "metadata": {},
   "outputs": [
    {
     "data": {
      "text/html": [
       "<div>\n",
       "<style scoped>\n",
       "    .dataframe tbody tr th:only-of-type {\n",
       "        vertical-align: middle;\n",
       "    }\n",
       "\n",
       "    .dataframe tbody tr th {\n",
       "        vertical-align: top;\n",
       "    }\n",
       "\n",
       "    .dataframe thead th {\n",
       "        text-align: right;\n",
       "    }\n",
       "</style>\n",
       "<table border=\"1\" class=\"dataframe\">\n",
       "  <thead>\n",
       "    <tr style=\"text-align: right;\">\n",
       "      <th></th>\n",
       "      <th>Player_name</th>\n",
       "      <th>Matches</th>\n",
       "      <th>fours</th>\n",
       "    </tr>\n",
       "  </thead>\n",
       "  <tbody>\n",
       "    <tr>\n",
       "      <th>81</th>\n",
       "      <td>RS Mahanama</td>\n",
       "      <td>213</td>\n",
       "      <td>331.0</td>\n",
       "    </tr>\n",
       "  </tbody>\n",
       "</table>\n",
       "</div>"
      ],
      "text/plain": [
       "     Player_name Matches  fours\n",
       "81  RS Mahanama      213  331.0"
      ]
     },
     "execution_count": 33,
     "metadata": {},
     "output_type": "execute_result"
    }
   ],
   "source": [
    "least_fours = batting_records[['Player_name','Matches','fours']].where(batting_records['fours'] == batting_records['fours'].min())\n",
    "least_fours.dropna()"
   ]
  },
  {
   "cell_type": "markdown",
   "metadata": {},
   "source": [
    "<h5> most sixes </h5>"
   ]
  },
  {
   "cell_type": "code",
   "execution_count": 34,
   "metadata": {},
   "outputs": [
    {
     "data": {
      "text/html": [
       "<div>\n",
       "<style scoped>\n",
       "    .dataframe tbody tr th:only-of-type {\n",
       "        vertical-align: middle;\n",
       "    }\n",
       "\n",
       "    .dataframe tbody tr th {\n",
       "        vertical-align: top;\n",
       "    }\n",
       "\n",
       "    .dataframe thead th {\n",
       "        text-align: right;\n",
       "    }\n",
       "</style>\n",
       "<table border=\"1\" class=\"dataframe\">\n",
       "  <thead>\n",
       "    <tr style=\"text-align: right;\">\n",
       "      <th></th>\n",
       "      <th>Player_name</th>\n",
       "      <th>Matches</th>\n",
       "      <th>sixes</th>\n",
       "    </tr>\n",
       "  </thead>\n",
       "  <tbody>\n",
       "    <tr>\n",
       "      <th>29</th>\n",
       "      <td>Shahid Afridi</td>\n",
       "      <td>398</td>\n",
       "      <td>351.0</td>\n",
       "    </tr>\n",
       "  </tbody>\n",
       "</table>\n",
       "</div>"
      ],
      "text/plain": [
       "       Player_name Matches  sixes\n",
       "29  Shahid Afridi      398  351.0"
      ]
     },
     "execution_count": 34,
     "metadata": {},
     "output_type": "execute_result"
    }
   ],
   "source": [
    "most_sixes = batting_records[['Player_name','Matches','sixes']].where(batting_records['sixes'] == batting_records['sixes'].max())\n",
    "most_sixes.dropna()"
   ]
  },
  {
   "cell_type": "markdown",
   "metadata": {},
   "source": [
    "<h5> least sixes </h5>"
   ]
  },
  {
   "cell_type": "code",
   "execution_count": 35,
   "metadata": {},
   "outputs": [
    {
     "data": {
      "text/html": [
       "<div>\n",
       "<style scoped>\n",
       "    .dataframe tbody tr th:only-of-type {\n",
       "        vertical-align: middle;\n",
       "    }\n",
       "\n",
       "    .dataframe tbody tr th {\n",
       "        vertical-align: top;\n",
       "    }\n",
       "\n",
       "    .dataframe thead th {\n",
       "        text-align: right;\n",
       "    }\n",
       "</style>\n",
       "<table border=\"1\" class=\"dataframe\">\n",
       "  <thead>\n",
       "    <tr style=\"text-align: right;\">\n",
       "      <th></th>\n",
       "      <th>Player_name</th>\n",
       "      <th>Matches</th>\n",
       "      <th>sixes</th>\n",
       "    </tr>\n",
       "  </thead>\n",
       "  <tbody>\n",
       "    <tr>\n",
       "      <th>62</th>\n",
       "      <td>Rameez Raja</td>\n",
       "      <td>198</td>\n",
       "      <td>14.0</td>\n",
       "    </tr>\n",
       "  </tbody>\n",
       "</table>\n",
       "</div>"
      ],
      "text/plain": [
       "     Player_name Matches  sixes\n",
       "62  Rameez Raja      198   14.0"
      ]
     },
     "execution_count": 35,
     "metadata": {},
     "output_type": "execute_result"
    }
   ],
   "source": [
    "least_sixes = batting_records[['Player_name','Matches','sixes']].where(batting_records['sixes'] == batting_records['sixes'].min())\n",
    "least_sixes.dropna()"
   ]
  },
  {
   "cell_type": "markdown",
   "metadata": {},
   "source": [
    "<h5> longest spanning player </h5>"
   ]
  },
  {
   "cell_type": "code",
   "execution_count": 36,
   "metadata": {},
   "outputs": [
    {
     "data": {
      "text/html": [
       "<div>\n",
       "<style scoped>\n",
       "    .dataframe tbody tr th:only-of-type {\n",
       "        vertical-align: middle;\n",
       "    }\n",
       "\n",
       "    .dataframe tbody tr th {\n",
       "        vertical-align: top;\n",
       "    }\n",
       "\n",
       "    .dataframe thead th {\n",
       "        text-align: right;\n",
       "    }\n",
       "</style>\n",
       "<table border=\"1\" class=\"dataframe\">\n",
       "  <thead>\n",
       "    <tr style=\"text-align: right;\">\n",
       "      <th></th>\n",
       "      <th>Player_name</th>\n",
       "      <th>span</th>\n",
       "      <th>Matches</th>\n",
       "    </tr>\n",
       "  </thead>\n",
       "  <tbody>\n",
       "    <tr>\n",
       "      <th>0</th>\n",
       "      <td>SR Tendulkar</td>\n",
       "      <td>23.0</td>\n",
       "      <td>463</td>\n",
       "    </tr>\n",
       "  </tbody>\n",
       "</table>\n",
       "</div>"
      ],
      "text/plain": [
       "     Player_name  span Matches\n",
       "0  SR Tendulkar   23.0     463"
      ]
     },
     "execution_count": 36,
     "metadata": {},
     "output_type": "execute_result"
    }
   ],
   "source": [
    "span = batting_records[['Player_name','span','Matches']].where(batting_records['span'] == batting_records['span'].max())\n",
    "span.dropna()"
   ]
  },
  {
   "cell_type": "markdown",
   "metadata": {},
   "source": [
    "<h5> shortest spanning player </h5>"
   ]
  },
  {
   "cell_type": "code",
   "execution_count": 37,
   "metadata": {},
   "outputs": [
    {
     "data": {
      "text/html": [
       "<div>\n",
       "<style scoped>\n",
       "    .dataframe tbody tr th:only-of-type {\n",
       "        vertical-align: middle;\n",
       "    }\n",
       "\n",
       "    .dataframe tbody tr th {\n",
       "        vertical-align: top;\n",
       "    }\n",
       "\n",
       "    .dataframe thead th {\n",
       "        text-align: right;\n",
       "    }\n",
       "</style>\n",
       "<table border=\"1\" class=\"dataframe\">\n",
       "  <thead>\n",
       "    <tr style=\"text-align: right;\">\n",
       "      <th></th>\n",
       "      <th>Player_name</th>\n",
       "      <th>span</th>\n",
       "      <th>Matches</th>\n",
       "    </tr>\n",
       "  </thead>\n",
       "  <tbody>\n",
       "    <tr>\n",
       "      <th>67</th>\n",
       "      <td>JE Root</td>\n",
       "      <td>6.0</td>\n",
       "      <td>138</td>\n",
       "    </tr>\n",
       "  </tbody>\n",
       "</table>\n",
       "</div>"
      ],
      "text/plain": [
       "   Player_name  span Matches\n",
       "67    JE Root    6.0     138"
      ]
     },
     "execution_count": 37,
     "metadata": {},
     "output_type": "execute_result"
    }
   ],
   "source": [
    "span_min = batting_records[['Player_name','span','Matches']].where(batting_records['span'] == batting_records['span'].min())\n",
    "span_min.dropna()"
   ]
  },
  {
   "cell_type": "code",
   "execution_count": 38,
   "metadata": {},
   "outputs": [
    {
     "name": "stdout",
     "output_type": "stream",
     "text": [
      "The list comprises from different  11 countries\n"
     ]
    }
   ],
   "source": [
    "print('The list comprises from different ',batting_records.Teams.nunique(),'countries')\n"
   ]
  },
  {
   "cell_type": "code",
   "execution_count": 39,
   "metadata": {},
   "outputs": [
    {
     "data": {
      "text/plain": [
       "['INDIA',\n",
       " 'SL',\n",
       " 'AUS',\n",
       " 'PAK',\n",
       " 'SA',\n",
       " 'WI',\n",
       " 'NZ',\n",
       " 'ENGIRE',\n",
       " 'BDESH',\n",
       " 'ZIM',\n",
       " 'ENG']"
      ]
     },
     "execution_count": 39,
     "metadata": {},
     "output_type": "execute_result"
    }
   ],
   "source": [
    "batting_records['Teams'].unique().tolist()"
   ]
  },
  {
   "cell_type": "code",
   "execution_count": 40,
   "metadata": {},
   "outputs": [
    {
     "data": {
      "text/html": [
       "<div>\n",
       "<style scoped>\n",
       "    .dataframe tbody tr th:only-of-type {\n",
       "        vertical-align: middle;\n",
       "    }\n",
       "\n",
       "    .dataframe tbody tr th {\n",
       "        vertical-align: top;\n",
       "    }\n",
       "\n",
       "    .dataframe thead th {\n",
       "        text-align: right;\n",
       "    }\n",
       "</style>\n",
       "<table border=\"1\" class=\"dataframe\">\n",
       "  <thead>\n",
       "    <tr style=\"text-align: right;\">\n",
       "      <th></th>\n",
       "      <th>Player_name</th>\n",
       "      <th>Starting_year</th>\n",
       "      <th>final_year</th>\n",
       "      <th>span</th>\n",
       "      <th>Matches</th>\n",
       "      <th>Inns</th>\n",
       "      <th>NO</th>\n",
       "      <th>Runs</th>\n",
       "      <th>Highest_score</th>\n",
       "      <th>Average</th>\n",
       "      <th>Balls_faced</th>\n",
       "      <th>Strike_rate</th>\n",
       "      <th>centuries</th>\n",
       "      <th>half_centuries</th>\n",
       "      <th>conversion_rate</th>\n",
       "      <th>zeros</th>\n",
       "      <th>fours</th>\n",
       "      <th>sixes</th>\n",
       "    </tr>\n",
       "    <tr>\n",
       "      <th>Teams</th>\n",
       "      <th></th>\n",
       "      <th></th>\n",
       "      <th></th>\n",
       "      <th></th>\n",
       "      <th></th>\n",
       "      <th></th>\n",
       "      <th></th>\n",
       "      <th></th>\n",
       "      <th></th>\n",
       "      <th></th>\n",
       "      <th></th>\n",
       "      <th></th>\n",
       "      <th></th>\n",
       "      <th></th>\n",
       "      <th></th>\n",
       "      <th></th>\n",
       "      <th></th>\n",
       "      <th></th>\n",
       "    </tr>\n",
       "  </thead>\n",
       "  <tbody>\n",
       "    <tr>\n",
       "      <th>AUS</th>\n",
       "      <td>RT Ponting</td>\n",
       "      <td>1995</td>\n",
       "      <td>2012</td>\n",
       "      <td>17</td>\n",
       "      <td>375</td>\n",
       "      <td>365</td>\n",
       "      <td>39</td>\n",
       "      <td>13704</td>\n",
       "      <td>164</td>\n",
       "      <td>42.03</td>\n",
       "      <td>17046</td>\n",
       "      <td>80.39</td>\n",
       "      <td>30</td>\n",
       "      <td>82</td>\n",
       "      <td>36.585366</td>\n",
       "      <td>20</td>\n",
       "      <td>1231</td>\n",
       "      <td>162</td>\n",
       "    </tr>\n",
       "    <tr>\n",
       "      <th>BDESH</th>\n",
       "      <td>Tamim Iqbal</td>\n",
       "      <td>2007</td>\n",
       "      <td>2019</td>\n",
       "      <td>12</td>\n",
       "      <td>198</td>\n",
       "      <td>196</td>\n",
       "      <td>8</td>\n",
       "      <td>6805</td>\n",
       "      <td>154</td>\n",
       "      <td>36.19</td>\n",
       "      <td>8718</td>\n",
       "      <td>78.05</td>\n",
       "      <td>11</td>\n",
       "      <td>47</td>\n",
       "      <td>23.404255</td>\n",
       "      <td>17</td>\n",
       "      <td>745</td>\n",
       "      <td>82</td>\n",
       "    </tr>\n",
       "    <tr>\n",
       "      <th>ENG</th>\n",
       "      <td>JE Root</td>\n",
       "      <td>2013</td>\n",
       "      <td>2019</td>\n",
       "      <td>6</td>\n",
       "      <td>138</td>\n",
       "      <td>130</td>\n",
       "      <td>20</td>\n",
       "      <td>5724</td>\n",
       "      <td>133</td>\n",
       "      <td>52.03</td>\n",
       "      <td>6538</td>\n",
       "      <td>87.54</td>\n",
       "      <td>16</td>\n",
       "      <td>33</td>\n",
       "      <td>48.484848</td>\n",
       "      <td>4</td>\n",
       "      <td>462</td>\n",
       "      <td>43</td>\n",
       "    </tr>\n",
       "    <tr>\n",
       "      <th>ENGIRE</th>\n",
       "      <td>EJG Morgan</td>\n",
       "      <td>2006</td>\n",
       "      <td>2019</td>\n",
       "      <td>13</td>\n",
       "      <td>228</td>\n",
       "      <td>212</td>\n",
       "      <td>31</td>\n",
       "      <td>7247</td>\n",
       "      <td>148</td>\n",
       "      <td>40.03</td>\n",
       "      <td>7936</td>\n",
       "      <td>91.31</td>\n",
       "      <td>13</td>\n",
       "      <td>46</td>\n",
       "      <td>28.260870</td>\n",
       "      <td>15</td>\n",
       "      <td>598</td>\n",
       "      <td>211</td>\n",
       "    </tr>\n",
       "    <tr>\n",
       "      <th>INDIA</th>\n",
       "      <td>SR Tendulkar</td>\n",
       "      <td>1989</td>\n",
       "      <td>2012</td>\n",
       "      <td>23</td>\n",
       "      <td>463</td>\n",
       "      <td>452</td>\n",
       "      <td>41</td>\n",
       "      <td>18426</td>\n",
       "      <td>200</td>\n",
       "      <td>44.83</td>\n",
       "      <td>21367</td>\n",
       "      <td>86.23</td>\n",
       "      <td>49</td>\n",
       "      <td>96</td>\n",
       "      <td>51.041667</td>\n",
       "      <td>20</td>\n",
       "      <td>2016</td>\n",
       "      <td>195</td>\n",
       "    </tr>\n",
       "    <tr>\n",
       "      <th>NZ</th>\n",
       "      <td>LRPL Taylor</td>\n",
       "      <td>2006</td>\n",
       "      <td>2019</td>\n",
       "      <td>13</td>\n",
       "      <td>223</td>\n",
       "      <td>207</td>\n",
       "      <td>37</td>\n",
       "      <td>8226</td>\n",
       "      <td>181</td>\n",
       "      <td>48.38</td>\n",
       "      <td>9866</td>\n",
       "      <td>83.37</td>\n",
       "      <td>20</td>\n",
       "      <td>49</td>\n",
       "      <td>40.816327</td>\n",
       "      <td>9</td>\n",
       "      <td>687</td>\n",
       "      <td>139</td>\n",
       "    </tr>\n",
       "    <tr>\n",
       "      <th>PAK</th>\n",
       "      <td>Inzamam-ul-Haq</td>\n",
       "      <td>1991</td>\n",
       "      <td>2007</td>\n",
       "      <td>16</td>\n",
       "      <td>378</td>\n",
       "      <td>350</td>\n",
       "      <td>53</td>\n",
       "      <td>11739</td>\n",
       "      <td>137</td>\n",
       "      <td>39.52</td>\n",
       "      <td>15812</td>\n",
       "      <td>74.24</td>\n",
       "      <td>10</td>\n",
       "      <td>83</td>\n",
       "      <td>12.048193</td>\n",
       "      <td>20</td>\n",
       "      <td>971</td>\n",
       "      <td>144</td>\n",
       "    </tr>\n",
       "    <tr>\n",
       "      <th>SA</th>\n",
       "      <td>JH Kallis</td>\n",
       "      <td>1996</td>\n",
       "      <td>2014</td>\n",
       "      <td>18</td>\n",
       "      <td>328</td>\n",
       "      <td>314</td>\n",
       "      <td>53</td>\n",
       "      <td>11579</td>\n",
       "      <td>139</td>\n",
       "      <td>44.36</td>\n",
       "      <td>15885</td>\n",
       "      <td>72.89</td>\n",
       "      <td>17</td>\n",
       "      <td>86</td>\n",
       "      <td>19.767442</td>\n",
       "      <td>17</td>\n",
       "      <td>911</td>\n",
       "      <td>137</td>\n",
       "    </tr>\n",
       "    <tr>\n",
       "      <th>SL</th>\n",
       "      <td>KC Sangakkara</td>\n",
       "      <td>2000</td>\n",
       "      <td>2015</td>\n",
       "      <td>15</td>\n",
       "      <td>404</td>\n",
       "      <td>380</td>\n",
       "      <td>41</td>\n",
       "      <td>14234</td>\n",
       "      <td>169</td>\n",
       "      <td>41.98</td>\n",
       "      <td>18048</td>\n",
       "      <td>78.86</td>\n",
       "      <td>25</td>\n",
       "      <td>93</td>\n",
       "      <td>26.881720</td>\n",
       "      <td>15</td>\n",
       "      <td>1385</td>\n",
       "      <td>88</td>\n",
       "    </tr>\n",
       "    <tr>\n",
       "      <th>WI</th>\n",
       "      <td>BC Lara</td>\n",
       "      <td>1990</td>\n",
       "      <td>2007</td>\n",
       "      <td>17</td>\n",
       "      <td>299</td>\n",
       "      <td>289</td>\n",
       "      <td>32</td>\n",
       "      <td>10405</td>\n",
       "      <td>169</td>\n",
       "      <td>40.48</td>\n",
       "      <td>13086</td>\n",
       "      <td>79.51</td>\n",
       "      <td>19</td>\n",
       "      <td>63</td>\n",
       "      <td>30.158730</td>\n",
       "      <td>16</td>\n",
       "      <td>1035</td>\n",
       "      <td>133</td>\n",
       "    </tr>\n",
       "    <tr>\n",
       "      <th>ZIM</th>\n",
       "      <td>A Flower</td>\n",
       "      <td>1992</td>\n",
       "      <td>2003</td>\n",
       "      <td>11</td>\n",
       "      <td>213</td>\n",
       "      <td>208</td>\n",
       "      <td>16</td>\n",
       "      <td>6786</td>\n",
       "      <td>145</td>\n",
       "      <td>35.34</td>\n",
       "      <td>9097</td>\n",
       "      <td>74.59</td>\n",
       "      <td>4</td>\n",
       "      <td>55</td>\n",
       "      <td>7.272727</td>\n",
       "      <td>13</td>\n",
       "      <td>532</td>\n",
       "      <td>26</td>\n",
       "    </tr>\n",
       "  </tbody>\n",
       "</table>\n",
       "</div>"
      ],
      "text/plain": [
       "            Player_name  Starting_year  final_year  span Matches  Inns  NO  \\\n",
       "Teams                                                                        \n",
       "AUS         RT Ponting            1995        2012    17     375   365  39   \n",
       "BDESH      Tamim Iqbal            2007        2019    12     198   196   8   \n",
       "ENG            JE Root            2013        2019     6     138   130  20   \n",
       "ENGIRE      EJG Morgan            2006        2019    13     228   212  31   \n",
       "INDIA     SR Tendulkar            1989        2012    23     463   452  41   \n",
       "NZ         LRPL Taylor            2006        2019    13     223   207  37   \n",
       "PAK     Inzamam-ul-Haq            1991        2007    16     378   350  53   \n",
       "SA           JH Kallis            1996        2014    18     328   314  53   \n",
       "SL       KC Sangakkara            2000        2015    15     404   380  41   \n",
       "WI             BC Lara            1990        2007    17     299   289  32   \n",
       "ZIM           A Flower            1992        2003    11     213   208  16   \n",
       "\n",
       "         Runs  Highest_score  Average  Balls_faced  Strike_rate  centuries  \\\n",
       "Teams                                                                        \n",
       "AUS     13704            164    42.03        17046        80.39         30   \n",
       "BDESH    6805            154    36.19         8718        78.05         11   \n",
       "ENG      5724            133    52.03         6538        87.54         16   \n",
       "ENGIRE   7247            148    40.03         7936        91.31         13   \n",
       "INDIA   18426            200    44.83        21367        86.23         49   \n",
       "NZ       8226            181    48.38         9866        83.37         20   \n",
       "PAK     11739            137    39.52        15812        74.24         10   \n",
       "SA      11579            139    44.36        15885        72.89         17   \n",
       "SL      14234            169    41.98        18048        78.86         25   \n",
       "WI      10405            169    40.48        13086        79.51         19   \n",
       "ZIM      6786            145    35.34         9097        74.59          4   \n",
       "\n",
       "        half_centuries  conversion_rate  zeros  fours  sixes  \n",
       "Teams                                                         \n",
       "AUS                 82        36.585366     20   1231    162  \n",
       "BDESH               47        23.404255     17    745     82  \n",
       "ENG                 33        48.484848      4    462     43  \n",
       "ENGIRE              46        28.260870     15    598    211  \n",
       "INDIA               96        51.041667     20   2016    195  \n",
       "NZ                  49        40.816327      9    687    139  \n",
       "PAK                 83        12.048193     20    971    144  \n",
       "SA                  86        19.767442     17    911    137  \n",
       "SL                  93        26.881720     15   1385     88  \n",
       "WI                  63        30.158730     16   1035    133  \n",
       "ZIM                 55         7.272727     13    532     26  "
      ]
     },
     "execution_count": 40,
     "metadata": {},
     "output_type": "execute_result"
    }
   ],
   "source": [
    "new_data_frame = batting_records.groupby('Teams')\n",
    "new_data_frame.first()"
   ]
  },
  {
   "cell_type": "markdown",
   "metadata": {},
   "source": [
    "<h5> best conversion rate </h5>"
   ]
  },
  {
   "cell_type": "code",
   "execution_count": 42,
   "metadata": {},
   "outputs": [
    {
     "data": {
      "text/html": [
       "<div>\n",
       "<style scoped>\n",
       "    .dataframe tbody tr th:only-of-type {\n",
       "        vertical-align: middle;\n",
       "    }\n",
       "\n",
       "    .dataframe tbody tr th {\n",
       "        vertical-align: top;\n",
       "    }\n",
       "\n",
       "    .dataframe thead th {\n",
       "        text-align: right;\n",
       "    }\n",
       "</style>\n",
       "<table border=\"1\" class=\"dataframe\">\n",
       "  <thead>\n",
       "    <tr style=\"text-align: right;\">\n",
       "      <th></th>\n",
       "      <th>Player_name</th>\n",
       "      <th>centuries</th>\n",
       "      <th>half_centuries</th>\n",
       "      <th>conversion_rate</th>\n",
       "    </tr>\n",
       "  </thead>\n",
       "  <tbody>\n",
       "    <tr>\n",
       "      <th>8</th>\n",
       "      <td>V Kohli</td>\n",
       "      <td>41.0</td>\n",
       "      <td>52.0</td>\n",
       "      <td>78.846154</td>\n",
       "    </tr>\n",
       "  </tbody>\n",
       "</table>\n",
       "</div>"
      ],
      "text/plain": [
       "  Player_name  centuries  half_centuries  conversion_rate\n",
       "8    V Kohli        41.0            52.0        78.846154"
      ]
     },
     "execution_count": 42,
     "metadata": {},
     "output_type": "execute_result"
    }
   ],
   "source": [
    "conversion_rate = batting_records[['Player_name','centuries','half_centuries','conversion_rate']].where(batting_records['conversion_rate'] == batting_records['conversion_rate'].max())\n",
    "conversion_rate.dropna()                                                                                                                                                                                                                               "
   ]
  },
  {
   "cell_type": "code",
   "execution_count": null,
   "metadata": {},
   "outputs": [],
   "source": []
  }
 ],
 "metadata": {
  "kernelspec": {
   "display_name": "Python 3",
   "language": "python",
   "name": "python3"
  },
  "language_info": {
   "codemirror_mode": {
    "name": "ipython",
    "version": 3
   },
   "file_extension": ".py",
   "mimetype": "text/x-python",
   "name": "python",
   "nbconvert_exporter": "python",
   "pygments_lexer": "ipython3",
   "version": "3.7.0"
  }
 },
 "nbformat": 4,
 "nbformat_minor": 2
}
